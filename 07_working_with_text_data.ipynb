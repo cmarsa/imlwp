{
 "cells": [
  {
   "cell_type": "markdown",
   "metadata": {},
   "source": [
    "# 07 __Working with text data__"
   ]
  },
  {
   "cell_type": "markdown",
   "metadata": {},
   "source": [
    "There are four kinds of string data you might see:\n",
    " - Categorical data\n",
    " - Free strings that can be semantically mapped to categories\n",
    " - Structures string data\n",
    " - Text data"
   ]
  },
  {
   "cell_type": "markdown",
   "metadata": {},
   "source": [
    "Categorical data is data that comes from a fixed list. Say you collect data via a survey\n",
    "where you ask people their favorite color, with a drop-down menu that allows them\n",
    "to select from “red,” “green,” “blue,” “yellow,” “black,” “white,” “purple,” and “pink.”\n",
    "This will result in a dataset with exactly eight different possible values, which clearly\n",
    "encode a categorical variable. You can check whether this is the case for your data by\n",
    "eyeballing it (if you see very many different strings it is unlikely that this is a categorical variable) and confirm it by computing the unique values over the dataset, and\n",
    "possibly a histogram over how often each appears. You also might want to check\n",
    "whether each variable actually corresponds to a category that makes sense for your\n",
    "application. Maybe halfway through the existence of your survey, someone found that\n",
    "“black” was misspelled as “blak” and subsequently fixed the survey. As a result, your\n",
    "dataset contains both “blak” and “black,” which correspond to the same semantic\n",
    "meaning and should be consolidated."
   ]
  },
  {
   "cell_type": "markdown",
   "metadata": {},
   "source": [
    "Now imagine instead of providing a drop-down menu, you provide a text field for the\n",
    "users to provide their own favorite colors. Many people might respond with a color\n",
    "name like “black” or “blue.” Others might make typographical errors, use different\n",
    "spellings like “gray” and “grey,” or use more evocative and specific names like\n",
    "“midnight blue.” You will also have some very strange entries. Some good examples come\n",
    "from the xkcd Color Survey, where people had to name colors and came up with\n",
    "names like “velociraptor cloaka” and “my dentist’s office orange. I still remember his\n",
    "dandruff slowly wafting into my gaping yaw,” which are hard to map to colors auto‐\n",
    "matically (or at all). The responses you can obtain from a text field belong to the\n",
    "second category in the list, free strings that can be semantically mapped to categories. It will probably be best to encode this data as a categorical variable, where you can\n",
    "select the categories either by using the most common entries, or by defining\n",
    "categories that will capture responses in a way that makes sense for your application. You\n",
    "might then have some categories for standard colors, maybe a category\n",
    "“multicolored” for people that gave answers like “green and red stripes,” and an “other” category for things that cannot be encoded otherwise. This kind of preprocessing of\n",
    "strings can take a lot of manual effort and is not easily automated. If you are in a position where you can influence data collection, we highly recommend avoiding manually entered values for concepts that are better captured using categorical variables."
   ]
  },
  {
   "cell_type": "markdown",
   "metadata": {},
   "source": [
    "Often, manually entered values do not correspond to fixed categories, but still have\n",
    "some underlying structure, like addresses, names of places or people, dates, telephone\n",
    "numbers, or other identifiers. These kinds of strings are often very hard to parse, and\n",
    "their treatment is highly dependent on context and domain."
   ]
  },
  {
   "cell_type": "markdown",
   "metadata": {},
   "source": [
    "The final category of string data is freeform text data that consists of phrases or sentences. Examples include tweets, chat logs, and hotel reviews, as well as the collected\n",
    "works of Shakespeare, the content of Wikipedia, or the Project Gutenberg collection\n",
    "of 50,000 ebooks. All of these collections contain information mostly as sentences\n",
    "composed of words. 1 For simplicity’s sake, let’s assume all our documents are in one\n",
    "language, English. 2 In the context of text analysis, the dataset is often called the corpus, and each data point, represented as a single text, is called a document. These\n",
    "terms come from the information retrieval (IR) and natural language processing (NLP)\n",
    "community, which both deal mostly in text data."
   ]
  },
  {
   "cell_type": "markdown",
   "metadata": {},
   "source": [
    "## __Example Application: Sentiment Analysis of Moview Reviews__"
   ]
  },
  {
   "cell_type": "markdown",
   "metadata": {},
   "source": [
    "As a running example in this chapter, we will use a dataset of movie reviews from the\n",
    "IMDb (Internet Movie Database) website collected by Stanford researcher Andrew\n",
    "Maas. This dataset contains the text of the reviews, together with a label that indicates whether a review is “positive” or “negative.” The IMDb website itself contains\n",
    "ratings from 1 to 10. To simplify the modeling, this annotation is summarized as a\n",
    "two-class classification dataset where reviews with a score of 6 or higher are labeled as\n",
    "positive, and the rest as negative. We will leave the question of whether this is a good\n",
    "representation of the data open, and simply use the data as provided by Andrew\n",
    "Maas."
   ]
  },
  {
   "cell_type": "markdown",
   "metadata": {},
   "source": [
    "After unpacking the data, the dataset is provided as text files in two separate folders,\n",
    "one for the training data and one for the test data. Each of these in turn has two subfolders, one called pos and one called neg:"
   ]
  },
  {
   "cell_type": "code",
   "execution_count": 1,
   "metadata": {},
   "outputs": [
    {
     "name": "stdout",
     "output_type": "stream",
     "text": [
      "\u001b[01;34minput/aclImdb/\u001b[00m\n",
      "├── imdbEr.txt\n",
      "├── imdb.vocab\n",
      "├── README\n",
      "├── \u001b[01;34mtest\u001b[00m\n",
      "│   ├── labeledBow.feat\n",
      "│   ├── \u001b[01;34mneg\u001b[00m\n",
      "│   ├── \u001b[01;34mpos\u001b[00m\n",
      "│   ├── urls_neg.txt\n",
      "│   └── urls_pos.txt\n",
      "└── \u001b[01;34mtrain\u001b[00m\n",
      "    ├── labeledBow.feat\n",
      "    ├── \u001b[01;34mneg\u001b[00m\n",
      "    ├── \u001b[01;34mpos\u001b[00m\n",
      "    ├── \u001b[01;34munsup\u001b[00m\n",
      "    ├── unsupBow.feat\n",
      "    ├── urls_neg.txt\n",
      "    ├── urls_pos.txt\n",
      "    └── urls_unsup.txt\n",
      "\n",
      "7 directories, 11 files\n"
     ]
    }
   ],
   "source": [
    "!tree -L 2 input/aclImdb/"
   ]
  },
  {
   "cell_type": "markdown",
   "metadata": {},
   "source": [
    "The pos folder contains all the positive reviews, each as a separate text file, and simi‐\n",
    "larly for the neg folder. There is a helper function in `scikit-learn` to load files stored\n",
    "in such a folder structure, where each subfolder corresponds to a label, called\n",
    "`load_files` . We apply the `load_files` function first to the training data:"
   ]
  },
  {
   "cell_type": "code",
   "execution_count": 2,
   "metadata": {},
   "outputs": [],
   "source": [
    "from sklearn.datasets import load_files\n",
    "\n",
    "reviews_train = load_files('input/aclImdb/train/')\n",
    "\n",
    "# load files returns a bunch, containing texts and training labels\n",
    "text_train, y_train = reviews_train.data[:8000], reviews_train.target[:8000]"
   ]
  },
  {
   "cell_type": "code",
   "execution_count": 3,
   "metadata": {},
   "outputs": [
    {
     "name": "stdout",
     "output_type": "stream",
     "text": [
      "type of text_train: <class 'list'>\n",
      "length of text_train: 8000\n",
      "text_train[1]:\n",
      "b\"Amount of disappointment I am getting these days seeing movies like Partner, Jhoom Barabar and now, Heyy Babyy is gonna end my habit of seeing first day shows.<br /><br />The movie is an utter disappointment because it had the potential to become a laugh riot only if the d\\xc3\\xa9butant director, Sajid Khan hadn't tried too many things. Only saving grace in the movie were the last thirty minutes, which were seriously funny elsewhere the movie fails miserably. First half was desperately been tried to look funny but wasn't. Next 45 minutes were emotional and looked totally artificial and illogical.<br /><br />OK, when you are out for a movie like this you don't expect much logic but all the flaws tend to appear when you don't enjoy the movie and thats the case with Heyy Babyy. Acting is good but thats not enough to keep one interested.<br /><br />For the positives, you can take hot actresses, last 30 minutes, some comic scenes, good acting by the lead cast and the baby. Only problem is that these things do not come together properly to make a good movie.<br /><br />Anyways, I read somewhere that It isn't a copy of Three men and a baby but I think it would have been better if it was.\"\n"
     ]
    }
   ],
   "source": [
    "print(f'type of text_train: {type(text_train)}')\n",
    "print(f'length of text_train: {len(text_train)}')\n",
    "print(f'text_train[1]:\\n{text_train[1]}')"
   ]
  },
  {
   "cell_type": "markdown",
   "metadata": {},
   "source": [
    "You can see that text_train is a list of length 25,000, where each entry is a string\n",
    "containing a review. We printed the review with index 1. You can also see that the\n",
    "review contains some HTML line breaks ( <br /> ). While these are unlikely to have a\n",
    "large impact on our machine learning models, it is better to clean the data and\n",
    "remove this formatting before we proceed:"
   ]
  },
  {
   "cell_type": "code",
   "execution_count": 4,
   "metadata": {},
   "outputs": [],
   "source": [
    "text_train = [doc.replace(b'<br />', b' ') for doc in text_train]"
   ]
  },
  {
   "cell_type": "code",
   "execution_count": 5,
   "metadata": {},
   "outputs": [
    {
     "name": "stdout",
     "output_type": "stream",
     "text": [
      "samples per class (training): [1334 1250 5416]\n"
     ]
    }
   ],
   "source": [
    "# we have a balanced dataset\n",
    "import numpy as np\n",
    "print(f'samples per class (training): {np.bincount(y_train)}')"
   ]
  },
  {
   "cell_type": "markdown",
   "metadata": {},
   "source": [
    "### As of this date, Jun 2020, the dataset aclImdb test dir contains 3 classes"
   ]
  },
  {
   "cell_type": "markdown",
   "metadata": {},
   "source": [
    "The task we want to solve is as follows: given a review, we want to assign the label\n",
    "“positive” or “negative” based on the text content of the review. This is a standard\n",
    "binary classification task. However, the text data is not in a format that a machine\n",
    "learning model can handle. We need to convert the string representation of the text\n",
    "into a numeric representation that we can apply our machine learning algorithms to."
   ]
  },
  {
   "cell_type": "markdown",
   "metadata": {},
   "source": [
    "## __Representing Text Data as a Bag of Words__"
   ]
  },
  {
   "cell_type": "markdown",
   "metadata": {},
   "source": [
    "One of the most simple but effective and commonly used ways to represent text for\n",
    "machine learning is using the bag-of-words representation. When using this\n",
    "representation, we discard most of the structure of the input text, like chapters, paragraphs,\n",
    "sentences, and formatting, and only count how often each word appears in each text in\n",
    "the corpus. Discarding the structure and counting only word occurrences leads to the\n",
    "mental image of representing text as a “bag.”"
   ]
  },
  {
   "cell_type": "markdown",
   "metadata": {},
   "source": [
    "Computing the bag-of-words representation for a corpus of documents consists of\n",
    "the following three steps:\n",
    "\n",
    "1. _Tokenization_: Split each document into the words that appear in it\n",
    "   (called _tokens_), for example by splitting them on whitespace and punctuation.\n",
    "2. _Vocabulary building_. Collect a vocabulary of all words that appear in\n",
    "   any of the documents, and number them (say, in alphabetical order)\n",
    "3. _Encoding_: For each document, count how often each of the words in the\n",
    "   vocabulary appear in this document."
   ]
  },
  {
   "cell_type": "code",
   "execution_count": 6,
   "metadata": {},
   "outputs": [],
   "source": [
    "# apply bag-of-words to a Toy dataset\n",
    "# this is implemented in CountVectorizer\n",
    "bards_words = [\n",
    "    'the fool doth think he is wise,',\n",
    "    'but the wise man knows himself to be a fool.'\n",
    "]"
   ]
  },
  {
   "cell_type": "code",
   "execution_count": 7,
   "metadata": {},
   "outputs": [
    {
     "data": {
      "text/plain": [
       "CountVectorizer(analyzer='word', binary=False, decode_error='strict',\n",
       "                dtype=<class 'numpy.int64'>, encoding='utf-8', input='content',\n",
       "                lowercase=True, max_df=1.0, max_features=None, min_df=1,\n",
       "                ngram_range=(1, 1), preprocessor=None, stop_words=None,\n",
       "                strip_accents=None, token_pattern='(?u)\\\\b\\\\w\\\\w+\\\\b',\n",
       "                tokenizer=None, vocabulary=None)"
      ]
     },
     "execution_count": 7,
     "metadata": {},
     "output_type": "execute_result"
    }
   ],
   "source": [
    "from sklearn.feature_extraction.text import CountVectorizer\n",
    "vect = CountVectorizer()\n",
    "vect.fit(bards_words)"
   ]
  },
  {
   "cell_type": "code",
   "execution_count": 8,
   "metadata": {},
   "outputs": [
    {
     "name": "stdout",
     "output_type": "stream",
     "text": [
      "Vocabulary size: 13\n",
      "Voocabulary content:\n",
      "{'the': 9, 'fool': 3, 'doth': 2, 'think': 10, 'he': 4, 'is': 6, 'wise': 12, 'but': 1, 'man': 8, 'knows': 7, 'himself': 5, 'to': 11, 'be': 0}\n"
     ]
    }
   ],
   "source": [
    "# fitting the CountVectorizer consists of the\n",
    "# tokenization of the training data and building\n",
    "# of the vocabulary, which we can access as the\n",
    "# vocabulary_ attribute\n",
    "print(f'Vocabulary size: {len(vect.vocabulary_)}')\n",
    "print(f'Voocabulary content:\\n{vect.vocabulary_}')"
   ]
  },
  {
   "cell_type": "code",
   "execution_count": 9,
   "metadata": {},
   "outputs": [
    {
     "name": "stdout",
     "output_type": "stream",
     "text": [
      "bag_of_words: <2x13 sparse matrix of type '<class 'numpy.int64'>'\n",
      "\twith 16 stored elements in Compressed Sparse Row format>\n"
     ]
    }
   ],
   "source": [
    "bag_of_words = vect.transform(bards_words)\n",
    "\n",
    "print(f'bag_of_words: {repr(bag_of_words)}')"
   ]
  },
  {
   "cell_type": "markdown",
   "metadata": {},
   "source": [
    "To look at the actual content of the sparse matrix, we can convert it to a “dense” NumPy array (that also stores\n",
    "all the 0 entries) using the toarray method:"
   ]
  },
  {
   "cell_type": "code",
   "execution_count": 10,
   "metadata": {},
   "outputs": [
    {
     "name": "stdout",
     "output_type": "stream",
     "text": [
      "dense representation of bag_of_words:\n",
      "[[0 0 1 1 1 0 1 0 0 1 1 0 1]\n",
      " [1 1 0 1 0 1 0 1 1 1 0 1 1]]\n"
     ]
    }
   ],
   "source": [
    "print(f'dense representation of bag_of_words:\\n{bag_of_words.toarray()}')"
   ]
  },
  {
   "cell_type": "markdown",
   "metadata": {},
   "source": [
    "### Bag of Words for Movie Reviews"
   ]
  },
  {
   "cell_type": "code",
   "execution_count": 11,
   "metadata": {},
   "outputs": [
    {
     "name": "stdout",
     "output_type": "stream",
     "text": [
      "X_train:\n",
      "<8000x48192 sparse matrix of type '<class 'numpy.int64'>'\n",
      "\twith 1099075 stored elements in Compressed Sparse Row format>\n"
     ]
    }
   ],
   "source": [
    "vect = CountVectorizer().fit(text_train)\n",
    "X_train = vect.transform(text_train)\n",
    "\n",
    "print(f'X_train:\\n{repr(X_train)}')"
   ]
  },
  {
   "cell_type": "code",
   "execution_count": 12,
   "metadata": {},
   "outputs": [
    {
     "name": "stdout",
     "output_type": "stream",
     "text": [
      "Number of features: 48192\n",
      "First 20 features:\n",
      "['00', '000', '0000000000001', '000000001', '00000001', '001', '002', '003', '004', '005', '006', '007', '008', '00pm', '00s', '01', '02', '020410', '03', '04']\n",
      "Features 20010 to 20030:\n",
      "['hmmmm', 'hmmmmmmmm', 'hmnzs', 'hmos', 'hmph', 'hms', 'hmv', 'ho', 'hoagy', 'hoanzl', 'hoards', 'hoary', 'hoax', 'hobart', 'hobbes', 'hobbies', 'hobbit', 'hobbiton', 'hobbits', 'hobble']\n",
      "Every 2000th feature:\n",
      "['00', 'anachronisms', 'bbq', 'buffaloes', 'clayburgh', 'critiques', 'discarding', 'endorsed', 'flag', 'goldminers', 'hiv', 'intermingling', 'kurosawas', 'maintain', 'momentum', 'odium', 'phoenicians', 'puss', 'ridget', 'serb', 'spank', 'swung', 'trilogies', 'vigo', 'zarindast']\n"
     ]
    }
   ],
   "source": [
    "# the vocabulary conains 124255 entries\n",
    "# let's take a closer look\n",
    "feature_names = vect.get_feature_names()\n",
    "print(f'Number of features: {len(feature_names)}')\n",
    "print(f'First 20 features:\\n{feature_names[:20]}')\n",
    "print(f'Features 20010 to 20030:\\n{feature_names[20010:20030]}')\n",
    "print(f'Every 2000th feature:\\n{feature_names[::2000]}')"
   ]
  },
  {
   "cell_type": "markdown",
   "metadata": {},
   "source": [
    "All these numbers appear somewhere in the reviews, and are therefore\n",
    "extracted as words. Most of these numbers don’t have any immediate semantic\n",
    "meaning—apart from \"007\" , which in the particular context of movies is likely to refer to\n",
    "the James Bond character. 5 Weeding out the meaningful from the nonmeaningful\n",
    "“words” is sometimes tricky. Looking further along in the vocabulary, we find a\n",
    "collection of English words starting with “dra”. You might notice that for \"draught\" ,\n",
    "\"drawback\" , and \"drawer\" both the singular and plural forms are contained in the\n",
    "vocabulary as distinct words. These words have very closely related semantic\n",
    "meanings, and counting them as different words, corresponding to different features,\n",
    "might not be ideal."
   ]
  },
  {
   "cell_type": "markdown",
   "metadata": {},
   "source": [
    "Before we try to improve our feature extraction, let’s obtain a quantitative measure of\n",
    "performance by actually building a classifier. We have the training labels stored in\n",
    "`y_train` and the bag-of-words representation of the training data in `X_train` , so we\n",
    "can train a classifier on this data. For high-dimensional, sparse data like this, linear\n",
    "models like LogisticRegression often work best."
   ]
  },
  {
   "cell_type": "code",
   "execution_count": 13,
   "metadata": {},
   "outputs": [
    {
     "name": "stderr",
     "output_type": "stream",
     "text": [
      "[Parallel(n_jobs=-1)]: Using backend LokyBackend with 8 concurrent workers.\n",
      "[Parallel(n_jobs=-1)]: Done   2 out of   5 | elapsed:  1.1min remaining:  1.6min\n",
      "[Parallel(n_jobs=-1)]: Done   5 out of   5 | elapsed:  1.1min remaining:    0.0s\n",
      "[Parallel(n_jobs=-1)]: Done   5 out of   5 | elapsed:  1.1min finished\n"
     ]
    }
   ],
   "source": [
    "# let's start by evaluating LogisticRegression using cv\n",
    "from sklearn.model_selection import cross_val_score\n",
    "from sklearn.linear_model import LogisticRegression\n",
    "\n",
    "scores = cross_val_score(\n",
    "    LogisticRegression(max_iter = 3000), X_train, y_train, cv = 5, n_jobs = -1, verbose = 2\n",
    ")"
   ]
  },
  {
   "cell_type": "code",
   "execution_count": 14,
   "metadata": {},
   "outputs": [
    {
     "name": "stdout",
     "output_type": "stream",
     "text": [
      "Mean cross-validation accuracy: 0.61\n"
     ]
    }
   ],
   "source": [
    "print(f'Mean cross-validation accuracy: {np.mean(scores):.2f}')"
   ]
  },
  {
   "cell_type": "markdown",
   "metadata": {},
   "source": [
    "We know that LogisticRegression\n",
    "has a regularization parameter, C , which we can tune via cross-validation:"
   ]
  },
  {
   "cell_type": "code",
   "execution_count": 15,
   "metadata": {},
   "outputs": [
    {
     "name": "stderr",
     "output_type": "stream",
     "text": [
      "[Parallel(n_jobs=8)]: Using backend LokyBackend with 8 concurrent workers.\n"
     ]
    },
    {
     "name": "stdout",
     "output_type": "stream",
     "text": [
      "Fitting 5 folds for each of 5 candidates, totalling 25 fits\n"
     ]
    },
    {
     "name": "stderr",
     "output_type": "stream",
     "text": [
      "[Parallel(n_jobs=8)]: Done  23 out of  25 | elapsed:  4.3min remaining:   22.2s\n",
      "[Parallel(n_jobs=8)]: Done  25 out of  25 | elapsed:  4.5min finished\n"
     ]
    },
    {
     "name": "stdout",
     "output_type": "stream",
     "text": [
      "best cross-validation score: 0.68\n",
      "best params:  {'C': 0.001}\n"
     ]
    }
   ],
   "source": [
    "from sklearn.model_selection import GridSearchCV\n",
    "\n",
    "param_grid = {\n",
    "    'C': [0.001, 0.01, 0.1, 1, 10]\n",
    "}\n",
    "\n",
    "grid = GridSearchCV(LogisticRegression(max_iter = 3000), param_grid, cv = 5, n_jobs = 8, verbose = 2)\n",
    "grid.fit(X_train, y_train)\n",
    "\n",
    "print(f'best cross-validation score: {grid.best_score_:.2f}')\n",
    "print(f'best params: ', grid.best_params_)"
   ]
  },
  {
   "cell_type": "markdown",
   "metadata": {},
   "source": [
    "We can now assess the generalization performance of this parameter setting on the test set:"
   ]
  },
  {
   "cell_type": "code",
   "execution_count": 16,
   "metadata": {},
   "outputs": [],
   "source": [
    "reviews_test = load_files('input/aclImdb/test/')\n",
    "\n",
    "# load files returns a bunch, containing texts and training labels\n",
    "text_test, y_test = reviews_test.data, reviews_test.target"
   ]
  },
  {
   "cell_type": "code",
   "execution_count": 17,
   "metadata": {},
   "outputs": [],
   "source": [
    "X_test = vect.transform(text_test)"
   ]
  },
  {
   "cell_type": "code",
   "execution_count": 18,
   "metadata": {},
   "outputs": [
    {
     "name": "stdout",
     "output_type": "stream",
     "text": [
      "0.01\n"
     ]
    }
   ],
   "source": [
    "print(f'{grid.score(X_test, y_test):.2f}')"
   ]
  },
  {
   "cell_type": "markdown",
   "metadata": {},
   "source": [
    "Now, let’s see if we can improve the extraction of words. The CountVectorizer\n",
    "extracts tokens using a regular expression. By default, the regular expression that is\n",
    "used is `\"\\b\\w\\w+\\b\"` . If you are not familiar with regular expressions, this means it\n",
    "finds all sequences of characters that consist of at least two letters or numbers (`\\w`)\n",
    "and that are separated by word boundaries ( `\\b` ). It does not find single-letter words,\n",
    "and it splits up contractions like “doesn’t” or “bit.ly”, but it matches “h8ter” as a single\n",
    "word. The CountVectorizer then converts all words to lowercase characters, so that\n",
    "“soon”, “Soon”, and “sOon” all correspond to the same token (and therefore feature).\n",
    "This simple mechanism works quite well in practice, but as we saw earlier, we get\n",
    "many uninformative features (like the numbers). One way to cut back on these is to\n",
    "only use tokens that appear in at least two documents (or at least five documents, and\n",
    "so on). A token that appears only in a single document is unlikely to appear in the test\n",
    "set and is therefore not helpful. We can set the minimum number of documents a\n",
    "token needs to appear in with the `min_df` parameter:"
   ]
  },
  {
   "cell_type": "code",
   "execution_count": 19,
   "metadata": {},
   "outputs": [
    {
     "name": "stdout",
     "output_type": "stream",
     "text": [
      "X_train with min_df: <8000x14970 sparse matrix of type '<class 'numpy.int64'>'\n",
      "\twith 1044943 stored elements in Compressed Sparse Row format>\n"
     ]
    }
   ],
   "source": [
    "vect = CountVectorizer(min_df = 5).fit(text_train)\n",
    "X_train = vect.transform(text_train)\n",
    "\n",
    "print(f'X_train with min_df: {repr(X_train)}')"
   ]
  },
  {
   "cell_type": "code",
   "execution_count": 20,
   "metadata": {},
   "outputs": [],
   "source": [
    "feature_names = vect.get_feature_names()"
   ]
  },
  {
   "cell_type": "code",
   "execution_count": 21,
   "metadata": {},
   "outputs": [
    {
     "name": "stdout",
     "output_type": "stream",
     "text": [
      "first 50 features:\n",
      "['00', '000', '007', '01', '05', '06', '07', '10', '100', '1000', '101', '11', '110', '11th', '12', '12th', '13', '13th', '14', '15', '150', '16', '16th', '17', '18', '180', '1800s', '1850', '18th', '19', '1912', '1914', '1915', '1916', '1919', '1920', '1920s', '1925', '1927', '1928', '1929', '1930', '1930s', '1931', '1932', '1933', '1934', '1935', '1936', '1937']\n",
      "features 20010 to 20030:\n",
      "[]\n",
      "every 700th feature:\n",
      "['00', 'ang', 'belong', 'capt', 'compassion', 'dazzling', 'dress', 'exploding', 'funny', 'heartbreaking', 'inside', 'leaf', 'medication', 'noon', 'perverts', 'purposeful', 'rhames', 'share', 'stacy', 'tells', 'unemotional', 'willing']\n"
     ]
    }
   ],
   "source": [
    "print(f'first 50 features:\\n{feature_names[:50]}')\n",
    "print(f'features 20010 to 20030:\\n{feature_names[20010:20030]}')\n",
    "print(f'every 700th feature:\\n{feature_names[::700]}')"
   ]
  },
  {
   "cell_type": "markdown",
   "metadata": {},
   "source": [
    "There are clearly many fewer numbers, and some of the more obscure words or mis‐\n",
    "spellings seem to have vanished. Let’s see how well our model performs by doing a\n",
    "grid search again:"
   ]
  },
  {
   "cell_type": "code",
   "execution_count": 22,
   "metadata": {},
   "outputs": [
    {
     "name": "stdout",
     "output_type": "stream",
     "text": [
      "Fitting 5 folds for each of 5 candidates, totalling 25 fits\n"
     ]
    },
    {
     "name": "stderr",
     "output_type": "stream",
     "text": [
      "[Parallel(n_jobs=-1)]: Using backend LokyBackend with 8 concurrent workers.\n",
      "[Parallel(n_jobs=-1)]: Done  23 out of  25 | elapsed:  1.3min remaining:    6.8s\n",
      "[Parallel(n_jobs=-1)]: Done  25 out of  25 | elapsed:  1.4min finished\n"
     ]
    },
    {
     "name": "stdout",
     "output_type": "stream",
     "text": [
      "Best cross-validation score: 0.68\n"
     ]
    }
   ],
   "source": [
    "grid = GridSearchCV(LogisticRegression(max_iter = 3000), param_grid, cv = 5, verbose = 2, n_jobs = -1)\n",
    "grid.fit(X_train, y_train)\n",
    "\n",
    "print(f'Best cross-validation score: {grid.best_score_:.2f}')"
   ]
  },
  {
   "cell_type": "code",
   "execution_count": null,
   "metadata": {},
   "outputs": [],
   "source": []
  },
  {
   "cell_type": "markdown",
   "metadata": {},
   "source": [
    "## Stopwords\n",
    "Another way that we can get rid of uninformative words is by discarding words that\n",
    "are too frequent to be informative. There are two main approaches: using a `language-specific`\n",
    "list of stopwords, or discarding words that appear too frequently. `scikit-learn`\n",
    "has a built-in list of English stopwords in the `feature_extraction.text`\n",
    "module:"
   ]
  },
  {
   "cell_type": "code",
   "execution_count": 23,
   "metadata": {},
   "outputs": [
    {
     "name": "stdout",
     "output_type": "stream",
     "text": [
      "Number of stop words: 318\n",
      "Every 10th stopwords:\n",
      "['amount', 'or', 'twenty', 'down', 'we', 'be', 'at', 'there', 'hereafter', 'ours', 'them', 'hasnt', 'somehow', 'whereafter', 'three', 'anywhere', 'thereupon', 'others', 'so', 'hereupon', 'whom', 'fifteen', 'mostly', 'she', 'is', 'fifty', 'any', 'your', 'for', 'both', 'becomes', 'whose']\n"
     ]
    }
   ],
   "source": [
    "from sklearn.feature_extraction.text import ENGLISH_STOP_WORDS\n",
    "print(f'Number of stop words: {len(ENGLISH_STOP_WORDS)}')\n",
    "print(f'Every 10th stopwords:\\n{list(ENGLISH_STOP_WORDS)[::10]}')"
   ]
  },
  {
   "cell_type": "markdown",
   "metadata": {},
   "source": [
    "Clearly, removing the stopwords in the list can only decrease the number of features\n",
    "by the length of the list—here, 318—but it might lead to an improvement in performance. Let’s give it a try:"
   ]
  },
  {
   "cell_type": "code",
   "execution_count": 24,
   "metadata": {},
   "outputs": [
    {
     "name": "stdout",
     "output_type": "stream",
     "text": [
      "X_train with stop worsd:\n",
      "<8000x14671 sparse matrix of type '<class 'numpy.int64'>'\n",
      "\twith 659920 stored elements in Compressed Sparse Row format>\n"
     ]
    }
   ],
   "source": [
    "# specify stop_words = 'english' uses the built-in list\n",
    "# we could also augment it and pass our own\n",
    "vect = CountVectorizer(min_df = 5, stop_words = 'english').fit(text_train)\n",
    "X_train = vect.transform(text_train)\n",
    "print(f'X_train with stop worsd:\\n{repr(X_train)}')"
   ]
  },
  {
   "cell_type": "code",
   "execution_count": 46,
   "metadata": {},
   "outputs": [
    {
     "name": "stdout",
     "output_type": "stream",
     "text": [
      "Best cross-validation score: 0.68\n"
     ]
    }
   ],
   "source": [
    "# there ate fewer features in the dataset, which means that\n",
    "# most, but not all, of the stopwords appeared.\n",
    "# let0s run the grid search again\n",
    "grid = GridSearchCV(LogisticRegression(max_iter = 3000), param_grid, cv = 5)\n",
    "grid.fit(X_train, y_train)\n",
    "print(f'Best cross-validation score: {grid.best_score_:.2f}')"
   ]
  },
  {
   "cell_type": "code",
   "execution_count": null,
   "metadata": {},
   "outputs": [],
   "source": []
  },
  {
   "cell_type": "markdown",
   "metadata": {},
   "source": [
    "## __Rescaling the Data with tf–idf__"
   ]
  },
  {
   "cell_type": "markdown",
   "metadata": {},
   "source": [
    "Instead of dropping features that are deemed unimportant, another approach is to\n",
    "rescale features by how informative we expect them to be. One of the most common\n",
    "ways to do this is using the term frequency–inverse document frequency (tf–idf)\n",
    "method. The intuition of this method is to give high weight to any term that appears\n",
    "often in a particular document, but not in many documents in the corpus.\n",
    "\n",
    "If a word\n",
    "appears often in a particular document, but not in very many documents, it is likely\n",
    "to be very descriptive of the content of that document. scikit-learn implements the\n",
    "tf–idf method in two classes: TfidfTransformer , which takes in the sparse matrix\n",
    "output produced by CountVectorizer and transforms it, and TfidfVectorizer ,\n",
    "which takes in the text data and does both the bag-of-words feature extraction and\n",
    "the tf–idf transformation."
   ]
  },
  {
   "cell_type": "markdown",
   "metadata": {},
   "source": [
    "The tf–idf score for word w in document d\n",
    "as implemented in both the TfidfTransformer and TfidfVectorizer classes is given\n",
    "by:\n",
    "\n",
    "$$ \\mbox{tfidf}(w, d) = \\mbox{tf } log\\Big(\\frac{N + 1}{N_w+ 1}\\Big) + 1$$\n",
    "\n",
    "where $N$ is the numbe rof docuemnts in the training set, $N_w$ is the number\n",
    "of documents in the training set that the word $w$ appears in, and $tf$ (the term\n",
    "frequency) is the numbe rof times that the word $w$ appers in the query document $d$\n",
    "(the document tou want to transform or encode). Both classes also aplpy `L2` normalization\n",
    "after computing the tf-idf representation; on other words, they rescale the representation\n",
    "of each document to have Euclidean norm 1. Rescaling in this way means that\n",
    "the lenfth of a document (the number of words) does not change the vectorized\n",
    "representation."
   ]
  },
  {
   "cell_type": "markdown",
   "metadata": {},
   "source": [
    "Because tf–idf actually makes use of the statistical properties of the training data, we\n",
    "will use a pipeline, as described in Chapter 6, to ensure the results of our grid search\n",
    "are valid."
   ]
  },
  {
   "cell_type": "code",
   "execution_count": 47,
   "metadata": {},
   "outputs": [
    {
     "name": "stdout",
     "output_type": "stream",
     "text": [
      "Best cross-validation score: 0.66\n"
     ]
    }
   ],
   "source": [
    "from sklearn.feature_extraction.text import TfidfVectorizer\n",
    "from sklearn.pipeline import make_pipeline\n",
    "pipe = make_pipeline(TfidfVectorizer(min_df = 5, norm = None), LogisticRegression(max_iter = 3000))\n",
    "param_grid = {'logisticregression__C': [0.001, 0.01, 0.1, 1, 10]}\n",
    "\n",
    "grid = GridSearchCV(pipe, param_grid, cv = 5)\n",
    "grid.fit(text_train, y_train)\n",
    "\n",
    "print(f'Best cross-validation score: {grid.best_score_:.2f}')"
   ]
  },
  {
   "cell_type": "markdown",
   "metadata": {},
   "source": [
    "As you can see, there is some improvement when using tf–idf instead of just word\n",
    "counts. We can also inspect which words tf–idf found most important. Keep in mind\n",
    "that the tf–idf scaling is meant to find words that distinguish documents, but it is a\n",
    "purely unsupervised technique. So, “important” here does not necessarily relate to the\n",
    "“positive review” and “negative review” labels we are interested in. First, we extract\n",
    "the TfidfVectorizer from the pipeline:"
   ]
  },
  {
   "cell_type": "code",
   "execution_count": 48,
   "metadata": {},
   "outputs": [
    {
     "name": "stdout",
     "output_type": "stream",
     "text": [
      "Features with lowest tfidf:\n",
      "['recommended' 'ready' 'pleasure' 'hits' 'painfully' 'speaks' 'finished'\n",
      " 'relief' 'realized' 'prove' 'produce' 'embarrassing' 'noticed' 'latest'\n",
      " 'summary' 'touches' 'semi' 'notch' 'pleasant' 'reviewer']\n",
      "Features with highest tfidf:\n",
      "['anna' 'kincaid' 'bernard' 'chaney' 'joshua' 'jeff' 'diamond'\n",
      " 'angelopoulos' 'bickford' 'puppet' 'asoka' 'superman' 'brown' 'flip'\n",
      " 'sam' 'dean' 'nikki' 'turner' 'reno' 'id']\n"
     ]
    }
   ],
   "source": [
    "vectorizer = grid.best_estimator_.named_steps['tfidfvectorizer']\n",
    "\n",
    "# transform the training dataset\n",
    "X_train = vectorizer.transform(text_train)\n",
    "\n",
    "# find maximum value for each of the features over the dataset\n",
    "max_value = X_train.max(axis = 0).toarray().ravel()\n",
    "sorted_by_tfidf = max_value.argsort()\n",
    "\n",
    "# get feature names\n",
    "feature_names = np.array(vectorizer.get_feature_names())\n",
    "\n",
    "print(f'Features with lowest tfidf:\\n{feature_names[sorted_by_tfidf[:20]]}')\n",
    "\n",
    "print(f'Features with highest tfidf:\\n{feature_names[sorted_by_tfidf[-20:]]}')"
   ]
  },
  {
   "cell_type": "markdown",
   "metadata": {},
   "source": [
    "Features with low tf–idf are those that either are very commonly used across docu‐\n",
    "ments or are only used sparingly, and only in very long documents. Interestingly,\n",
    "many of the high-tf–idf features actually identify certain shows or movies. These\n",
    "terms only appear in reviews for this particular show or franchise, but tend to appear\n",
    "very often in these particular reviews. This is very clear, for example, for \"pokemon\" ,\n",
    "\"smallville\" , and \"doodlebops\" , but \"scanners\" here actually also refers to a\n",
    "movie title. These words are unlikely to help us in our sentiment classification task\n",
    "(unless maybe some franchises are universally reviewed positively or negatively) but\n",
    "certainly contain a lot of specific information about the reviews.\n",
    "\n",
    "We can also find the words that have low inverse document frequency—that is, those\n",
    "that appear frequently and are therefore deemed less important. The inverse\n",
    "document frequency values found on the training set are stored in the idf_ attribute:"
   ]
  },
  {
   "cell_type": "code",
   "execution_count": 49,
   "metadata": {},
   "outputs": [
    {
     "name": "stdout",
     "output_type": "stream",
     "text": [
      "features with lowest idf:\n",
      "['the' 'and' 'of' 'to' 'this' 'is' 'it' 'in' 'that' 'but' 'for' 'with'\n",
      " 'was' 'as' 'on' 'movie' 'not' 'be' 'have' 'are' 'one' 'you' 'film' 'all'\n",
      " 'at' 'an' 'by' 'like' 'so' 'from' 'who' 'there' 'they' 'if' 'his' 'just'\n",
      " 'out' 'or' 'he' 'has' 'about' 'what' 'some' 'can' 'good' 'when' 'more'\n",
      " 'up' 'time' 'very' 'only' 'see' 'no' 'even' 'my' 'would' 'story' 'really'\n",
      " 'well' 'which' 'me' 'had' 'their' 'than' 'much' 'were' 'get' 'other' 'do'\n",
      " 'most' 'don' 'been' 'also' 'people' 'how' 'her' 'into' 'will' 'make'\n",
      " 'first' 'way' 'because' 'great' 'made' 'could' 'bad' 'we' 'after' 'them'\n",
      " 'any' 'too' 'watch' 'movies' 'then' 'she' 'seen' 'characters' 'acting'\n",
      " 'think' 'being']\n"
     ]
    }
   ],
   "source": [
    "sorted_by_idf = np.argsort(vectorizer.idf_)\n",
    "print(f'features with lowest idf:\\n{feature_names[sorted_by_idf[:100]]}')"
   ]
  },
  {
   "cell_type": "markdown",
   "metadata": {},
   "source": [
    "As expected, these are mostly English stopwords like \"the\" and \"no\" . But some are\n",
    "clearly domain-specific to the movie reviews, like \"movie\" , \"film\" , \"time\" , \"story\" ,\n",
    "and so on. Interestingly, \"good\" , \"great\" , and \"bad\" are also among the most fre‐\n",
    "quent and therefore “least relevant” words according to the tf–idf measure, even\n",
    "though we might expect these to be very important for our sentiment analysis task."
   ]
  },
  {
   "cell_type": "markdown",
   "metadata": {},
   "source": [
    "## Bag-of-Words with More Than One Word (n-Grams)"
   ]
  },
  {
   "cell_type": "markdown",
   "metadata": {},
   "source": [
    "One of the main disadvantages of using a bag-of-words representation is that word\n",
    "order is completely discarded. Therefore, the two strings “it’s bad, not good at all” and\n",
    "“it’s good, not bad at all” have exactly the same representation, even though the mean‐\n",
    "ings are inverted. Putting “not” in front of a word is only one example (if an extreme\n",
    "one) of how context matters. Fortunately, there is a way of capturing context when\n",
    "using a bag-of-words representation, by not only considering the counts of single\n",
    "tokens, but also the counts of pairs or triplets of tokens that appear next to each other.\n",
    "Pairs of tokens are known as bigrams, triplets of tokens are known as trigrams, and\n",
    "more generally sequences of tokens are known as n-grams. We can change the range\n",
    "of tokens that are considered as features by changing the ngram_range parameter of\n",
    "CountVectorizer or TfidfVectorizer . The ngram_range parameter is a tuple,\n",
    "consisting of the minimum length and the maximum length of the sequences of tokens\n",
    "that are considered. Here is an example on the toy data we used earlier:"
   ]
  },
  {
   "cell_type": "code",
   "execution_count": 50,
   "metadata": {},
   "outputs": [
    {
     "name": "stdout",
     "output_type": "stream",
     "text": [
      "bards_words:\n",
      "['the fool doth think he is wise,', 'but the wise man knows himself to be a fool.']\n"
     ]
    }
   ],
   "source": [
    "print(f'bards_words:\\n{bards_words}')"
   ]
  },
  {
   "cell_type": "markdown",
   "metadata": {},
   "source": [
    "The default is to create one feature per sequence of tokens that is at least one token\n",
    "long and at most one token long, or in other words exactly one token long (single\n",
    "tokens are also called unigrams):"
   ]
  },
  {
   "cell_type": "code",
   "execution_count": 51,
   "metadata": {},
   "outputs": [
    {
     "name": "stdout",
     "output_type": "stream",
     "text": [
      "Vocabulary size: 13\n",
      "Vocabulary:\n",
      "['be', 'but', 'doth', 'fool', 'he', 'himself', 'is', 'knows', 'man', 'the', 'think', 'to', 'wise']\n"
     ]
    }
   ],
   "source": [
    "cv = CountVectorizer(ngram_range=(1, 1)).fit(bards_words)\n",
    "print(\"Vocabulary size: {}\".format(len(cv.vocabulary_)))\n",
    "print(\"Vocabulary:\\n{}\".format(cv.get_feature_names()))"
   ]
  },
  {
   "cell_type": "markdown",
   "metadata": {},
   "source": [
    "To look only at bigrams—that is, only at sequences of two tokens following each\n",
    "other—we can set ngram_range to (2, 2) :"
   ]
  },
  {
   "cell_type": "code",
   "execution_count": 52,
   "metadata": {},
   "outputs": [
    {
     "name": "stdout",
     "output_type": "stream",
     "text": [
      "Vocabulary size: 14\n",
      "Vocabulary:\n",
      "['be fool', 'but the', 'doth think', 'fool doth', 'he is', 'himself to', 'is wise', 'knows himself', 'man knows', 'the fool', 'the wise', 'think he', 'to be', 'wise man']\n"
     ]
    }
   ],
   "source": [
    "cv = CountVectorizer(ngram_range=(2, 2)).fit(bards_words)\n",
    "print(\"Vocabulary size: {}\".format(len(cv.vocabulary_)))\n",
    "print(\"Vocabulary:\\n{}\".format(cv.get_feature_names()))"
   ]
  },
  {
   "cell_type": "code",
   "execution_count": 53,
   "metadata": {},
   "outputs": [
    {
     "name": "stdout",
     "output_type": "stream",
     "text": [
      "Transformed data (dense):\n",
      "[[0 0 1 1 1 0 1 0 0 1 0 1 0 0]\n",
      " [1 1 0 0 0 1 0 1 1 0 1 0 1 1]]\n"
     ]
    }
   ],
   "source": [
    "# there is no common bigram between the two\n",
    "# phrases in bard_words\n",
    "print(\"Transformed data (dense):\\n{}\".format(cv.transform(bards_words).toarray()))"
   ]
  },
  {
   "cell_type": "markdown",
   "metadata": {},
   "source": [
    "For most applications, the minimum number of tokens should be one, as single\n",
    "words often capture a lot of meaning. Adding bigrams helps in most cases. Adding\n",
    "longer sequences—up to 5-grams—might help too, but this will lead to an explosion\n",
    "of the number of features and might lead to overfitting, as there will be many very\n",
    "specific features. In principle, the number of bigrams could be the number of\n",
    "unigrams squared and the number of trigrams could be the number of unigrams to\n",
    "the power of three, leading to very large feature spaces. In practice, the number of\n",
    "higher n-grams that actually appear in the data is much smaller, because of the \n",
    "structure of the (English) language, though it is still large."
   ]
  },
  {
   "cell_type": "code",
   "execution_count": 54,
   "metadata": {},
   "outputs": [
    {
     "name": "stdout",
     "output_type": "stream",
     "text": [
      "Vocabulary size: 39\n",
      "Vocabulary:\n",
      "['be', 'be fool', 'but', 'but the', 'but the wise', 'doth', 'doth think', 'doth think he', 'fool', 'fool doth', 'fool doth think', 'he', 'he is', 'he is wise', 'himself', 'himself to', 'himself to be', 'is', 'is wise', 'knows', 'knows himself', 'knows himself to', 'man', 'man knows', 'man knows himself', 'the', 'the fool', 'the fool doth', 'the wise', 'the wise man', 'think', 'think he', 'think he is', 'to', 'to be', 'to be fool', 'wise', 'wise man', 'wise man knows']\n"
     ]
    }
   ],
   "source": [
    "# usinh unigrams, bigrams, and trigrams\n",
    "cv = CountVectorizer(ngram_range=(1, 3)).fit(bards_words)\n",
    "print(\"Vocabulary size: {}\".format(len(cv.vocabulary_)))\n",
    "print(\"Vocabulary:\\n{}\".format(cv.get_feature_names()))"
   ]
  },
  {
   "cell_type": "markdown",
   "metadata": {},
   "source": [
    "Let’s try out the TfidfVectorizer on the IMDb movie review data and find the best\n",
    "setting of n-gram range using a grid search:"
   ]
  },
  {
   "cell_type": "code",
   "execution_count": 55,
   "metadata": {
    "collapsed": true,
    "jupyter": {
     "outputs_hidden": true
    }
   },
   "outputs": [
    {
     "name": "stderr",
     "output_type": "stream",
     "text": [
      "/home/concerta/.virtualenvs/lab/lib/python3.7/site-packages/sklearn/linear_model/_logistic.py:939: ConvergenceWarning: lbfgs failed to converge (status=1):\n",
      "STOP: TOTAL NO. of ITERATIONS REACHED LIMIT.\n",
      "\n",
      "Increase the number of iterations (max_iter) or scale the data as shown in:\n",
      "    https://scikit-learn.org/stable/modules/preprocessing.html.\n",
      "Please also refer to the documentation for alternative solver options:\n",
      "    https://scikit-learn.org/stable/modules/linear_model.html#logistic-regression\n",
      "  extra_warning_msg=_LOGISTIC_SOLVER_CONVERGENCE_MSG)\n",
      "/home/concerta/.virtualenvs/lab/lib/python3.7/site-packages/sklearn/linear_model/_logistic.py:939: ConvergenceWarning: lbfgs failed to converge (status=1):\n",
      "STOP: TOTAL NO. of ITERATIONS REACHED LIMIT.\n",
      "\n",
      "Increase the number of iterations (max_iter) or scale the data as shown in:\n",
      "    https://scikit-learn.org/stable/modules/preprocessing.html.\n",
      "Please also refer to the documentation for alternative solver options:\n",
      "    https://scikit-learn.org/stable/modules/linear_model.html#logistic-regression\n",
      "  extra_warning_msg=_LOGISTIC_SOLVER_CONVERGENCE_MSG)\n",
      "/home/concerta/.virtualenvs/lab/lib/python3.7/site-packages/sklearn/linear_model/_logistic.py:939: ConvergenceWarning: lbfgs failed to converge (status=1):\n",
      "STOP: TOTAL NO. of ITERATIONS REACHED LIMIT.\n",
      "\n",
      "Increase the number of iterations (max_iter) or scale the data as shown in:\n",
      "    https://scikit-learn.org/stable/modules/preprocessing.html.\n",
      "Please also refer to the documentation for alternative solver options:\n",
      "    https://scikit-learn.org/stable/modules/linear_model.html#logistic-regression\n",
      "  extra_warning_msg=_LOGISTIC_SOLVER_CONVERGENCE_MSG)\n",
      "/home/concerta/.virtualenvs/lab/lib/python3.7/site-packages/sklearn/linear_model/_logistic.py:939: ConvergenceWarning: lbfgs failed to converge (status=1):\n",
      "STOP: TOTAL NO. of ITERATIONS REACHED LIMIT.\n",
      "\n",
      "Increase the number of iterations (max_iter) or scale the data as shown in:\n",
      "    https://scikit-learn.org/stable/modules/preprocessing.html.\n",
      "Please also refer to the documentation for alternative solver options:\n",
      "    https://scikit-learn.org/stable/modules/linear_model.html#logistic-regression\n",
      "  extra_warning_msg=_LOGISTIC_SOLVER_CONVERGENCE_MSG)\n",
      "/home/concerta/.virtualenvs/lab/lib/python3.7/site-packages/sklearn/linear_model/_logistic.py:939: ConvergenceWarning: lbfgs failed to converge (status=1):\n",
      "STOP: TOTAL NO. of ITERATIONS REACHED LIMIT.\n",
      "\n",
      "Increase the number of iterations (max_iter) or scale the data as shown in:\n",
      "    https://scikit-learn.org/stable/modules/preprocessing.html.\n",
      "Please also refer to the documentation for alternative solver options:\n",
      "    https://scikit-learn.org/stable/modules/linear_model.html#logistic-regression\n",
      "  extra_warning_msg=_LOGISTIC_SOLVER_CONVERGENCE_MSG)\n",
      "/home/concerta/.virtualenvs/lab/lib/python3.7/site-packages/sklearn/linear_model/_logistic.py:939: ConvergenceWarning: lbfgs failed to converge (status=1):\n",
      "STOP: TOTAL NO. of ITERATIONS REACHED LIMIT.\n",
      "\n",
      "Increase the number of iterations (max_iter) or scale the data as shown in:\n",
      "    https://scikit-learn.org/stable/modules/preprocessing.html.\n",
      "Please also refer to the documentation for alternative solver options:\n",
      "    https://scikit-learn.org/stable/modules/linear_model.html#logistic-regression\n",
      "  extra_warning_msg=_LOGISTIC_SOLVER_CONVERGENCE_MSG)\n",
      "/home/concerta/.virtualenvs/lab/lib/python3.7/site-packages/sklearn/linear_model/_logistic.py:939: ConvergenceWarning: lbfgs failed to converge (status=1):\n",
      "STOP: TOTAL NO. of ITERATIONS REACHED LIMIT.\n",
      "\n",
      "Increase the number of iterations (max_iter) or scale the data as shown in:\n",
      "    https://scikit-learn.org/stable/modules/preprocessing.html.\n",
      "Please also refer to the documentation for alternative solver options:\n",
      "    https://scikit-learn.org/stable/modules/linear_model.html#logistic-regression\n",
      "  extra_warning_msg=_LOGISTIC_SOLVER_CONVERGENCE_MSG)\n",
      "/home/concerta/.virtualenvs/lab/lib/python3.7/site-packages/sklearn/linear_model/_logistic.py:939: ConvergenceWarning: lbfgs failed to converge (status=1):\n",
      "STOP: TOTAL NO. of ITERATIONS REACHED LIMIT.\n",
      "\n",
      "Increase the number of iterations (max_iter) or scale the data as shown in:\n",
      "    https://scikit-learn.org/stable/modules/preprocessing.html.\n",
      "Please also refer to the documentation for alternative solver options:\n",
      "    https://scikit-learn.org/stable/modules/linear_model.html#logistic-regression\n",
      "  extra_warning_msg=_LOGISTIC_SOLVER_CONVERGENCE_MSG)\n",
      "/home/concerta/.virtualenvs/lab/lib/python3.7/site-packages/sklearn/linear_model/_logistic.py:939: ConvergenceWarning: lbfgs failed to converge (status=1):\n",
      "STOP: TOTAL NO. of ITERATIONS REACHED LIMIT.\n",
      "\n",
      "Increase the number of iterations (max_iter) or scale the data as shown in:\n",
      "    https://scikit-learn.org/stable/modules/preprocessing.html.\n",
      "Please also refer to the documentation for alternative solver options:\n",
      "    https://scikit-learn.org/stable/modules/linear_model.html#logistic-regression\n",
      "  extra_warning_msg=_LOGISTIC_SOLVER_CONVERGENCE_MSG)\n",
      "/home/concerta/.virtualenvs/lab/lib/python3.7/site-packages/sklearn/linear_model/_logistic.py:939: ConvergenceWarning: lbfgs failed to converge (status=1):\n",
      "STOP: TOTAL NO. of ITERATIONS REACHED LIMIT.\n",
      "\n",
      "Increase the number of iterations (max_iter) or scale the data as shown in:\n",
      "    https://scikit-learn.org/stable/modules/preprocessing.html.\n",
      "Please also refer to the documentation for alternative solver options:\n",
      "    https://scikit-learn.org/stable/modules/linear_model.html#logistic-regression\n",
      "  extra_warning_msg=_LOGISTIC_SOLVER_CONVERGENCE_MSG)\n",
      "/home/concerta/.virtualenvs/lab/lib/python3.7/site-packages/sklearn/linear_model/_logistic.py:939: ConvergenceWarning: lbfgs failed to converge (status=1):\n",
      "STOP: TOTAL NO. of ITERATIONS REACHED LIMIT.\n",
      "\n",
      "Increase the number of iterations (max_iter) or scale the data as shown in:\n",
      "    https://scikit-learn.org/stable/modules/preprocessing.html.\n",
      "Please also refer to the documentation for alternative solver options:\n",
      "    https://scikit-learn.org/stable/modules/linear_model.html#logistic-regression\n",
      "  extra_warning_msg=_LOGISTIC_SOLVER_CONVERGENCE_MSG)\n",
      "/home/concerta/.virtualenvs/lab/lib/python3.7/site-packages/sklearn/linear_model/_logistic.py:939: ConvergenceWarning: lbfgs failed to converge (status=1):\n",
      "STOP: TOTAL NO. of ITERATIONS REACHED LIMIT.\n",
      "\n",
      "Increase the number of iterations (max_iter) or scale the data as shown in:\n",
      "    https://scikit-learn.org/stable/modules/preprocessing.html.\n",
      "Please also refer to the documentation for alternative solver options:\n",
      "    https://scikit-learn.org/stable/modules/linear_model.html#logistic-regression\n",
      "  extra_warning_msg=_LOGISTIC_SOLVER_CONVERGENCE_MSG)\n",
      "/home/concerta/.virtualenvs/lab/lib/python3.7/site-packages/sklearn/linear_model/_logistic.py:939: ConvergenceWarning: lbfgs failed to converge (status=1):\n",
      "STOP: TOTAL NO. of ITERATIONS REACHED LIMIT.\n",
      "\n",
      "Increase the number of iterations (max_iter) or scale the data as shown in:\n",
      "    https://scikit-learn.org/stable/modules/preprocessing.html.\n",
      "Please also refer to the documentation for alternative solver options:\n",
      "    https://scikit-learn.org/stable/modules/linear_model.html#logistic-regression\n",
      "  extra_warning_msg=_LOGISTIC_SOLVER_CONVERGENCE_MSG)\n",
      "/home/concerta/.virtualenvs/lab/lib/python3.7/site-packages/sklearn/linear_model/_logistic.py:939: ConvergenceWarning: lbfgs failed to converge (status=1):\n",
      "STOP: TOTAL NO. of ITERATIONS REACHED LIMIT.\n",
      "\n",
      "Increase the number of iterations (max_iter) or scale the data as shown in:\n",
      "    https://scikit-learn.org/stable/modules/preprocessing.html.\n",
      "Please also refer to the documentation for alternative solver options:\n",
      "    https://scikit-learn.org/stable/modules/linear_model.html#logistic-regression\n",
      "  extra_warning_msg=_LOGISTIC_SOLVER_CONVERGENCE_MSG)\n",
      "/home/concerta/.virtualenvs/lab/lib/python3.7/site-packages/sklearn/linear_model/_logistic.py:939: ConvergenceWarning: lbfgs failed to converge (status=1):\n",
      "STOP: TOTAL NO. of ITERATIONS REACHED LIMIT.\n",
      "\n",
      "Increase the number of iterations (max_iter) or scale the data as shown in:\n",
      "    https://scikit-learn.org/stable/modules/preprocessing.html.\n",
      "Please also refer to the documentation for alternative solver options:\n",
      "    https://scikit-learn.org/stable/modules/linear_model.html#logistic-regression\n",
      "  extra_warning_msg=_LOGISTIC_SOLVER_CONVERGENCE_MSG)\n",
      "/home/concerta/.virtualenvs/lab/lib/python3.7/site-packages/sklearn/linear_model/_logistic.py:939: ConvergenceWarning: lbfgs failed to converge (status=1):\n",
      "STOP: TOTAL NO. of ITERATIONS REACHED LIMIT.\n",
      "\n",
      "Increase the number of iterations (max_iter) or scale the data as shown in:\n",
      "    https://scikit-learn.org/stable/modules/preprocessing.html.\n",
      "Please also refer to the documentation for alternative solver options:\n",
      "    https://scikit-learn.org/stable/modules/linear_model.html#logistic-regression\n",
      "  extra_warning_msg=_LOGISTIC_SOLVER_CONVERGENCE_MSG)\n",
      "/home/concerta/.virtualenvs/lab/lib/python3.7/site-packages/sklearn/linear_model/_logistic.py:939: ConvergenceWarning: lbfgs failed to converge (status=1):\n",
      "STOP: TOTAL NO. of ITERATIONS REACHED LIMIT.\n",
      "\n",
      "Increase the number of iterations (max_iter) or scale the data as shown in:\n",
      "    https://scikit-learn.org/stable/modules/preprocessing.html.\n",
      "Please also refer to the documentation for alternative solver options:\n",
      "    https://scikit-learn.org/stable/modules/linear_model.html#logistic-regression\n",
      "  extra_warning_msg=_LOGISTIC_SOLVER_CONVERGENCE_MSG)\n",
      "/home/concerta/.virtualenvs/lab/lib/python3.7/site-packages/sklearn/linear_model/_logistic.py:939: ConvergenceWarning: lbfgs failed to converge (status=1):\n",
      "STOP: TOTAL NO. of ITERATIONS REACHED LIMIT.\n",
      "\n",
      "Increase the number of iterations (max_iter) or scale the data as shown in:\n",
      "    https://scikit-learn.org/stable/modules/preprocessing.html.\n",
      "Please also refer to the documentation for alternative solver options:\n",
      "    https://scikit-learn.org/stable/modules/linear_model.html#logistic-regression\n",
      "  extra_warning_msg=_LOGISTIC_SOLVER_CONVERGENCE_MSG)\n",
      "/home/concerta/.virtualenvs/lab/lib/python3.7/site-packages/sklearn/linear_model/_logistic.py:939: ConvergenceWarning: lbfgs failed to converge (status=1):\n",
      "STOP: TOTAL NO. of ITERATIONS REACHED LIMIT.\n",
      "\n",
      "Increase the number of iterations (max_iter) or scale the data as shown in:\n",
      "    https://scikit-learn.org/stable/modules/preprocessing.html.\n",
      "Please also refer to the documentation for alternative solver options:\n",
      "    https://scikit-learn.org/stable/modules/linear_model.html#logistic-regression\n",
      "  extra_warning_msg=_LOGISTIC_SOLVER_CONVERGENCE_MSG)\n",
      "/home/concerta/.virtualenvs/lab/lib/python3.7/site-packages/sklearn/linear_model/_logistic.py:939: ConvergenceWarning: lbfgs failed to converge (status=1):\n",
      "STOP: TOTAL NO. of ITERATIONS REACHED LIMIT.\n",
      "\n",
      "Increase the number of iterations (max_iter) or scale the data as shown in:\n",
      "    https://scikit-learn.org/stable/modules/preprocessing.html.\n",
      "Please also refer to the documentation for alternative solver options:\n",
      "    https://scikit-learn.org/stable/modules/linear_model.html#logistic-regression\n",
      "  extra_warning_msg=_LOGISTIC_SOLVER_CONVERGENCE_MSG)\n",
      "/home/concerta/.virtualenvs/lab/lib/python3.7/site-packages/sklearn/linear_model/_logistic.py:939: ConvergenceWarning: lbfgs failed to converge (status=1):\n",
      "STOP: TOTAL NO. of ITERATIONS REACHED LIMIT.\n",
      "\n",
      "Increase the number of iterations (max_iter) or scale the data as shown in:\n",
      "    https://scikit-learn.org/stable/modules/preprocessing.html.\n",
      "Please also refer to the documentation for alternative solver options:\n",
      "    https://scikit-learn.org/stable/modules/linear_model.html#logistic-regression\n",
      "  extra_warning_msg=_LOGISTIC_SOLVER_CONVERGENCE_MSG)\n",
      "/home/concerta/.virtualenvs/lab/lib/python3.7/site-packages/sklearn/linear_model/_logistic.py:939: ConvergenceWarning: lbfgs failed to converge (status=1):\n",
      "STOP: TOTAL NO. of ITERATIONS REACHED LIMIT.\n",
      "\n",
      "Increase the number of iterations (max_iter) or scale the data as shown in:\n",
      "    https://scikit-learn.org/stable/modules/preprocessing.html.\n",
      "Please also refer to the documentation for alternative solver options:\n",
      "    https://scikit-learn.org/stable/modules/linear_model.html#logistic-regression\n",
      "  extra_warning_msg=_LOGISTIC_SOLVER_CONVERGENCE_MSG)\n",
      "/home/concerta/.virtualenvs/lab/lib/python3.7/site-packages/sklearn/linear_model/_logistic.py:939: ConvergenceWarning: lbfgs failed to converge (status=1):\n",
      "STOP: TOTAL NO. of ITERATIONS REACHED LIMIT.\n",
      "\n",
      "Increase the number of iterations (max_iter) or scale the data as shown in:\n",
      "    https://scikit-learn.org/stable/modules/preprocessing.html.\n",
      "Please also refer to the documentation for alternative solver options:\n",
      "    https://scikit-learn.org/stable/modules/linear_model.html#logistic-regression\n",
      "  extra_warning_msg=_LOGISTIC_SOLVER_CONVERGENCE_MSG)\n",
      "/home/concerta/.virtualenvs/lab/lib/python3.7/site-packages/sklearn/linear_model/_logistic.py:939: ConvergenceWarning: lbfgs failed to converge (status=1):\n",
      "STOP: TOTAL NO. of ITERATIONS REACHED LIMIT.\n",
      "\n",
      "Increase the number of iterations (max_iter) or scale the data as shown in:\n",
      "    https://scikit-learn.org/stable/modules/preprocessing.html.\n",
      "Please also refer to the documentation for alternative solver options:\n",
      "    https://scikit-learn.org/stable/modules/linear_model.html#logistic-regression\n",
      "  extra_warning_msg=_LOGISTIC_SOLVER_CONVERGENCE_MSG)\n",
      "/home/concerta/.virtualenvs/lab/lib/python3.7/site-packages/sklearn/linear_model/_logistic.py:939: ConvergenceWarning: lbfgs failed to converge (status=1):\n",
      "STOP: TOTAL NO. of ITERATIONS REACHED LIMIT.\n",
      "\n",
      "Increase the number of iterations (max_iter) or scale the data as shown in:\n",
      "    https://scikit-learn.org/stable/modules/preprocessing.html.\n",
      "Please also refer to the documentation for alternative solver options:\n",
      "    https://scikit-learn.org/stable/modules/linear_model.html#logistic-regression\n",
      "  extra_warning_msg=_LOGISTIC_SOLVER_CONVERGENCE_MSG)\n",
      "/home/concerta/.virtualenvs/lab/lib/python3.7/site-packages/sklearn/linear_model/_logistic.py:939: ConvergenceWarning: lbfgs failed to converge (status=1):\n",
      "STOP: TOTAL NO. of ITERATIONS REACHED LIMIT.\n",
      "\n",
      "Increase the number of iterations (max_iter) or scale the data as shown in:\n",
      "    https://scikit-learn.org/stable/modules/preprocessing.html.\n",
      "Please also refer to the documentation for alternative solver options:\n",
      "    https://scikit-learn.org/stable/modules/linear_model.html#logistic-regression\n",
      "  extra_warning_msg=_LOGISTIC_SOLVER_CONVERGENCE_MSG)\n",
      "/home/concerta/.virtualenvs/lab/lib/python3.7/site-packages/sklearn/linear_model/_logistic.py:939: ConvergenceWarning: lbfgs failed to converge (status=1):\n",
      "STOP: TOTAL NO. of ITERATIONS REACHED LIMIT.\n",
      "\n",
      "Increase the number of iterations (max_iter) or scale the data as shown in:\n",
      "    https://scikit-learn.org/stable/modules/preprocessing.html.\n",
      "Please also refer to the documentation for alternative solver options:\n",
      "    https://scikit-learn.org/stable/modules/linear_model.html#logistic-regression\n",
      "  extra_warning_msg=_LOGISTIC_SOLVER_CONVERGENCE_MSG)\n",
      "/home/concerta/.virtualenvs/lab/lib/python3.7/site-packages/sklearn/linear_model/_logistic.py:939: ConvergenceWarning: lbfgs failed to converge (status=1):\n",
      "STOP: TOTAL NO. of ITERATIONS REACHED LIMIT.\n",
      "\n",
      "Increase the number of iterations (max_iter) or scale the data as shown in:\n",
      "    https://scikit-learn.org/stable/modules/preprocessing.html.\n",
      "Please also refer to the documentation for alternative solver options:\n",
      "    https://scikit-learn.org/stable/modules/linear_model.html#logistic-regression\n",
      "  extra_warning_msg=_LOGISTIC_SOLVER_CONVERGENCE_MSG)\n",
      "/home/concerta/.virtualenvs/lab/lib/python3.7/site-packages/sklearn/linear_model/_logistic.py:939: ConvergenceWarning: lbfgs failed to converge (status=1):\n",
      "STOP: TOTAL NO. of ITERATIONS REACHED LIMIT.\n",
      "\n",
      "Increase the number of iterations (max_iter) or scale the data as shown in:\n",
      "    https://scikit-learn.org/stable/modules/preprocessing.html.\n",
      "Please also refer to the documentation for alternative solver options:\n",
      "    https://scikit-learn.org/stable/modules/linear_model.html#logistic-regression\n",
      "  extra_warning_msg=_LOGISTIC_SOLVER_CONVERGENCE_MSG)\n",
      "/home/concerta/.virtualenvs/lab/lib/python3.7/site-packages/sklearn/linear_model/_logistic.py:939: ConvergenceWarning: lbfgs failed to converge (status=1):\n",
      "STOP: TOTAL NO. of ITERATIONS REACHED LIMIT.\n",
      "\n",
      "Increase the number of iterations (max_iter) or scale the data as shown in:\n",
      "    https://scikit-learn.org/stable/modules/preprocessing.html.\n",
      "Please also refer to the documentation for alternative solver options:\n",
      "    https://scikit-learn.org/stable/modules/linear_model.html#logistic-regression\n",
      "  extra_warning_msg=_LOGISTIC_SOLVER_CONVERGENCE_MSG)\n",
      "/home/concerta/.virtualenvs/lab/lib/python3.7/site-packages/sklearn/linear_model/_logistic.py:939: ConvergenceWarning: lbfgs failed to converge (status=1):\n",
      "STOP: TOTAL NO. of ITERATIONS REACHED LIMIT.\n",
      "\n",
      "Increase the number of iterations (max_iter) or scale the data as shown in:\n",
      "    https://scikit-learn.org/stable/modules/preprocessing.html.\n",
      "Please also refer to the documentation for alternative solver options:\n",
      "    https://scikit-learn.org/stable/modules/linear_model.html#logistic-regression\n",
      "  extra_warning_msg=_LOGISTIC_SOLVER_CONVERGENCE_MSG)\n",
      "/home/concerta/.virtualenvs/lab/lib/python3.7/site-packages/sklearn/linear_model/_logistic.py:939: ConvergenceWarning: lbfgs failed to converge (status=1):\n",
      "STOP: TOTAL NO. of ITERATIONS REACHED LIMIT.\n",
      "\n",
      "Increase the number of iterations (max_iter) or scale the data as shown in:\n",
      "    https://scikit-learn.org/stable/modules/preprocessing.html.\n",
      "Please also refer to the documentation for alternative solver options:\n",
      "    https://scikit-learn.org/stable/modules/linear_model.html#logistic-regression\n",
      "  extra_warning_msg=_LOGISTIC_SOLVER_CONVERGENCE_MSG)\n",
      "/home/concerta/.virtualenvs/lab/lib/python3.7/site-packages/sklearn/linear_model/_logistic.py:939: ConvergenceWarning: lbfgs failed to converge (status=1):\n",
      "STOP: TOTAL NO. of ITERATIONS REACHED LIMIT.\n",
      "\n",
      "Increase the number of iterations (max_iter) or scale the data as shown in:\n",
      "    https://scikit-learn.org/stable/modules/preprocessing.html.\n",
      "Please also refer to the documentation for alternative solver options:\n",
      "    https://scikit-learn.org/stable/modules/linear_model.html#logistic-regression\n",
      "  extra_warning_msg=_LOGISTIC_SOLVER_CONVERGENCE_MSG)\n"
     ]
    },
    {
     "name": "stdout",
     "output_type": "stream",
     "text": [
      "Best cross-validation score: 0.68\n",
      "Best parameters:\n",
      "{'logisticregression__C': 0.001, 'tfidfvectorizer__ngram_range': (1, 1)}\n"
     ]
    }
   ],
   "source": [
    "pipe = make_pipeline(TfidfVectorizer(min_df=5), LogisticRegression())\n",
    "# running the grid search takes a long time because of the\n",
    "# relatively large grid and the inclusion of trigrams\n",
    "param_grid = {\"logisticregression__C\": [0.001, 0.01, 0.1, 1, 10, 100],\n",
    "              \"tfidfvectorizer__ngram_range\": [(1, 1), (1, 2), (1, 3)]}\n",
    "grid = GridSearchCV(pipe, param_grid, cv=5)\n",
    "grid.fit(text_train, y_train)\n",
    "print(\"Best cross-validation score: {:.2f}\".format(grid.best_score_))\n",
    "print(\"Best parameters:\\n{}\".format(grid.best_params_))"
   ]
  },
  {
   "cell_type": "markdown",
   "metadata": {},
   "source": [
    "## Advanced Tokenization, Stemming, and Lemmatization"
   ]
  },
  {
   "cell_type": "markdown",
   "metadata": {},
   "source": [
    "As mentioned previously, the feature extraction in the CountVectorizer and Tfidf\n",
    "Vectorizer is relatively simple, and much more elaborate methods are possible. One\n",
    "particular step that is often improved in more sophisticated text-processing applica‐\n",
    "tions is the first step in the bag-of-words model: tokenization. This step defines what\n",
    "constitutes a word for the purpose of feature extraction.\n",
    "\n",
    "We saw earlier that the vocabulary often contains singular and plural versions of\n",
    "some words, as in \"drawback\" and \"drawbacks\" , \"drawer\" and \"drawers\" , and\n",
    "\"drawing\" and \"drawings\" . For the purposes of a bag-of-words model, the semantics\n",
    "of \"drawback\" and \"drawbacks\" are so close that distinguishing them will only\n",
    "increase overfitting, and not allow the model to fully exploit the training data. Simi‐\n",
    "larly, we found the vocabulary includes words like \"replace\" , \"replaced\" , \"replace\n",
    "ment\" , \"replaces\" , and \"replacing\" , which are different verb forms and a noun\n",
    "relating to the verb “to replace.” Similarly to having singular and plural forms of a\n",
    "noun, treating different verb forms and related words as distinct tokens is disadvanta‐\n",
    "geous for building a model that generalizes well.\n",
    "\n",
    "This problem can be overcome by representing each word using its word stem, which\n",
    "involves identifying (or conflating) all the words that have the same word stem. If this\n",
    "is done by using a rule-based heuristic, like dropping common suffixes, it is usually\n",
    "referred to as stemming. If instead a dictionary of known word forms is used (an\n",
    "explicit and human-verified system), and the role of the word in the sentence is taken\n",
    "into account, the process is referred to as lemmatization and the standardized form of\n",
    "the word is referred to as the lemma. Both processing methods, lemmatization and\n",
    "stemming, are forms of normalization that try to extract some normal form of a\n",
    "word.\n",
    "\n",
    "To get a better understanding of normalization, let’s compare a method for stemming\n",
    "—the Porter stemmer, a widely used collection of heuristics (here imported from the\n",
    "nltk package)—to lemmatization as implemented in the spacy package:"
   ]
  },
  {
   "cell_type": "code",
   "execution_count": 56,
   "metadata": {},
   "outputs": [],
   "source": [
    "import spacy\n",
    "import nltk"
   ]
  },
  {
   "cell_type": "code",
   "execution_count": 57,
   "metadata": {},
   "outputs": [],
   "source": [
    "# load spacy's english language models\n",
    "en_nlp = spacy.load('en')\n",
    "\n",
    "# instantiate nltk's Porter stemmer\n",
    "stemmer = nltk.stem.PorterStemmer()\n",
    "\n",
    "# define function to compare lemmatization in spacy with\n",
    "# stemming in nltk\n",
    "def compare_normalization(doc):\n",
    "    # tokenize document in spacy\n",
    "    doc_spacy = en_nlp(doc)\n",
    "    \n",
    "    # print lemmas found by spacy\n",
    "    print('Lemmatization: ')\n",
    "    print([token.lemma_ for token in doc_spacy])\n",
    "    \n",
    "    # print tokens found by Porter stemmer\n",
    "    print('Stemming: ')\n",
    "    print([stemmer.stem(token.norm_.lower()) for token in doc_spacy])"
   ]
  },
  {
   "cell_type": "code",
   "execution_count": 58,
   "metadata": {},
   "outputs": [
    {
     "name": "stdout",
     "output_type": "stream",
     "text": [
      "Lemmatization: \n",
      "['-PRON-', 'meeting', 'today', 'be', 'bad', 'than', 'yesterday', ',', '-PRON-', 'be', 'scared', 'of', 'meet', 'the', 'client', 'tomorrow', '.']\n",
      "Stemming: \n",
      "['our', 'meet', 'today', 'wa', 'wors', 'than', 'yesterday', ',', 'i', 'am', 'scare', 'of', 'meet', 'the', 'client', 'tomorrow', '.']\n"
     ]
    }
   ],
   "source": [
    "# comparison\n",
    "compare_normalization(\n",
    "    u\"Our meeting today was worse than yesterday, \" + \n",
    "     \"I'm scared of meeting the clients tomorrow.\")"
   ]
  },
  {
   "cell_type": "markdown",
   "metadata": {},
   "source": [
    "Stemming is always restricted to trimming the word to a stem, so \"was\" becomes\n",
    "\"wa\" , while lemmatization can retrieve the correct base verb form, \"be\" . Similarly,\n",
    "lemmatization can normalize \"worse\" to \"bad\" , while stemming produces \"wors\" .\n",
    "Another major difference is that stemming reduces both occurrences of \"meeting\" to\n",
    "\"meet\" . Using lemmatization, the first occurrence of \"meeting\" is recognized as a\n",
    "noun and left as is, while the second occurrence is recognized as a verb and reduced\n",
    "to \"meet\" . In general, lemmatization is a much more involved process than stem‐\n",
    "ming, but it usually produces better results than stemming when used for normaliz‐\n",
    "ing tokens for machine learning.\n",
    "While scikit-learn implements neither form of normalization, CountVectorizer\n",
    "allows specifying your own tokenizer to convert each document into a list of tokens\n",
    "using the tokenizer parameter. We can use the lemmatization from spacy to create a\n",
    "callable that will take a string and produce a list of lemmas:"
   ]
  },
  {
   "cell_type": "code",
   "execution_count": 59,
   "metadata": {},
   "outputs": [],
   "source": [
    "# technicality: we want to sue regexp-based tokenizer\n",
    "# that is used byu CountVectorizer and only sue the\n",
    "# lemmatization from spacy. To this end, we replace\n",
    "# en_nlp.tokenizer (the spacy tokenizer) with the \n",
    "# regexp-based tokenization\n",
    "import re\n",
    "\n",
    "# regexp used in countVectorizer\n",
    "regexp = re.compile('(?u)\\\\b\\\\w\\\\w+\\\\b')\n",
    "\n",
    "# load spacy language model and save old tokenizer\n",
    "en_nlp = spacy.load('en')\n",
    "old_tokenizer = en_nlp.tokenizer\n",
    "\n",
    "# replace the tokenizer with the preceding regexp\n",
    "en_nlp.tokenizer = lambda string: old_tokenizer.tokens_from_list(regexp.findall(string))\n",
    "\n",
    "# create a custom tokenizer using the spacy document\n",
    "# processing pipeline (now using our own tokenizer)\n",
    "def custom_tokenizer(document):\n",
    "    doc_spacy = en_nlp(document)\n",
    "    return [token.lemma_ for token in doc_spacy]\n",
    "\n",
    "# define a count vectorizer with the custom tokenizer\n",
    "lemma_vect = CountVectorizer(tokenizer = custom_tokenizer, min_df = 5)"
   ]
  },
  {
   "cell_type": "code",
   "execution_count": 60,
   "metadata": {},
   "outputs": [
    {
     "name": "stdout",
     "output_type": "stream",
     "text": [
      "X_train_lemma.shape: (8000, 12095)\n",
      "X_train.shape: (8000, 14970)\n"
     ]
    }
   ],
   "source": [
    "# transform the data and inspect the vocavulary size\n",
    "# transform text_train using CountVecotrizer with lemmatization\n",
    "X_train_lemma = lemma_vect.fit_transform(text_train)\n",
    "print(f'X_train_lemma.shape: {X_train_lemma.shape}')\n",
    "\n",
    "# standard CountVectorizer for reference\n",
    "vect = CountVectorizer(min_df = 5).fit(text_train)\n",
    "X_train = vect.transform(text_train)\n",
    "print(f\"X_train.shape: {X_train.shape}\")"
   ]
  },
  {
   "cell_type": "markdown",
   "metadata": {},
   "source": [
    "Lemmatization\n",
    "can be seen as a kind of regularization, as it conflates certain features. Therefore, we\n",
    "expect lemmatization to improve performance most when the dataset is small. To\n",
    "illustrate how lemmatization can help, we will use StratifiedShuffleSplit for\n",
    "cross-validation, using only 1% of the data as training data and the rest as test data:"
   ]
  },
  {
   "cell_type": "code",
   "execution_count": 61,
   "metadata": {},
   "outputs": [
    {
     "name": "stdout",
     "output_type": "stream",
     "text": [
      "Best cross valdiation score: 0.677\n",
      "Best cross validation score: 0.676\n"
     ]
    }
   ],
   "source": [
    "# build a grid search using only 1% of the data as the training set\n",
    "from sklearn.model_selection import StratifiedShuffleSplit\n",
    "\n",
    "param_grid = {\n",
    "    'C': [0.001, 0.01, 0.1, 1, 10]\n",
    "}\n",
    "\n",
    "cv = StratifiedShuffleSplit(\n",
    "    test_size = 0.99, train_size = 0.01, random_state = 0\n",
    ")\n",
    "\n",
    "grid = GridSearchCV(LogisticRegression(max_iter = 3000), param_grid, cv = cv)\n",
    "\n",
    "# perform grid search with standard CountVectorizer\n",
    "grid.fit(X_train, y_train)\n",
    "print(f'Best cross valdiation score: {grid.best_score_:.3f}')\n",
    "\n",
    "# perform grid search with lemmatization\n",
    "grid.fit(X_train_lemma, y_train)\n",
    "print(f'Best cross validation score: {grid.best_score_:.3f}')"
   ]
  },
  {
   "cell_type": "markdown",
   "metadata": {},
   "source": [
    "In this case, lemmatization provided a modest improvement in performance. As with\n",
    "many of the different feature extraction techniques, the result varies depending on\n",
    "the dataset. Lemmatization and stemming can sometimes help in building better (or\n",
    "at least more compact) models, so we suggest you give these techniques a try when\n",
    "trying to squeeze out the last bit of performance on a particular task."
   ]
  },
  {
   "cell_type": "markdown",
   "metadata": {},
   "source": [
    "## __Topic Modeling and Document Clustering__"
   ]
  },
  {
   "cell_type": "markdown",
   "metadata": {},
   "source": [
    "One particular technique that is often applied to text data is topic modeling, which is\n",
    "an umbrella term describing the task of assigning each document to one or multiple\n",
    "topics, usually without supervision. A good example for this is news data, which\n",
    "might be categorized into topics like “politics,” “sports,” “finance,” and so on. If each\n",
    "document is assigned a single topic, this is the task of clustering the documents, as\n",
    "discussed in Chapter 3. If each document can have more than one topic, the task\n",
    "relates to the decomposition methods from Chapter 3. Each of the components we\n",
    "learn then corresponds to one topic, and the coefficients of the components in the\n",
    "representation of a document tell us how strongly related that document is to a par‐\n",
    "ticular topic. Often, when people talk about topic modeling, they refer to one particu‐\n",
    "lar decomposition method called Latent Dirichlet Allocation (often LDA for short)."
   ]
  },
  {
   "cell_type": "markdown",
   "metadata": {},
   "source": [
    "### __Latent Dirichlet Allocation__"
   ]
  },
  {
   "cell_type": "markdown",
   "metadata": {},
   "source": [
    "Intuitively, the LDA model tries to find groups of words (the topics) that appear\n",
    "together frequently. LDA also requires that each document can be understood as a\n",
    "“mixture” of a subset of the topics. It is important to understand that for the machine\n",
    "learning model a “topic” might not be what we would normally call a topic in every‐\n",
    "day speech, but that it resembles more the components extracted by PCA or NMF,\n",
    "which might or might not have a semantic meaning.\n",
    "\n",
    "Even if there is a semantic meaning for an LDA “topic”, it might not be some‐\n",
    "thing we’d usually call a topic. Going back to the example of news articles, we might\n",
    "have a collection of articles about sports, politics, and finance, written by two specific\n",
    "authors. In a politics article, we might expect to see words like “governor,” “vote,”\n",
    "“party,” etc., while in a sports article we might expect words like “team,” “score,” and\n",
    "“season.” Words in each of these groups will likely appear together, while it’s less likely\n",
    "that, for example, “team” and “governor” will appear together. However, these are not\n",
    "the only groups of words we might expect to appear together. The two reporters\n",
    "might prefer different phrases or different choices of words. Maybe one of them likes\n",
    "to use the word “demarcate” and one likes the word “polarize.” Other “topics” would\n",
    "then be “words often used by reporter A” and “words often used by reporter B,”\n",
    "though these are not topics in the usual sense of the word.\n",
    "\n",
    "Let’s apply LDA to our movie review dataset to see how it works in practice. For\n",
    "unsupervised text document models, it is often good to remove very common words,\n",
    "as they might otherwise dominate the analysis. We’ll remove words that appear in at\n",
    "least 20 percent of the documents, and we’ll limit the bag-of-words model to the\n",
    "10,000 words that are most common after removing the top 20 percent:"
   ]
  },
  {
   "cell_type": "code",
   "execution_count": 62,
   "metadata": {},
   "outputs": [],
   "source": [
    "vect = CountVectorizer(max_features = 10000, max_df = 0.15)\n",
    "X = vect.fit_transform(text_train)"
   ]
  },
  {
   "cell_type": "markdown",
   "metadata": {},
   "source": [
    "We will learn a topic model with 10 topics, which is few enough that we can look at all\n",
    "of them. Similarly to the components in NMF, topics don’t have an inherent ordering,\n",
    "and changing the number of topics will change all of the topics. 10 We’ll use the\n",
    "\"batch\" learning method, which is somewhat slower than the default ( \"online\" ) but\n",
    "usually provides better results, and increase \"max_iter\" , which can also lead to better\n",
    "models:"
   ]
  },
  {
   "cell_type": "code",
   "execution_count": 63,
   "metadata": {},
   "outputs": [],
   "source": [
    "from sklearn.decomposition import LatentDirichletAllocation\n",
    "lda = LatentDirichletAllocation(\n",
    "    n_components = 10, learning_method = 'batch', max_iter = 25,\n",
    "    random_state = 0\n",
    ")\n",
    "\n",
    "# we build the model and transform the data in one step\n",
    "# computing transform takes some time\n",
    "# and we cans ave time by doing both at once\n",
    "documet_topics = lda.fit_transform(X)"
   ]
  },
  {
   "cell_type": "markdown",
   "metadata": {},
   "source": [
    "Like the decomposition methods we saw in Chapter 3, LatentDirichletAllocation\n",
    "has a components_ attribute that stores how important each word is for each topic.\n",
    "The size of components_ is `(n_topics, n_words)` :"
   ]
  },
  {
   "cell_type": "code",
   "execution_count": 64,
   "metadata": {},
   "outputs": [
    {
     "data": {
      "text/plain": [
       "(10, 10000)"
      ]
     },
     "execution_count": 64,
     "metadata": {},
     "output_type": "execute_result"
    }
   ],
   "source": [
    "lda.components_.shape"
   ]
  },
  {
   "cell_type": "markdown",
   "metadata": {},
   "source": [
    "To understand better what the different topics mean, we will look at the most impor‐\n",
    "tant words for each of the topics. The print_topics function provides a nice format‐\n",
    "ting for these features:"
   ]
  },
  {
   "cell_type": "code",
   "execution_count": 65,
   "metadata": {},
   "outputs": [],
   "source": [
    "# for each topic (a row in the components_),\n",
    "# sort the features (ascending)\n",
    "sorting = np.argsort(lda.components_, axis = 1)[:, ::-1]\n",
    "\n",
    "# get the feature names from the vectorizer\n",
    "feature_names = np.array(vect.get_feature_names())"
   ]
  },
  {
   "cell_type": "code",
   "execution_count": 67,
   "metadata": {},
   "outputs": [
    {
     "name": "stderr",
     "output_type": "stream",
     "text": [
      "/home/concerta/.virtualenvs/lab/lib/python3.7/site-packages/sklearn/externals/six.py:31: FutureWarning: The module is deprecated in version 0.21 and will be removed in version 0.23 since we've dropped support for Python 2.7. Please rely on the official version of six (https://pypi.org/project/six/).\n",
      "  \"(https://pypi.org/project/six/).\", FutureWarning)\n"
     ]
    },
    {
     "name": "stdout",
     "output_type": "stream",
     "text": [
      "topic 0       topic 1       topic 2       topic 3       topic 4       \n",
      "--------      --------      --------      --------      --------      \n",
      "funny         action        women         allen         john          \n",
      "comedy        fight         sex           superman      wife          \n",
      "sci           new           gay           bruce         police        \n",
      "fi            western       men           peter         harry         \n",
      "alien         hero          japanese      woody         cop           \n",
      "\n",
      "\n",
      "topic 5       topic 6       topic 7       topic 8       topic 9       \n",
      "--------      --------      --------      --------      --------      \n",
      "role          us            show          horror        game          \n",
      "performance   world         watching      pretty        video         \n",
      "cast          war           didn          doesn         music         \n",
      "young         real          funny         nothing       lot           \n",
      "plays         american      thought       guy           special       \n",
      "\n",
      "\n"
     ]
    },
    {
     "name": "stderr",
     "output_type": "stream",
     "text": [
      "/home/concerta/.virtualenvs/lab/lib/python3.7/site-packages/sklearn/externals/joblib/__init__.py:15: FutureWarning: sklearn.externals.joblib is deprecated in 0.21 and will be removed in 0.23. Please import this functionality directly from joblib, which can be installed with: pip install joblib. If this warning is raised when loading pickled models, you may need to re-serialize those models with scikit-learn 0.21+.\n",
      "  warnings.warn(msg, category=FutureWarning)\n"
     ]
    }
   ],
   "source": [
    "# print out the 10 topics\n",
    "import mglearn\n",
    "mglearn.tools.print_topics(\n",
    "    topics = range(0, 10), feature_names = feature_names,\n",
    "    sorting = sorting, topics_per_chunk = 5, n_words = 5\n",
    ")"
   ]
  },
  {
   "cell_type": "code",
   "execution_count": 68,
   "metadata": {},
   "outputs": [],
   "source": [
    "# do a 100 topics model\n",
    "lda100 = LatentDirichletAllocation(\n",
    "    n_components =100, learning_method = 'batch', max_iter = 25,\n",
    "    random_state = 0\n",
    ")\n",
    "\n",
    "document_topics100 = lda100.fit_transform(X)"
   ]
  },
  {
   "cell_type": "code",
   "execution_count": 69,
   "metadata": {},
   "outputs": [
    {
     "name": "stdout",
     "output_type": "stream",
     "text": [
      "topic 7       topic 16      topic 24      topic 25      topic 28      topic 36      topic 45      \n",
      "--------      --------      --------      --------      --------      --------      --------      \n",
      "jackson       role          harry         funny         original      columbo       bruce         \n",
      "michael       cast          black         comedy        bear          years         martial       \n",
      "another       performance   same          laugh         ha            lord          lee           \n",
      "music         audience      eastwood      jokes         comedy        wonderful     arts          \n",
      "years         doesn         young         humor         down          rings         batman        \n",
      "mr            actors        dirty         didn          red           performance   though        \n",
      "dvd           script        old           10            same          part          bronson       \n",
      "again         director      cast          pretty        makes         look          himself       \n",
      "now           makes         actors        budget        rage          pauline       cop           \n",
      "care          yet           michael       fun           now           woman         fight         \n",
      "children      moments       real          low           cat           actually      death         \n",
      "few           lead          each          lot           grizzly       mr            down          \n",
      "big           direction     years         quite         cut           us            let           \n",
      "video         work          together      wasn          pretty        last          drama         \n",
      "paul          quite         own           want          re            three         art           \n",
      "found         james         killer        moments       effects       cast          earth         \n",
      "both          look          plays         few           part          crawford      quite         \n",
      "since         city          world         actors        going         women         island        \n",
      "look          isn           down          though        every         work          got           \n",
      "ll            performances  gorilla       big           oh            hand          must          \n",
      "\n",
      "\n",
      "topic 52      topic 53      topic 54      topic 66      topic 78      topic 98      \n",
      "--------      --------      --------      --------      --------      --------      \n",
      "kill          metal         real          effects       dog           documentary   \n",
      "years         stage         old           special       boy           old           \n",
      "bill          music         karen         monster       astro         real          \n",
      "fun           nadja         london        alien         though        actresses     \n",
      "tarantino     totally       marx          fi            bones         found         \n",
      "old           work          look          sci           our           look          \n",
      "now           black         may           creature      comedy        family        \n",
      "whole         lines         store         space         pokemon       might         \n",
      "real          look          mr            aliens        paltrow       sex           \n",
      "things        seems         big           looks         emma          knows         \n",
      "seems         julie         brothers      earth         credits       actually      \n",
      "used          invisible     long          ship          role          boll          \n",
      "christmas     heavy         play          cgi           gwyneth       nice          \n",
      "may           seeing        lincoln       crew          cheap         kind          \n",
      "lady          prince        during        planet        rukh          done          \n",
      "director      stuff         especially    giant         mace          kid           \n",
      "down          everyone      screen        pretty        series        billy         \n",
      "during        action        work          human         bit           rose          \n",
      "didn          almost        series        creatures     kickboxer     screen        \n",
      "action        samir         world         monsters      reason        thought       \n",
      "\n",
      "\n"
     ]
    }
   ],
   "source": [
    "topics = np.array(\n",
    "    [7, 16, 24, 25, 28, 36, 45, 52, 53, 54, 66, 78, 98]\n",
    ")\n",
    "\n",
    "sorting = np.argsort(lda100.components_, axis = 1)[:, ::-1]\n",
    "feature_names = np.array(vect.get_feature_names())\n",
    "mglearn.tools.print_topics(\n",
    "    topics = topics, feature_names = feature_names,\n",
    "    sorting = sorting, topics_per_chunk = 7, n_words = 20\n",
    ")"
   ]
  },
  {
   "cell_type": "code",
   "execution_count": 70,
   "metadata": {},
   "outputs": [
    {
     "data": {
      "image/png": "[encoded data removed]",
      "text/plain": [
       "<Figure size 720x720 with 2 Axes>"
      ]
     },
     "metadata": {
      "needs_background": "light"
     },
     "output_type": "display_data"
    }
   ],
   "source": [
    "# show topics learned\n",
    "import matplotlib.pyplot as plt\n",
    "fig, ax = plt.subplots(1, 2, figsize = (10, 10))\n",
    "topic_names = [f'{i:>2} ' + ' '.join(words) for i, words in enumerate(feature_names[sorting[:, :2]])]\n",
    "\n",
    "# two columm bar chart\n",
    "for col in [0, 1]:\n",
    "    start = col * 50\n",
    "    end = (col + 1) * 50\n",
    "    ax[col].barh(np.arange(50), np.sum(document_topics100, axis = 0)[start:end])\n",
    "    ax[col].set_yticks(np.arange(50))\n",
    "    ax[col].set_yticklabels(topic_names[start:end], ha = 'left', va = 'top')\n",
    "    ax[col].invert_yaxis()\n",
    "    ax[col].set_xlim(0, 2000)\n",
    "    yax = ax[col].get_yaxis()\n",
    "    yax.set_tick_params(pad = 130)\n",
    "\n",
    "plt.tight_layout()"
   ]
  },
  {
   "cell_type": "code",
   "execution_count": null,
   "metadata": {},
   "outputs": [],
   "source": []
  },
  {
   "cell_type": "code",
   "execution_count": null,
   "metadata": {},
   "outputs": [],
   "source": []
  }
 ],
 "metadata": {
  "kernelspec": {
   "display_name": "Python 3.7.4 64-bit ('lab': virtualenv)",
   "language": "python",
   "name": "python37464bitlabvirtualenved77d976613b4753a84284c005b6ce98"
  },
  "language_info": {
   "codemirror_mode": {
    "name": "ipython",
    "version": 3
   },
   "file_extension": ".py",
   "mimetype": "text/x-python",
   "name": "python",
   "nbconvert_exporter": "python",
   "pygments_lexer": "ipython3",
   "version": "3.7.4"
  }
 },
 "nbformat": 4,
 "nbformat_minor": 4
}
