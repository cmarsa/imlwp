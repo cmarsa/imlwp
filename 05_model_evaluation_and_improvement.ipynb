{
 "cells": [
  {
   "cell_type": "markdown",
   "metadata": {},
   "source": [
    "# __05 Model Evaluation and Improvement__"
   ]
  },
  {
   "cell_type": "markdown",
   "metadata": {},
   "source": [
    "To evaluate our supervised models, so far we have split our dataset into a training set\n",
    "and a test set using the `train_test_split` function, built a model on the training set\n",
    "by calling the fit method, and evaluated it on the test set using the score method,\n",
    "which for classification computes the fraction of correctly classified samples. Here’s\n",
    "an example of that process:"
   ]
  },
  {
   "cell_type": "code",
   "execution_count": 2,
   "metadata": {},
   "outputs": [
    {
     "name": "stdout",
     "output_type": "stream",
     "text": [
      "test set score: 0.88\n"
     ]
    },
    {
     "name": "stderr",
     "output_type": "stream",
     "text": [
      "/home/concerta/.virtualenvs/lab/lib/python3.7/importlib/_bootstrap.py:219: RuntimeWarning: numpy.ufunc size changed, may indicate binary incompatibility. Expected 192 from C header, got 216 from PyObject\n",
      "  return f(*args, **kwds)\n"
     ]
    }
   ],
   "source": [
    "from sklearn.datasets import make_blobs\n",
    "from sklearn.linear_model import LogisticRegression\n",
    "from sklearn.model_selection import train_test_split\n",
    "\n",
    "# create a synthetic dataset\n",
    "X, y = make_blobs(random_state = 0)\n",
    "\n",
    "# split data nad labels into a training and a test set\n",
    "X_train, X_test, y_train, y_test = train_test_split(X, y, random_state = 0)\n",
    "\n",
    "# instantiate a model and fit it to the training set\n",
    "logreg = LogisticRegression().fit(X_train, y_train)\n",
    "\n",
    "# evaluate the model in the test set\n",
    "print(f'test set score: {logreg.score(X_test, y_test):.2f}')"
   ]
  },
  {
   "cell_type": "markdown",
   "metadata": {},
   "source": [
    "In this chapter, we will expand on two aspects of this evaluation. We will first intro‐\n",
    "duce cross-validation, a more robust way to assess generalization performance, and\n",
    "discuss methods to evaluate classification and regression performance that go beyond\n",
    "the default measures of accuracy and $R^2$ provided by the score method."
   ]
  },
  {
   "cell_type": "markdown",
   "metadata": {},
   "source": [
    "## __Cross Validation__"
   ]
  },
  {
   "cell_type": "markdown",
   "metadata": {},
   "source": [
    "_Cross-Validation_ is a statistical method of evaluating generalization\n",
    "performance that is more stable and thorough than using a split into\n",
    "a training and a test set. I cross-validation, the data is instead split\n",
    "repeatedly and multiple models are trained.\n",
    "\n",
    "The most commonly used version of cross-validation is __k-fold cross validation__, where _k_\n",
    "is a user specified number. When performing _k-fold cross validation_, the data is first\n",
    "partitioned into _k_ parts of (approximately) equal size, called _folds_.\n",
    "Next, a sequence of models is trained. The first mdoel is trained using the first\n",
    "fold as the test set, and the remaining folds 2-_k_ are used as the training set.\n",
    "\n",
    "The model is built using the data in folds 2–k, and then the accuracy is evaluated on fold 1. Then\n",
    "another model is built, this time using fold 2 as the test set and the data in folds 1, 3,\n",
    "4, ..., _k_ as the training set. This process is repeated using folds 3, 4, ...,  _k_ as test sets.\n",
    "For each of these five splits of the data into training and test sets, we compute the\n",
    "accuracy. In the end, we have collected _k_ accuracy values."
   ]
  },
  {
   "cell_type": "code",
   "execution_count": 3,
   "metadata": {},
   "outputs": [
    {
     "name": "stderr",
     "output_type": "stream",
     "text": [
      "/home/concerta/.virtualenvs/lab/lib/python3.7/importlib/_bootstrap.py:219: RuntimeWarning: numpy.ufunc size changed, may indicate binary incompatibility. Expected 192 from C header, got 216 from PyObject\n",
      "  return f(*args, **kwds)\n",
      "/home/concerta/.virtualenvs/lab/lib/python3.7/site-packages/sklearn/externals/six.py:31: FutureWarning: The module is deprecated in version 0.21 and will be removed in version 0.23 since we've dropped support for Python 2.7. Please rely on the official version of six (https://pypi.org/project/six/).\n",
      "  \"(https://pypi.org/project/six/).\", FutureWarning)\n",
      "/home/concerta/.virtualenvs/lab/lib/python3.7/importlib/_bootstrap.py:219: RuntimeWarning: numpy.ufunc size changed, may indicate binary incompatibility. Expected 192 from C header, got 216 from PyObject\n",
      "  return f(*args, **kwds)\n",
      "/home/concerta/.virtualenvs/lab/lib/python3.7/site-packages/sklearn/externals/joblib/__init__.py:15: FutureWarning: sklearn.externals.joblib is deprecated in 0.21 and will be removed in 0.23. Please import this functionality directly from joblib, which can be installed with: pip install joblib. If this warning is raised when loading pickled models, you may need to re-serialize those models with scikit-learn 0.21+.\n",
      "  warnings.warn(msg, category=FutureWarning)\n"
     ]
    },
    {
     "data": {
      "image/png": "[encoded data removed]",
      "text/plain": [
       "<Figure size 864x144 with 1 Axes>"
      ]
     },
     "metadata": {
      "needs_background": "light"
     },
     "output_type": "display_data"
    }
   ],
   "source": [
    "import mglearn\n",
    "mglearn.plots.plot_cross_validation()"
   ]
  },
  {
   "cell_type": "code",
   "execution_count": 4,
   "metadata": {},
   "outputs": [],
   "source": [
    "# prettu print numpy floats\n",
    "import numpy as np\n",
    "np.set_printoptions(precision = 3)"
   ]
  },
  {
   "cell_type": "code",
   "execution_count": 5,
   "metadata": {},
   "outputs": [
    {
     "name": "stdout",
     "output_type": "stream",
     "text": [
      "cross-validation scores: [0.967 1.    0.933 0.967 1.   ]\n"
     ]
    }
   ],
   "source": [
    "# applying cross-validation in scikit-learn\n",
    "from sklearn.model_selection import cross_val_score\n",
    "from sklearn.datasets import load_iris\n",
    "from sklearn.linear_model import LogisticRegression\n",
    "\n",
    "iris = load_iris()\n",
    "logreg = LogisticRegression(max_iter = 9000)\n",
    "\n",
    "scores = cross_val_score(logreg, iris.data, iris.target)\n",
    "print(f'cross-validation scores: {scores}')"
   ]
  },
  {
   "cell_type": "code",
   "execution_count": 6,
   "metadata": {},
   "outputs": [
    {
     "name": "stdout",
     "output_type": "stream",
     "text": [
      "average cross-validation score: 0.973\n"
     ]
    }
   ],
   "source": [
    "# averag cross validation\n",
    "print(f'average cross-validation score: {scores.mean():.3f}')"
   ]
  },
  {
   "cell_type": "markdown",
   "metadata": {},
   "source": [
    "Using the mean cross-validation we can conclude that we expect the model to be\n",
    "around 96% accurate on average. Looking at all five scores produced by the five-fold\n",
    "cross-validation, we can also conclude that there is a relatively high variance in the\n",
    "accuracy between folds, ranging from 100% accuracy to 90% accuracy. This could\n",
    "imply that the model is very dependent on the particular folds used for training, but it\n",
    "could also just be a consequence of the small size of the dataset."
   ]
  },
  {
   "cell_type": "markdown",
   "metadata": {},
   "source": [
    "There are several benefits to using cross-validation instead of a single split into a\n",
    "training and a test set. First, remember that train_test_split performs a random\n",
    "split of the data. Imagine that we are “lucky” when randomly splitting the data, and\n",
    "all examples that are hard to classify end up in the training set. In that case, the test\n",
    "set will only contain “easy” examples, and our test set accuracy will be unrealistically\n",
    "high. Conversely, if we are “unlucky,” we might have randomly put all the hard-to-\n",
    "classify examples in the test set and consequently obtain an unrealistically low score.\n",
    "However, when using cross-validation, each example will be in the training set exactly\n",
    "once: each example is in one of the folds, and each fold is the test set once. Therefore,\n",
    "the model needs to generalize well to all of the samples in the dataset for all of the\n",
    "cross-validation scores (and their mean) to be high.\n",
    "\n",
    "Having multiple splits of the data also provides some information about how sensi‐\n",
    "tive our model is to the selection of the training dataset. For the iris dataset, we saw\n",
    "accuracies between 90% and 100%. This is quite a range, and it provides us with an\n",
    "idea about how the model might perform in the worst case and best case scenarios\n",
    "when applied to new data.\n",
    "\n",
    "Another benefit of cross-validation as compared to using a single split of the data is\n",
    "that we use our data more effectively. When using train_test_split , we usually use\n",
    "75% of the data for training and 25% of the data for evaluation. When using five-fold\n",
    "cross-validation, in each iteration we can use four-fifths of the data (80%) to fit the\n",
    "model. When using 10-fold cross-validation, we can use nine-tenths of the data\n",
    "(90%) to fit the model. More data will usually result in more accurate models."
   ]
  },
  {
   "cell_type": "markdown",
   "metadata": {},
   "source": [
    "The main disadvantage of cross-validation is increased computational cost. As we are\n",
    "now training k models instead of a single model, cross-validation will be roughly k\n",
    "times slower than doing a single split of the data."
   ]
  },
  {
   "cell_type": "markdown",
   "metadata": {},
   "source": [
    "## Stratified k-Fold Cross-Validation and Other Strategies"
   ]
  },
  {
   "cell_type": "markdown",
   "metadata": {},
   "source": [
    "scikit-learn does not use vanilla k-fold crossvalidation for classifica‐\n",
    "tion, but rather uses stratified k-fold cross-validation. In stratified cross-validation, we\n",
    "split the data such that the proportions between classes are the same in each fold as\n",
    "they are in the whole dataset."
   ]
  },
  {
   "cell_type": "code",
   "execution_count": 7,
   "metadata": {},
   "outputs": [
    {
     "data": {
      "image/png": "[encoded data removed]",
      "text/plain": [
       "<Figure size 864x360 with 2 Axes>"
      ]
     },
     "metadata": {
      "needs_background": "light"
     },
     "output_type": "display_data"
    }
   ],
   "source": [
    "mglearn.plots.plot_stratified_cross_validation()"
   ]
  },
  {
   "cell_type": "markdown",
   "metadata": {},
   "source": [
    "It is usually a good idea to use stratified k-fold cross-validation instead of k-fold\n",
    "cross-validation to evaluate a classifier, because it results in more reliable estimates of\n",
    "generalization performance. In the case of only 10% of samples belonging to class B,\n",
    "using standard k-fold cross-validation it might easily happen that one fold only con‐\n",
    "tains samples of class A. Using this fold as a test set would not be very informative\n",
    "about the overall performance of the classifier.\n",
    "\n",
    "For regression, scikit-learn uses the standard k-fold cross-validation by default. It\n",
    "would be possible to also try to make each fold representative of the different values\n",
    "the regression target has, but this is not a commonly used strategy and would be sur‐\n",
    "prising to most users."
   ]
  },
  {
   "cell_type": "markdown",
   "metadata": {},
   "source": [
    "#### More control over cross-validation"
   ]
  },
  {
   "cell_type": "markdown",
   "metadata": {},
   "source": [
    "We saw earlier that we can adjust the number of folds that are used in\n",
    "cross_val_score using the cv parameter. However, scikit-learn allows for much\n",
    "finer control over what happens during the splitting of the data by providing a cross-\n",
    "validation splitter as the cv parameter. For most use cases, the defaults of k-fold cross-\n",
    "validation for regression and stratified k-fold for classification work well, but there\n",
    "are some cases where you might want to use a different strategy. Say, for example, we\n",
    "want to use the standard k-fold cross-validation on a classification dataset to repro‐\n",
    "duce someone else’s results. To do this, we first have to import the KFold splitter class\n",
    "from the model_selection module and instantiate it with the number of folds we\n",
    "want to use:"
   ]
  },
  {
   "cell_type": "code",
   "execution_count": 8,
   "metadata": {},
   "outputs": [
    {
     "name": "stdout",
     "output_type": "stream",
     "text": [
      "cross validation scores: [0. 0. 0.]\n"
     ]
    }
   ],
   "source": [
    "from sklearn.model_selection import KFold\n",
    "kfold = KFold(n_splits = 3)\n",
    "print(f'cross validation scores: {cross_val_score(logreg, iris.data, iris.target, cv = kfold)}')"
   ]
  },
  {
   "cell_type": "markdown",
   "metadata": {},
   "source": [
    "This way, we can verify that it is indeed a really bad idea to use three-fold (nonstrati‐\n",
    "fied) cross-validation on the iris dataset."
   ]
  },
  {
   "cell_type": "code",
   "execution_count": 9,
   "metadata": {},
   "outputs": [
    {
     "name": "stdout",
     "output_type": "stream",
     "text": [
      "cross-validation scores:  [0.98 0.96 0.96]\n"
     ]
    }
   ],
   "source": [
    "# shuffle data in Kfold\n",
    "kfold = KFold(n_splits = 3, shuffle = True, random_state = 0)\n",
    "print('cross-validation scores: ', cross_val_score(logreg, iris.data, iris.target, cv = kfold))"
   ]
  },
  {
   "cell_type": "markdown",
   "metadata": {},
   "source": [
    "Another frequently used cross-validation method is __leave-one-out__. You can think of\n",
    "leave-one-out cross-validation as k-fold cross-validation where each fold is a single\n",
    "sample. For each split, you pick a single data point to be the test set. This can be very\n",
    "time consuming, particularly for large datasets, but sometimes provides better estimates on small datasets:"
   ]
  },
  {
   "cell_type": "code",
   "execution_count": 10,
   "metadata": {},
   "outputs": [
    {
     "name": "stdout",
     "output_type": "stream",
     "text": [
      "number of cv iterations:  150\n",
      "mean accuracy: 0.967\n"
     ]
    }
   ],
   "source": [
    "from sklearn.model_selection import LeaveOneOut\n",
    "loo = LeaveOneOut()\n",
    "scores = cross_val_score(logreg, iris.data, iris.target, cv = loo)\n",
    "print('number of cv iterations: ', len(scores))\n",
    "print(f'mean accuracy: {scores.mean():.3f}')"
   ]
  },
  {
   "cell_type": "markdown",
   "metadata": {},
   "source": [
    "### Shuffle-Split Cross-Validation"
   ]
  },
  {
   "cell_type": "markdown",
   "metadata": {},
   "source": [
    "Another, very flexible strategy for cross-validation is shuffle-split cross-validation. In\n",
    "shuffle-split cross-validation, each split samples `train_size` many points for the\n",
    "training set and `test_size` many (disjoint) point for the test set. This splitting is\n",
    "repeated `n_iter` times."
   ]
  },
  {
   "cell_type": "code",
   "execution_count": 11,
   "metadata": {},
   "outputs": [
    {
     "data": {
      "image/png": "[encoded data removed]",
      "text/plain": [
       "<Figure size 720x144 with 1 Axes>"
      ]
     },
     "metadata": {
      "needs_background": "light"
     },
     "output_type": "display_data"
    }
   ],
   "source": [
    "mglearn.plots.plot_shuffle_split()"
   ]
  },
  {
   "cell_type": "code",
   "execution_count": 12,
   "metadata": {},
   "outputs": [
    {
     "name": "stdout",
     "output_type": "stream",
     "text": [
      "cross-validation scores: [0.973 0.96  0.947 0.933 0.987 0.987 0.947 0.973 0.907 0.987]\n"
     ]
    }
   ],
   "source": [
    "# split dataset into 50% training set\n",
    "# and 50% test set for 10 iterations\n",
    "from sklearn.model_selection import ShuffleSplit\n",
    "shuffle_split = ShuffleSplit(test_size = 0.5, train_size = 0.5, n_splits = 10)\n",
    "scores = cross_val_score(logreg, iris.data, iris.target, cv = shuffle_split)\n",
    "print(f'cross-validation scores: {scores}')"
   ]
  },
  {
   "cell_type": "markdown",
   "metadata": {},
   "source": [
    "Shuffle-split cross-validation allows for control over the number of iterations inde‐\n",
    "pendently of the training and test sizes, which can sometimes be helpful. It also allows\n",
    "for using only part of the data in each iteration, by providing `train_size` and\n",
    "`test_size` settings that don’t add up to one. Subsampling the data in this way can be\n",
    "useful for experimenting with large datasets."
   ]
  },
  {
   "cell_type": "markdown",
   "metadata": {},
   "source": [
    "### __Cross-Validation with groups__"
   ]
  },
  {
   "cell_type": "markdown",
   "metadata": {},
   "source": [
    "Another very common setting for cross-validation is when there are groups in the\n",
    "data that are highly related. Say you want to build a system to recognize emotions\n",
    "from pictures of faces, and you collect a dataset of pictures of 100 people where each\n",
    "person is captured multiple times, showing various emotions. The goal is to build a\n",
    "classifier that can correctly identify emotions of people not in the dataset. You could\n",
    "use the default stratified cross-validation to measure the performance of a classifier\n",
    "here. However, it is likely that pictures of the same person will be in both the training\n",
    "and the test set. It will be much easier for a classifier to detect emotions in a face that\n",
    "is part of the training set, compared to a completely new face. To accurately evaluate\n",
    "the generalization to new faces, we must therefore ensure that the training and test\n",
    "sets contain images of different people."
   ]
  },
  {
   "cell_type": "markdown",
   "metadata": {},
   "source": [
    "To achieve this, we can use `GroupKFold`, which takes an array of groups ar argument that we can use to\n",
    "indicate which person is in the image. The `groups` array here indicates groups in the data\n",
    "that should not be split whenc reating the training ant test sets, and should no be\n",
    "confused with the class label.\n",
    "\n",
    "This example of groups in the data is common in medical applications, where you\n",
    "might have multiple samples from the same patient, but are interested in generalizing\n",
    "to new patients. Similarly, in speech recognition, you might have multiple recordings\n",
    "of the same speaker in your dataset, but are interested in recognizing speech of new\n",
    "speakers.\n",
    "\n",
    "The following is an example of using a synthetic dataset with a grouping given by the\n",
    "groups array. The dataset consists of 12 data points, and for each of the data points,\n",
    "groups specifies which group (think patient) the point belongs to. The groups specify\n",
    "that there are four groups, and the first three samples belong to the first group, the\n",
    "next four samples belong to the second group, and so on:"
   ]
  },
  {
   "cell_type": "code",
   "execution_count": 13,
   "metadata": {},
   "outputs": [
    {
     "name": "stdout",
     "output_type": "stream",
     "text": [
      "cross validation scores:  [0.75  0.6   0.667]\n"
     ]
    }
   ],
   "source": [
    "from sklearn.model_selection import GroupKFold\n",
    "\n",
    "# create synthetic dataset\n",
    "X, y = make_blobs(n_samples = 12, random_state = 0)\n",
    "\n",
    "# assume the first three samples belong to the same group\n",
    "# then the next four, etc\n",
    "groups = [0, 0, 0, 1, 1, 1, 1, 2, 2, 3, 3, 3]\n",
    "scores = cross_val_score(logreg, X, y, groups, cv = GroupKFold(n_splits = 3))\n",
    "print('cross validation scores: ', scores)"
   ]
  },
  {
   "cell_type": "markdown",
   "metadata": {},
   "source": [
    "As you can see, for each split, each group is either entirely in the training set or\n",
    "entirely in the test set:"
   ]
  },
  {
   "cell_type": "code",
   "execution_count": 14,
   "metadata": {},
   "outputs": [
    {
     "data": {
      "image/png": "[encoded data removed]",
      "text/plain": [
       "<Figure size 720x144 with 1 Axes>"
      ]
     },
     "metadata": {
      "needs_background": "light"
     },
     "output_type": "display_data"
    }
   ],
   "source": [
    "mglearn.plots.plot_group_kfold()"
   ]
  },
  {
   "cell_type": "markdown",
   "metadata": {},
   "source": [
    "## __Grid Search__"
   ]
  },
  {
   "cell_type": "markdown",
   "metadata": {},
   "source": [
    "Now that we know how to evaluate how well a model generalizes, we can take the\n",
    "next step and improve the model’s generalization performance by tuning its parame‐\n",
    "ters.\n",
    "Finding the values of the important parameters of a\n",
    "model (the ones that provide the best generalization performance) is a tricky task, but\n",
    "necessary for almost all models and datasets. Because it is such a common task, there\n",
    "are standard methods in scikit-learn to help you with it. The most commonly used\n",
    "method is grid search, which basically means trying all possible combinations of the\n",
    "parameters of interest.\n"
   ]
  },
  {
   "cell_type": "markdown",
   "metadata": {},
   "source": [
    "### __Simple Grid Search__"
   ]
  },
  {
   "cell_type": "markdown",
   "metadata": {},
   "source": [
    "We can implement a simple grid search just as `for` loops over the two parameters,\n",
    "training and evaluating a classifeir for each combination:\n"
   ]
  },
  {
   "cell_type": "code",
   "execution_count": 15,
   "metadata": {},
   "outputs": [
    {
     "name": "stdout",
     "output_type": "stream",
     "text": [
      "shape of training set: (112, 4)   |   shape of test set: (38, 4)\n",
      "best score: 0.97\n",
      "best parameters: {'C': 100, 'gamma': 0.001}\n"
     ]
    }
   ],
   "source": [
    "# naive grid search implementation\n",
    "from sklearn.svm import SVC\n",
    "\n",
    "X_train, X_test, y_train, y_test = train_test_split(\n",
    "    iris.data, iris.target, random_state = 0\n",
    ")\n",
    "\n",
    "print(f'shape of training set: {X_train.shape}', end = '   |   ')\n",
    "print(f'shape of test set: {X_test.shape}')\n",
    "\n",
    "best_score = 0\n",
    "for gamma in [0.001, 0.01, 0.1, 1, 10, 100]:\n",
    "    for C in [0.001, 0.01, 0.1, 1, 10, 100]:\n",
    "        # for each combination of parameters, train an SVC\n",
    "        svm = SVC(gamma = gamma, C = C)\n",
    "        svm.fit(X_train, y_train)\n",
    "        \n",
    "        #evaluate the SVC in the test set\n",
    "        score = svm.score(X_test, y_test)\n",
    "        \n",
    "        #if we got a better score, store the score and params\n",
    "        if score > best_score:\n",
    "            best_score = score\n",
    "            best_parameters = {'C': C, 'gamma': gamma}\n",
    "    \n",
    "print(f'best score: {best_score:.2f}')\n",
    "print(f'best parameters: {best_parameters}')"
   ]
  },
  {
   "cell_type": "markdown",
   "metadata": {},
   "source": [
    "### __The Danger of Overfitting the Parameters and Validation Set__"
   ]
  },
  {
   "cell_type": "markdown",
   "metadata": {},
   "source": [
    "Given this resutl, we might be tempted to report that we dounf a model that\n",
    "performs 97% accuracy on out dataset. However, this claom could be overly\n",
    "optimistic (or just wrong), for thr following reason: we tried many\n",
    "different parameters and selected the one with best accuracy on the test set, but\n",
    "this accuracy won't necessarily carry over to new data. Because we used the test data\n",
    "to adjust the parameters, we can no longer use it to asses how good the model is.\n",
    "This is the same reason we needed to split the data into training and test\n",
    "sets int he first place; we need an independent dataset to evaluateç, one that\n",
    "was not used to create the model.\n",
    "\n",
    "One way to resolve this problem is to split the data again, so we have three sets: the\n",
    "training set to build the model, the validation (or development) set to select the\n",
    "parameters of the model, and the test set to evaluate the performance of the selected\n",
    "parameters."
   ]
  },
  {
   "cell_type": "code",
   "execution_count": 16,
   "metadata": {},
   "outputs": [
    {
     "data": {
      "image/png": "[encoded data removed]",
      "text/plain": [
       "<Figure size 1080x72 with 1 Axes>"
      ]
     },
     "metadata": {
      "needs_background": "light"
     },
     "output_type": "display_data"
    }
   ],
   "source": [
    "mglearn.plots.plot_threefold_split()"
   ]
  },
  {
   "cell_type": "markdown",
   "metadata": {},
   "source": [
    "After selecting the best parameters using the validation set, we can rebuild a \n",
    "model using the parameter serings we found, but now training on both the training data\n",
    "and the validation data. This way, we can use as mich data as possible\n",
    "to build our model.\n"
   ]
  },
  {
   "cell_type": "code",
   "execution_count": 17,
   "metadata": {},
   "outputs": [
    {
     "name": "stdout",
     "output_type": "stream",
     "text": [
      "shape of training set: (84, 4)  |  shape of validation set: (28, 4)  |  shape of test set: (38, 4)\n",
      "Best score on validation set: 0.96\n",
      "Best parameters:  {'C': 10, 'gamma': 0.001}\n",
      "Test set score with best parameters: 0.92\n"
     ]
    }
   ],
   "source": [
    "# implementation of the addition of validation set\n",
    "from sklearn.svm import SVC\n",
    "\n",
    "# split data into train + validation set and test set\n",
    "X_trainval, X_test, y_trainval, y_test = train_test_split(\n",
    "    iris.data, iris.target, random_state = 0\n",
    ")\n",
    "\n",
    "# split train + validation set into training and validation set\n",
    "X_train, X_valid, y_train, y_valid = train_test_split(\n",
    "    X_trainval, y_trainval, random_state = 1\n",
    ")\n",
    "\n",
    "print(f'shape of training set: {X_train.shape}', end = '  |  ')\n",
    "print(f'shape of validation set: {X_valid.shape}', end = '  |  ')\n",
    "print(f'shape of test set: {X_test.shape}')\n",
    "\n",
    "\n",
    "best_score = 0\n",
    "model_parameters = [0.001, 0.001, 0.1, 1, 10, 100]\n",
    "for gamma in model_parameters:\n",
    "    for C in model_parameters:\n",
    "        # for each combination of parameters, train an SVC\n",
    "        svm = SVC(gamma = gamma, C = C)\n",
    "        svm.fit(X_train, y_train)\n",
    "        \n",
    "        # evaluate the SVC on the test set\n",
    "        score = svm.score(X_valid, y_valid)\n",
    "        \n",
    "        # if we got a better score, store the score and parameters\n",
    "        if score > best_score:\n",
    "            best_score = score\n",
    "            best_parameters = {'C': C, 'gamma': gamma}\n",
    "\n",
    "# rebuild a model in the combined training and validation set\n",
    "# and evaluate it on the test set\n",
    "svm = SVC(**best_parameters)\n",
    "svm.fit(X_trainval, y_trainval)\n",
    "\n",
    "test_score = svm.score(X_test, y_test)\n",
    "\n",
    "print(f\"Best score on validation set: {best_score:.2f}\")\n",
    "print(\"Best parameters: \", best_parameters)\n",
    "print(f\"Test set score with best parameters: {test_score:.2f}\")"
   ]
  },
  {
   "cell_type": "markdown",
   "metadata": {},
   "source": [
    "The best score on the validation set is 96%: slightly lower than before, probably\n",
    "because we used less data to train the model ( X_train is smaller now because we split\n",
    "our dataset twice). However, the score on the test set—the score that actually tells us\n",
    "how well we generalize—is even lower, at 92%. So we can only claim to classify new\n",
    "data 92% correctly, not 97% correctly as we thought before."
   ]
  },
  {
   "cell_type": "markdown",
   "metadata": {},
   "source": [
    "The distinction between the training set, validation set, and test set is fundamentally\n",
    "important to applying machine learning methods in practice. Any choices made\n",
    "based on the test set accuracy “leak” information from the test set into the model.\n",
    "Therefore, it is important to keep a separate test set, which is only used for the final\n",
    "evaluation. It is good practice to do all exploratory analysis and model selection using\n",
    "the combination of a training and a validation set, and reserve the test set for a final\n",
    "evaluation—this is even true for exploratory visualization. Strictly speaking, evaluat‐\n",
    "ing more than one model on the test set and choosing the better of the two will result\n",
    "in an overly optimistic estimate of how accurate the model is."
   ]
  },
  {
   "cell_type": "markdown",
   "metadata": {},
   "source": [
    "## __Grid Search with Cross-Valdiation__"
   ]
  },
  {
   "cell_type": "markdown",
   "metadata": {},
   "source": [
    "While the method of splitting the data into a training, a validation, and a test set\n",
    "that we just saw is workable, and relatively commonly used, it is quite sensitive to\n",
    "how exactly the data is split.\n",
    "\n",
    "For a better estimate of the generalziation performance, isntead of using\n",
    "a single split into a training and a validation set, we can use cross-validation to\n",
    "evaluate the performance of each parameter combination."
   ]
  },
  {
   "cell_type": "code",
   "execution_count": 18,
   "metadata": {},
   "outputs": [
    {
     "name": "stdout",
     "output_type": "stream",
     "text": [
      "shape of train-validation set: (112, 4)  |  shape of test set: (38, 4)\n",
      "Best score on validation set: 0.97\n",
      "Best parameters:  {'C': 10, 'gamma': 0.1}\n",
      "Test set score with best parameters: 0.97\n"
     ]
    }
   ],
   "source": [
    "# implementation of the addition of validation set\n",
    "from sklearn.svm import SVC\n",
    "\n",
    "# split data into train + validation set and test set\n",
    "X_trainval, X_test, y_trainval, y_test = train_test_split(\n",
    "    iris.data, iris.target, random_state = 0\n",
    ")\n",
    "\n",
    "print(f'shape of train-validation set: {X_trainval.shape}', end = '  |  ')\n",
    "print(f'shape of test set: {X_test.shape}')\n",
    "\n",
    "\n",
    "best_score = 0\n",
    "model_parameters = [0.001, 0.01, 0.1, 1, 10, 100]\n",
    "for gamma in model_parameters:\n",
    "    for C in model_parameters:\n",
    "        # for each combination of parameters, train an SVC\n",
    "        svm = SVC(gamma = gamma, C = C)\n",
    "        scores = cross_val_score(svm, X_trainval, y_trainval, cv = 5)\n",
    "        \n",
    "        # compute mean cross-validation accuracy\n",
    "        score = np.mean(scores)\n",
    "        # if we got a better score, store the score and parameters\n",
    "        if score > best_score:\n",
    "            best_score = score\n",
    "            best_parameters = {'C': C, 'gamma': gamma}\n",
    "\n",
    "# rebuild a model in the combined training and validation set\n",
    "# and evaluate it on the test set\n",
    "svm = SVC(**best_parameters)\n",
    "svm.fit(X_trainval, y_trainval)\n",
    "\n",
    "test_score = svm.score(X_test, y_test)\n",
    "\n",
    "print(f\"Best score on validation set: {best_score:.2f}\")\n",
    "print(\"Best parameters: \", best_parameters)\n",
    "print(f\"Test set score with best parameters: {test_score:.2f}\")"
   ]
  },
  {
   "cell_type": "markdown",
   "metadata": {},
   "source": [
    "For each parameter setting (only a subset is shown), five accuracy values are compu‐\n",
    "ted, one for each split in the cross-validation. Then the mean validation accuracy is\n",
    "computed for each parameter setting."
   ]
  },
  {
   "cell_type": "markdown",
   "metadata": {},
   "source": [
    "The overall process of splitting the data, running the grid srach\n",
    "and evaluating final parametes is depcited in the next diagram:"
   ]
  },
  {
   "cell_type": "code",
   "execution_count": 19,
   "metadata": {},
   "outputs": [
    {
     "data": {
      "image/png": "[encoded data removed]",
      "text/plain": [
       "<Figure size 700x210 with 1 Axes>"
      ]
     },
     "metadata": {
      "needs_background": "light"
     },
     "output_type": "display_data"
    }
   ],
   "source": [
    "mglearn.plots.plot_grid_search_overview()"
   ]
  },
  {
   "cell_type": "markdown",
   "metadata": {},
   "source": [
    "Because grid search with cross-validation is such a commonly used method to adjust\n",
    "parameters, `scikit-learn` provides the `GridSearchCV` class, which implements it in\n",
    "the form of an estimator. To use the GridSearchCV class, you first need to specify the\n",
    "parameters you want to search over using a dictionary. `GridSearchCV` will then per‐\n",
    "form all the necessary model fits. The keys of the dictionary are the names of parame‐\n",
    "ters we want to adjust (as given when constructing the model—in this case, C and\n",
    "gamma ), and the values are the parameter settings we want to try out."
   ]
  },
  {
   "cell_type": "code",
   "execution_count": 20,
   "metadata": {},
   "outputs": [
    {
     "name": "stdout",
     "output_type": "stream",
     "text": [
      "parameter grid:\n",
      "{'C': [0.001, 0.01, 0.1, 1, 10, 100], 'gamma': [0.001, 0.01, 0.1, 1, 10, 100]}\n"
     ]
    },
    {
     "data": {
      "text/plain": [
       "GridSearchCV(cv=5, error_score=nan,\n",
       "             estimator=SVC(C=1.0, break_ties=False, cache_size=200,\n",
       "                           class_weight=None, coef0=0.0,\n",
       "                           decision_function_shape='ovr', degree=3,\n",
       "                           gamma='scale', kernel='rbf', max_iter=-1,\n",
       "                           probability=False, random_state=None, shrinking=True,\n",
       "                           tol=0.001, verbose=False),\n",
       "             iid='deprecated', n_jobs=None,\n",
       "             param_grid={'C': [0.001, 0.01, 0.1, 1, 10, 100],\n",
       "                         'gamma': [0.001, 0.01, 0.1, 1, 10, 100]},\n",
       "             pre_dispatch='2*n_jobs', refit=True, return_train_score=False,\n",
       "             scoring=None, verbose=0)"
      ]
     },
     "execution_count": 20,
     "metadata": {},
     "output_type": "execute_result"
    }
   ],
   "source": [
    "param_grid = {\n",
    "    'C': [0.001, 0.01, 0.1, 1, 10, 100],\n",
    "    'gamma': [0.001, 0.01, 0.1, 1, 10, 100]\n",
    "}\n",
    "\n",
    "print(f'parameter grid:\\n{param_grid}')\n",
    "\n",
    "# now we can instntiate GridSearchCV\n",
    "from sklearn.model_selection import GridSearchCV\n",
    "from sklearn.svm import SVC\n",
    "\n",
    "grid_search = GridSearchCV(SVC(), param_grid = param_grid, cv = 5)\n",
    "\n",
    "# GridSearchCV will use cross-validation in place of the split into a training\n",
    "# and validation set that we used before. However, we still need to split\n",
    "# the data into a training and a test set, to avoid overfitting the parameters:\n",
    "X_train, X_test, y_train, y_test = train_test_split(\n",
    "    iris.data, iris.target, random_state = 0\n",
    ")\n",
    "\n",
    "# The grid_search object that we created behaves just like a\n",
    "# classifier; we can call the standard methods fit , predict , and score on it.\n",
    "grid_search.fit(X_train, y_train)"
   ]
  },
  {
   "cell_type": "code",
   "execution_count": 21,
   "metadata": {},
   "outputs": [
    {
     "name": "stdout",
     "output_type": "stream",
     "text": [
      "test set score: 0.974\n"
     ]
    }
   ],
   "source": [
    "print(f'test set score: {grid_search.score(X_test, y_test):.3f}')"
   ]
  },
  {
   "cell_type": "markdown",
   "metadata": {},
   "source": [
    "Choosing the parameters using cross-validation, we actually found a model that ach‐\n",
    "ieves 97% accuracy on the test set. The important thing here is that we did not use the\n",
    "test set to choose the parameters. The parameters that were found are scored in the\n",
    "`best_params_` attribute, and the best cross-valdiation accuracy is stored in\n",
    "`best_score_`"
   ]
  },
  {
   "cell_type": "code",
   "execution_count": 22,
   "metadata": {},
   "outputs": [
    {
     "name": "stdout",
     "output_type": "stream",
     "text": [
      "Best parameters: {'C': 10, 'gamma': 0.1}\n",
      "Best cross-validation score: 0.97\n"
     ]
    }
   ],
   "source": [
    "print(f\"Best parameters: {grid_search.best_params_}\")\n",
    "print(f\"Best cross-validation score: {grid_search.best_score_:.2f}\")"
   ]
  },
  {
   "cell_type": "markdown",
   "metadata": {},
   "source": [
    "__Again, be careful not to confuse best_score_ with the generaliza‐\n",
    "tion performance of the model as computed by the score method\n",
    "on the test set. Using the score method (or evaluating the output of\n",
    "the predict method) employs a model trained on the whole train‐\n",
    "ing set. The best_score_ attribute stores the mean cross-validation\n",
    "accuracy, with cross-validation performed on the training set.__"
   ]
  },
  {
   "cell_type": "code",
   "execution_count": 23,
   "metadata": {},
   "outputs": [
    {
     "name": "stdout",
     "output_type": "stream",
     "text": [
      "Best estimator:\n",
      "SVC(C=10, break_ties=False, cache_size=200, class_weight=None, coef0=0.0,\n",
      "    decision_function_shape='ovr', degree=3, gamma=0.1, kernel='rbf',\n",
      "    max_iter=-1, probability=False, random_state=None, shrinking=True,\n",
      "    tol=0.001, verbose=False)\n"
     ]
    }
   ],
   "source": [
    "print(f\"Best estimator:\\n{grid_search.best_estimator_}\")"
   ]
  },
  {
   "cell_type": "markdown",
   "metadata": {},
   "source": [
    "Because `grid_search` itself has predict and score methods, using `best_estimator_`\n",
    "is not needed to make predictions or evaluate the model."
   ]
  },
  {
   "cell_type": "markdown",
   "metadata": {},
   "source": [
    "### __Analyzing the result of cross-validation__"
   ]
  },
  {
   "cell_type": "markdown",
   "metadata": {},
   "source": [
    "We can then inspect the results of the cross-validated\n",
    "grid search, and possibly expand our search. The results of a grid search can be found\n",
    "in the cv_results_ attribute, which is a dictionary storing all aspects of the search.\n",
    "It contains a lot of details, as you can see in the following output, and is best looked at\n",
    "after converting it to a pandas DataFrame: "
   ]
  },
  {
   "cell_type": "code",
   "execution_count": 24,
   "metadata": {},
   "outputs": [
    {
     "data": {
      "text/html": [
       "<div>\n",
       "<style scoped>\n",
       "    .dataframe tbody tr th:only-of-type {\n",
       "        vertical-align: middle;\n",
       "    }\n",
       "\n",
       "    .dataframe tbody tr th {\n",
       "        vertical-align: top;\n",
       "    }\n",
       "\n",
       "    .dataframe thead th {\n",
       "        text-align: right;\n",
       "    }\n",
       "</style>\n",
       "<table border=\"1\" class=\"dataframe\">\n",
       "  <thead>\n",
       "    <tr style=\"text-align: right;\">\n",
       "      <th></th>\n",
       "      <th>mean_fit_time</th>\n",
       "      <th>std_fit_time</th>\n",
       "      <th>mean_score_time</th>\n",
       "      <th>std_score_time</th>\n",
       "      <th>param_C</th>\n",
       "      <th>param_gamma</th>\n",
       "      <th>params</th>\n",
       "      <th>split0_test_score</th>\n",
       "      <th>split1_test_score</th>\n",
       "      <th>split2_test_score</th>\n",
       "      <th>split3_test_score</th>\n",
       "      <th>split4_test_score</th>\n",
       "      <th>mean_test_score</th>\n",
       "      <th>std_test_score</th>\n",
       "      <th>rank_test_score</th>\n",
       "    </tr>\n",
       "  </thead>\n",
       "  <tbody>\n",
       "    <tr>\n",
       "      <th>0</th>\n",
       "      <td>0.000909</td>\n",
       "      <td>0.000257</td>\n",
       "      <td>0.000506</td>\n",
       "      <td>0.000173</td>\n",
       "      <td>0.001</td>\n",
       "      <td>0.001</td>\n",
       "      <td>{'C': 0.001, 'gamma': 0.001}</td>\n",
       "      <td>0.347826</td>\n",
       "      <td>0.347826</td>\n",
       "      <td>0.363636</td>\n",
       "      <td>0.363636</td>\n",
       "      <td>0.409091</td>\n",
       "      <td>0.366403</td>\n",
       "      <td>0.022485</td>\n",
       "      <td>22</td>\n",
       "    </tr>\n",
       "    <tr>\n",
       "      <th>1</th>\n",
       "      <td>0.000891</td>\n",
       "      <td>0.000389</td>\n",
       "      <td>0.000388</td>\n",
       "      <td>0.000167</td>\n",
       "      <td>0.001</td>\n",
       "      <td>0.01</td>\n",
       "      <td>{'C': 0.001, 'gamma': 0.01}</td>\n",
       "      <td>0.347826</td>\n",
       "      <td>0.347826</td>\n",
       "      <td>0.363636</td>\n",
       "      <td>0.363636</td>\n",
       "      <td>0.409091</td>\n",
       "      <td>0.366403</td>\n",
       "      <td>0.022485</td>\n",
       "      <td>22</td>\n",
       "    </tr>\n",
       "    <tr>\n",
       "      <th>2</th>\n",
       "      <td>0.000769</td>\n",
       "      <td>0.000077</td>\n",
       "      <td>0.000396</td>\n",
       "      <td>0.000049</td>\n",
       "      <td>0.001</td>\n",
       "      <td>0.1</td>\n",
       "      <td>{'C': 0.001, 'gamma': 0.1}</td>\n",
       "      <td>0.347826</td>\n",
       "      <td>0.347826</td>\n",
       "      <td>0.363636</td>\n",
       "      <td>0.363636</td>\n",
       "      <td>0.409091</td>\n",
       "      <td>0.366403</td>\n",
       "      <td>0.022485</td>\n",
       "      <td>22</td>\n",
       "    </tr>\n",
       "    <tr>\n",
       "      <th>3</th>\n",
       "      <td>0.000848</td>\n",
       "      <td>0.000080</td>\n",
       "      <td>0.000439</td>\n",
       "      <td>0.000092</td>\n",
       "      <td>0.001</td>\n",
       "      <td>1</td>\n",
       "      <td>{'C': 0.001, 'gamma': 1}</td>\n",
       "      <td>0.347826</td>\n",
       "      <td>0.347826</td>\n",
       "      <td>0.363636</td>\n",
       "      <td>0.363636</td>\n",
       "      <td>0.409091</td>\n",
       "      <td>0.366403</td>\n",
       "      <td>0.022485</td>\n",
       "      <td>22</td>\n",
       "    </tr>\n",
       "    <tr>\n",
       "      <th>4</th>\n",
       "      <td>0.000589</td>\n",
       "      <td>0.000087</td>\n",
       "      <td>0.000268</td>\n",
       "      <td>0.000016</td>\n",
       "      <td>0.001</td>\n",
       "      <td>10</td>\n",
       "      <td>{'C': 0.001, 'gamma': 10}</td>\n",
       "      <td>0.347826</td>\n",
       "      <td>0.347826</td>\n",
       "      <td>0.363636</td>\n",
       "      <td>0.363636</td>\n",
       "      <td>0.409091</td>\n",
       "      <td>0.366403</td>\n",
       "      <td>0.022485</td>\n",
       "      <td>22</td>\n",
       "    </tr>\n",
       "  </tbody>\n",
       "</table>\n",
       "</div>"
      ],
      "text/plain": [
       "   mean_fit_time  std_fit_time  mean_score_time  std_score_time param_C  \\\n",
       "0       0.000909      0.000257         0.000506        0.000173   0.001   \n",
       "1       0.000891      0.000389         0.000388        0.000167   0.001   \n",
       "2       0.000769      0.000077         0.000396        0.000049   0.001   \n",
       "3       0.000848      0.000080         0.000439        0.000092   0.001   \n",
       "4       0.000589      0.000087         0.000268        0.000016   0.001   \n",
       "\n",
       "  param_gamma                        params  split0_test_score  \\\n",
       "0       0.001  {'C': 0.001, 'gamma': 0.001}           0.347826   \n",
       "1        0.01   {'C': 0.001, 'gamma': 0.01}           0.347826   \n",
       "2         0.1    {'C': 0.001, 'gamma': 0.1}           0.347826   \n",
       "3           1      {'C': 0.001, 'gamma': 1}           0.347826   \n",
       "4          10     {'C': 0.001, 'gamma': 10}           0.347826   \n",
       "\n",
       "   split1_test_score  split2_test_score  split3_test_score  split4_test_score  \\\n",
       "0           0.347826           0.363636           0.363636           0.409091   \n",
       "1           0.347826           0.363636           0.363636           0.409091   \n",
       "2           0.347826           0.363636           0.363636           0.409091   \n",
       "3           0.347826           0.363636           0.363636           0.409091   \n",
       "4           0.347826           0.363636           0.363636           0.409091   \n",
       "\n",
       "   mean_test_score  std_test_score  rank_test_score  \n",
       "0         0.366403        0.022485               22  \n",
       "1         0.366403        0.022485               22  \n",
       "2         0.366403        0.022485               22  \n",
       "3         0.366403        0.022485               22  \n",
       "4         0.366403        0.022485               22  "
      ]
     },
     "execution_count": 24,
     "metadata": {},
     "output_type": "execute_result"
    }
   ],
   "source": [
    "import pandas as pd\n",
    "\n",
    "# convert to dataframe\n",
    "results = pd.DataFrame(grid_search.cv_results_)\n",
    "\n",
    "results.head()"
   ]
  },
  {
   "cell_type": "markdown",
   "metadata": {},
   "source": [
    "As we were searching a two-dimensional grid of\n",
    "parameters ( C and gamma ), this is best visualized as a heat map"
   ]
  },
  {
   "cell_type": "code",
   "execution_count": 25,
   "metadata": {},
   "outputs": [
    {
     "data": {
      "image/png": "[encoded data removed]",
      "text/plain": [
       "<Figure size 432x288 with 1 Axes>"
      ]
     },
     "metadata": {
      "needs_background": "light"
     },
     "output_type": "display_data"
    }
   ],
   "source": [
    "import matplotlib.pyplot as plt\n",
    "scores = np.array(results.mean_test_score).reshape(6, 6)\n",
    "\n",
    "# plot the mean cross-valdation scores\n",
    "mglearn.tools.heatmap(scores, xlabel = 'gamma', xticklabels=param_grid['gamma'],\n",
    "                      ylabel = 'C', yticklabels=param_grid['C'], cmap = 'viridis')\n",
    "plt.show()"
   ]
  },
  {
   "cell_type": "code",
   "execution_count": 26,
   "metadata": {},
   "outputs": [
    {
     "data": {
      "image/png": "[encoded data removed]",
      "text/plain": [
       "<Figure size 432x288 with 1 Axes>"
      ]
     },
     "metadata": {
      "needs_background": "light"
     },
     "output_type": "display_data"
    }
   ],
   "source": [
    "fig, ax = plt.subplots()\n",
    "plt.imshow(scores)\n",
    "# Loop over data dimensions and create text annotations.\n",
    "for i in range(len(param_grid['C'])):\n",
    "    for j in range(len(param_grid['gamma'])):\n",
    "        text = ax.text(j, i, f'{scores[i, j]:.2f}', ha=\"center\", va=\"center\", color=\"w\")\n",
    "\n",
    "ax.set_xticks(np.arange(len(param_grid['gamma'])))\n",
    "ax.set_yticks(np.arange(len(param_grid['C'])))\n",
    "\n",
    "ax.set_xticklabels(param_grid['gamma'])\n",
    "ax.set_yticklabels(param_grid['C'])\n",
    "\n",
    "fig.tight_layout()\n",
    "plt.show()"
   ]
  },
  {
   "cell_type": "code",
   "execution_count": 27,
   "metadata": {},
   "outputs": [
    {
     "data": {
      "text/plain": [
       "[0.001, 0.01, 0.1, 1, 10, 100]"
      ]
     },
     "execution_count": 27,
     "metadata": {},
     "output_type": "execute_result"
    }
   ],
   "source": [
    "param_grid['C']"
   ]
  },
  {
   "cell_type": "markdown",
   "metadata": {},
   "source": [
    "Each point in the heat map corresponds to one run of cross-validation, with a partic‐\n",
    "ular parameter setting. The color encodes the cross-validation accuracy, with light\n",
    "colors meaning high accuracy and dark colors meaning low accuracy. You can see\n",
    "that SVC is very sensitive to the setting of the parameters. For many of the parameter\n",
    "settings, the accuracy is around 40%, which is quite bad; for other settings the accu‐\n",
    "racy is around 96%. We can take away from this plot several things. First, the parame‐\n",
    "ters we adjusted are very important for obtaining good performance. Both parameters\n",
    "( C and gamma ) matter a lot, as adjusting them can change the accuracy from 40% to\n",
    "96%. Additionally, the ranges we picked for the parameters are ranges in which we\n",
    "see significant changes in the outcome. It’s also important to note that the ranges for\n",
    "the parameters are large enough: the optimum values for each parameter are not on\n",
    "the edges of the plot."
   ]
  },
  {
   "cell_type": "markdown",
   "metadata": {},
   "source": [
    "Now let’s look at some plots where the result is less ideal,\n",
    "because the search ranges were not chosen properly:"
   ]
  },
  {
   "cell_type": "code",
   "execution_count": 28,
   "metadata": {},
   "outputs": [
    {
     "data": {
      "image/png": "[encoded data removed]",
      "text/plain": [
       "<Figure size 1656x720 with 6 Axes>"
      ]
     },
     "metadata": {
      "needs_background": "light"
     },
     "output_type": "display_data"
    }
   ],
   "source": [
    "fig, axes = plt.subplots(1, 3, figsize = (23, 10))\n",
    "\n",
    "param_grid_linear = {\n",
    "    'C': np.linspace(1, 2, 6),\n",
    "    'gamma': np.linspace(1, 2, 6)\n",
    "}\n",
    "\n",
    "param_grid_one_log = {\n",
    "    'C': np.linspace(1, 2, 6),\n",
    "    'gamma': np.logspace(-3, 2, 6)\n",
    "}\n",
    "\n",
    "param_grid_range = {\n",
    "    'C': np.logspace(-3, 2, 6),\n",
    "    'gamma': np.logspace(-7, -2, 6)\n",
    "}\n",
    "\n",
    "for param_grid, ax in zip([param_grid_linear, param_grid_one_log,\n",
    "                           param_grid_range], axes):\n",
    "    grid_search = GridSearchCV(SVC(), param_grid, cv = 5)\n",
    "    grid_search.fit(X_train, y_train)\n",
    "    scores = grid_search.cv_results_['mean_test_score'].reshape(6, 6)\n",
    "    \n",
    "    # plot the mean cross-validation scores\n",
    "    scores_images = mglearn.tools.heatmap(\n",
    "        scores, xlabel = 'gamma', ylabel = 'C', xticklabels = param_grid['gamma'],\n",
    "        yticklabels = param_grid['C'], cmap = 'viridis', ax = ax\n",
    "    )\n",
    "    \n",
    "    plt.colorbar(scores_images, ax = axes.tolist())"
   ]
  },
  {
   "cell_type": "markdown",
   "metadata": {},
   "source": [
    "The first panel shows no changes at all, with a constant color over the whole parame‐\n",
    "ter grid. In this case, this is caused by improper scaling and range of the parameters C\n",
    "and gamma . However, if no change in accuracy is visible over the different parameter\n",
    "settings, it could also be that a parameter is just not important at all. It is usually good\n",
    "to try very extreme values first, to see if there are any changes in the accuracy as a\n",
    "result of changing a parameter.\n",
    "\n",
    "The second panel shows a vertical stripe pattern. This indicates that only the setting\n",
    "of the gamma parameter makes any difference. This could mean that the gamma parameter\n",
    "is searching over interesting values but the C parameter is not—or it could mean\n",
    "the C parameter is not important.\n",
    "\n",
    "The third panel shows changes in both C and gamma . However, we can see that in the\n",
    "entire bottom left of the plot, nothing interesting is happening. We can probably\n",
    "exclude the very small values from future grid searches. The optimum parameter setting\n",
    "is at the top right. As the optimum is in the border of the plot, we can expect that\n",
    "there might be even better values beyond this border, and we might want to change\n",
    "our search range to include more parameters in this region.\n",
    "Tuning the parameter grid based on the cross-validation scores is perfectly fine, and a\n",
    "good way to explore the importance of different parameters. However, you should\n",
    "not test different parameter ranges on the final test set—as we discussed earlier, eval\n",
    "uation of the test set should happen only once we know exactly what model we want\n",
    "to use."
   ]
  },
  {
   "cell_type": "markdown",
   "metadata": {},
   "source": [
    "### Search over spaces that are not grids\n",
    "In some cases, trying all possible combinations of all parameters as GridSearchCV\n",
    "usually does, is not a good idea. For example, SVC has a kernel parameter, and\n",
    "depending on which kernel is chosen, other parameters will be relevant. If ker\n",
    "nel='linear' , the model is linear, and only the C parameter is used. If kernel='rbf' ,\n",
    "both the C and gamma parameters are used (but not other parameters like degree ). In\n",
    "this case, searching over all possible combinations of C , gamma , and kernel wouldn’t\n",
    "make sense: if kernel='linear' , gamma is not used, and trying different values for\n",
    "gamma would be a waste of time. To deal with these kinds of “conditional” parameters,\n",
    "GridSearchCV allows the param_grid to be a list of dictionaries. Each dictionary in the\n",
    "list is expanded into an independent grid. A possible grid search involving kernel and\n",
    "parameters could look like this:"
   ]
  },
  {
   "cell_type": "code",
   "execution_count": 29,
   "metadata": {},
   "outputs": [
    {
     "name": "stdout",
     "output_type": "stream",
     "text": [
      "('list of grids:\\n'\n",
      " \"[{'kernel': ['rbf'], 'C': [0.001, 0.01, 0.1, 1, 10, 100], 'gamma': [0.001, \"\n",
      " \"0.01, 0.1, 1, 10, 100]}, {'kernel': ['linear'], 'C': [0.001, 0.01, 0.1, 1, \"\n",
      " '10, 100]}]')\n"
     ]
    }
   ],
   "source": [
    "param_grid = [\n",
    "    {\n",
    "        'kernel': ['rbf'],\n",
    "        'C': [0.001, 0.01, 0.1, 1, 10, 100],\n",
    "        'gamma': [0.001, 0.01, 0.1, 1, 10, 100]\n",
    "    },\n",
    "    {\n",
    "        'kernel': ['linear'],\n",
    "        'C': [0.001, 0.01, 0.1, 1, 10, 100]\n",
    "    }\n",
    "]\n",
    "\n",
    "from pprint import pprint\n",
    "pprint(f'list of grids:\\n{param_grid}')"
   ]
  },
  {
   "cell_type": "code",
   "execution_count": 30,
   "metadata": {},
   "outputs": [
    {
     "name": "stdout",
     "output_type": "stream",
     "text": [
      "best perameters: {'C': 10, 'gamma': 0.1, 'kernel': 'rbf'}\n",
      "best cross-validation score: 0.97\n"
     ]
    }
   ],
   "source": [
    "grid_search = GridSearchCV(SVC(), param_grid, cv = 5)\n",
    "grid_search.fit(X_train, y_train)\n",
    "\n",
    "print(f'best perameters: {grid_search.best_params_}')\n",
    "print(f'best cross-validation score: {grid_search.best_score_:.2f}')"
   ]
  },
  {
   "cell_type": "code",
   "execution_count": 31,
   "metadata": {},
   "outputs": [
    {
     "data": {
      "text/html": [
       "<div>\n",
       "<style scoped>\n",
       "    .dataframe tbody tr th:only-of-type {\n",
       "        vertical-align: middle;\n",
       "    }\n",
       "\n",
       "    .dataframe tbody tr th {\n",
       "        vertical-align: top;\n",
       "    }\n",
       "\n",
       "    .dataframe thead th {\n",
       "        text-align: right;\n",
       "    }\n",
       "</style>\n",
       "<table border=\"1\" class=\"dataframe\">\n",
       "  <thead>\n",
       "    <tr style=\"text-align: right;\">\n",
       "      <th></th>\n",
       "      <th>0</th>\n",
       "      <th>1</th>\n",
       "      <th>2</th>\n",
       "      <th>3</th>\n",
       "      <th>4</th>\n",
       "      <th>5</th>\n",
       "      <th>6</th>\n",
       "      <th>7</th>\n",
       "      <th>8</th>\n",
       "      <th>9</th>\n",
       "      <th>...</th>\n",
       "      <th>32</th>\n",
       "      <th>33</th>\n",
       "      <th>34</th>\n",
       "      <th>35</th>\n",
       "      <th>36</th>\n",
       "      <th>37</th>\n",
       "      <th>38</th>\n",
       "      <th>39</th>\n",
       "      <th>40</th>\n",
       "      <th>41</th>\n",
       "    </tr>\n",
       "  </thead>\n",
       "  <tbody>\n",
       "    <tr>\n",
       "      <th>mean_fit_time</th>\n",
       "      <td>0.000907564</td>\n",
       "      <td>0.000750351</td>\n",
       "      <td>0.000861597</td>\n",
       "      <td>0.000644302</td>\n",
       "      <td>0.000694561</td>\n",
       "      <td>0.000703621</td>\n",
       "      <td>0.000657415</td>\n",
       "      <td>0.000674009</td>\n",
       "      <td>0.000681496</td>\n",
       "      <td>0.000630808</td>\n",
       "      <td>...</td>\n",
       "      <td>0.00042367</td>\n",
       "      <td>0.000585651</td>\n",
       "      <td>0.000679636</td>\n",
       "      <td>0.00100698</td>\n",
       "      <td>0.000528193</td>\n",
       "      <td>0.000528002</td>\n",
       "      <td>0.000472689</td>\n",
       "      <td>0.000360203</td>\n",
       "      <td>0.000466537</td>\n",
       "      <td>0.000476122</td>\n",
       "    </tr>\n",
       "    <tr>\n",
       "      <th>std_fit_time</th>\n",
       "      <td>0.000217938</td>\n",
       "      <td>0.000123733</td>\n",
       "      <td>0.000167928</td>\n",
       "      <td>0.000125853</td>\n",
       "      <td>0.000108162</td>\n",
       "      <td>6.02867e-05</td>\n",
       "      <td>0.000109821</td>\n",
       "      <td>0.000103434</td>\n",
       "      <td>9.10725e-05</td>\n",
       "      <td>0.000184323</td>\n",
       "      <td>...</td>\n",
       "      <td>5.23519e-05</td>\n",
       "      <td>0.000143163</td>\n",
       "      <td>7.0261e-05</td>\n",
       "      <td>0.000200923</td>\n",
       "      <td>5.20388e-05</td>\n",
       "      <td>7.13267e-05</td>\n",
       "      <td>3.67819e-05</td>\n",
       "      <td>8.15433e-06</td>\n",
       "      <td>0.000103964</td>\n",
       "      <td>7.58985e-05</td>\n",
       "    </tr>\n",
       "    <tr>\n",
       "      <th>mean_score_time</th>\n",
       "      <td>0.000471926</td>\n",
       "      <td>0.000468779</td>\n",
       "      <td>0.000443554</td>\n",
       "      <td>0.000275612</td>\n",
       "      <td>0.000357533</td>\n",
       "      <td>0.000353527</td>\n",
       "      <td>0.000462961</td>\n",
       "      <td>0.000302935</td>\n",
       "      <td>0.000375414</td>\n",
       "      <td>0.00028019</td>\n",
       "      <td>...</td>\n",
       "      <td>0.000328732</td>\n",
       "      <td>0.000294685</td>\n",
       "      <td>0.000284624</td>\n",
       "      <td>0.000381851</td>\n",
       "      <td>0.000277376</td>\n",
       "      <td>0.00032897</td>\n",
       "      <td>0.000279808</td>\n",
       "      <td>0.000238705</td>\n",
       "      <td>0.000285149</td>\n",
       "      <td>0.000320292</td>\n",
       "    </tr>\n",
       "    <tr>\n",
       "      <th>std_score_time</th>\n",
       "      <td>0.000148062</td>\n",
       "      <td>0.000170378</td>\n",
       "      <td>0.000110118</td>\n",
       "      <td>2.3051e-05</td>\n",
       "      <td>0.000126627</td>\n",
       "      <td>6.62974e-05</td>\n",
       "      <td>0.000193121</td>\n",
       "      <td>3.41219e-05</td>\n",
       "      <td>9.91817e-05</td>\n",
       "      <td>2.99397e-05</td>\n",
       "      <td>...</td>\n",
       "      <td>0.000142873</td>\n",
       "      <td>4.08964e-05</td>\n",
       "      <td>4.57631e-05</td>\n",
       "      <td>8.02885e-05</td>\n",
       "      <td>4.48713e-05</td>\n",
       "      <td>0.00012736</td>\n",
       "      <td>2.43377e-05</td>\n",
       "      <td>1.93724e-05</td>\n",
       "      <td>6.77047e-05</td>\n",
       "      <td>0.00015097</td>\n",
       "    </tr>\n",
       "    <tr>\n",
       "      <th>param_C</th>\n",
       "      <td>0.001</td>\n",
       "      <td>0.001</td>\n",
       "      <td>0.001</td>\n",
       "      <td>0.001</td>\n",
       "      <td>0.001</td>\n",
       "      <td>0.001</td>\n",
       "      <td>0.01</td>\n",
       "      <td>0.01</td>\n",
       "      <td>0.01</td>\n",
       "      <td>0.01</td>\n",
       "      <td>...</td>\n",
       "      <td>100</td>\n",
       "      <td>100</td>\n",
       "      <td>100</td>\n",
       "      <td>100</td>\n",
       "      <td>0.001</td>\n",
       "      <td>0.01</td>\n",
       "      <td>0.1</td>\n",
       "      <td>1</td>\n",
       "      <td>10</td>\n",
       "      <td>100</td>\n",
       "    </tr>\n",
       "    <tr>\n",
       "      <th>param_gamma</th>\n",
       "      <td>0.001</td>\n",
       "      <td>0.01</td>\n",
       "      <td>0.1</td>\n",
       "      <td>1</td>\n",
       "      <td>10</td>\n",
       "      <td>100</td>\n",
       "      <td>0.001</td>\n",
       "      <td>0.01</td>\n",
       "      <td>0.1</td>\n",
       "      <td>1</td>\n",
       "      <td>...</td>\n",
       "      <td>0.1</td>\n",
       "      <td>1</td>\n",
       "      <td>10</td>\n",
       "      <td>100</td>\n",
       "      <td>NaN</td>\n",
       "      <td>NaN</td>\n",
       "      <td>NaN</td>\n",
       "      <td>NaN</td>\n",
       "      <td>NaN</td>\n",
       "      <td>NaN</td>\n",
       "    </tr>\n",
       "    <tr>\n",
       "      <th>param_kernel</th>\n",
       "      <td>rbf</td>\n",
       "      <td>rbf</td>\n",
       "      <td>rbf</td>\n",
       "      <td>rbf</td>\n",
       "      <td>rbf</td>\n",
       "      <td>rbf</td>\n",
       "      <td>rbf</td>\n",
       "      <td>rbf</td>\n",
       "      <td>rbf</td>\n",
       "      <td>rbf</td>\n",
       "      <td>...</td>\n",
       "      <td>rbf</td>\n",
       "      <td>rbf</td>\n",
       "      <td>rbf</td>\n",
       "      <td>rbf</td>\n",
       "      <td>linear</td>\n",
       "      <td>linear</td>\n",
       "      <td>linear</td>\n",
       "      <td>linear</td>\n",
       "      <td>linear</td>\n",
       "      <td>linear</td>\n",
       "    </tr>\n",
       "    <tr>\n",
       "      <th>params</th>\n",
       "      <td>{'C': 0.001, 'gamma': 0.001, 'kernel': 'rbf'}</td>\n",
       "      <td>{'C': 0.001, 'gamma': 0.01, 'kernel': 'rbf'}</td>\n",
       "      <td>{'C': 0.001, 'gamma': 0.1, 'kernel': 'rbf'}</td>\n",
       "      <td>{'C': 0.001, 'gamma': 1, 'kernel': 'rbf'}</td>\n",
       "      <td>{'C': 0.001, 'gamma': 10, 'kernel': 'rbf'}</td>\n",
       "      <td>{'C': 0.001, 'gamma': 100, 'kernel': 'rbf'}</td>\n",
       "      <td>{'C': 0.01, 'gamma': 0.001, 'kernel': 'rbf'}</td>\n",
       "      <td>{'C': 0.01, 'gamma': 0.01, 'kernel': 'rbf'}</td>\n",
       "      <td>{'C': 0.01, 'gamma': 0.1, 'kernel': 'rbf'}</td>\n",
       "      <td>{'C': 0.01, 'gamma': 1, 'kernel': 'rbf'}</td>\n",
       "      <td>...</td>\n",
       "      <td>{'C': 100, 'gamma': 0.1, 'kernel': 'rbf'}</td>\n",
       "      <td>{'C': 100, 'gamma': 1, 'kernel': 'rbf'}</td>\n",
       "      <td>{'C': 100, 'gamma': 10, 'kernel': 'rbf'}</td>\n",
       "      <td>{'C': 100, 'gamma': 100, 'kernel': 'rbf'}</td>\n",
       "      <td>{'C': 0.001, 'kernel': 'linear'}</td>\n",
       "      <td>{'C': 0.01, 'kernel': 'linear'}</td>\n",
       "      <td>{'C': 0.1, 'kernel': 'linear'}</td>\n",
       "      <td>{'C': 1, 'kernel': 'linear'}</td>\n",
       "      <td>{'C': 10, 'kernel': 'linear'}</td>\n",
       "      <td>{'C': 100, 'kernel': 'linear'}</td>\n",
       "    </tr>\n",
       "    <tr>\n",
       "      <th>split0_test_score</th>\n",
       "      <td>0.347826</td>\n",
       "      <td>0.347826</td>\n",
       "      <td>0.347826</td>\n",
       "      <td>0.347826</td>\n",
       "      <td>0.347826</td>\n",
       "      <td>0.347826</td>\n",
       "      <td>0.347826</td>\n",
       "      <td>0.347826</td>\n",
       "      <td>0.347826</td>\n",
       "      <td>0.347826</td>\n",
       "      <td>...</td>\n",
       "      <td>1</td>\n",
       "      <td>0.956522</td>\n",
       "      <td>0.869565</td>\n",
       "      <td>0.521739</td>\n",
       "      <td>0.347826</td>\n",
       "      <td>0.869565</td>\n",
       "      <td>1</td>\n",
       "      <td>1</td>\n",
       "      <td>1</td>\n",
       "      <td>0.956522</td>\n",
       "    </tr>\n",
       "    <tr>\n",
       "      <th>split1_test_score</th>\n",
       "      <td>0.347826</td>\n",
       "      <td>0.347826</td>\n",
       "      <td>0.347826</td>\n",
       "      <td>0.347826</td>\n",
       "      <td>0.347826</td>\n",
       "      <td>0.347826</td>\n",
       "      <td>0.347826</td>\n",
       "      <td>0.347826</td>\n",
       "      <td>0.347826</td>\n",
       "      <td>0.347826</td>\n",
       "      <td>...</td>\n",
       "      <td>0.956522</td>\n",
       "      <td>0.956522</td>\n",
       "      <td>0.913043</td>\n",
       "      <td>0.521739</td>\n",
       "      <td>0.347826</td>\n",
       "      <td>0.869565</td>\n",
       "      <td>0.913043</td>\n",
       "      <td>0.956522</td>\n",
       "      <td>1</td>\n",
       "      <td>0.956522</td>\n",
       "    </tr>\n",
       "    <tr>\n",
       "      <th>split2_test_score</th>\n",
       "      <td>0.363636</td>\n",
       "      <td>0.363636</td>\n",
       "      <td>0.363636</td>\n",
       "      <td>0.363636</td>\n",
       "      <td>0.363636</td>\n",
       "      <td>0.363636</td>\n",
       "      <td>0.363636</td>\n",
       "      <td>0.363636</td>\n",
       "      <td>0.363636</td>\n",
       "      <td>0.363636</td>\n",
       "      <td>...</td>\n",
       "      <td>1</td>\n",
       "      <td>1</td>\n",
       "      <td>1</td>\n",
       "      <td>0.590909</td>\n",
       "      <td>0.363636</td>\n",
       "      <td>0.772727</td>\n",
       "      <td>1</td>\n",
       "      <td>1</td>\n",
       "      <td>1</td>\n",
       "      <td>1</td>\n",
       "    </tr>\n",
       "    <tr>\n",
       "      <th>split3_test_score</th>\n",
       "      <td>0.363636</td>\n",
       "      <td>0.363636</td>\n",
       "      <td>0.363636</td>\n",
       "      <td>0.363636</td>\n",
       "      <td>0.363636</td>\n",
       "      <td>0.363636</td>\n",
       "      <td>0.363636</td>\n",
       "      <td>0.363636</td>\n",
       "      <td>0.363636</td>\n",
       "      <td>0.363636</td>\n",
       "      <td>...</td>\n",
       "      <td>0.863636</td>\n",
       "      <td>0.863636</td>\n",
       "      <td>0.818182</td>\n",
       "      <td>0.590909</td>\n",
       "      <td>0.363636</td>\n",
       "      <td>0.772727</td>\n",
       "      <td>0.909091</td>\n",
       "      <td>0.954545</td>\n",
       "      <td>0.909091</td>\n",
       "      <td>0.909091</td>\n",
       "    </tr>\n",
       "    <tr>\n",
       "      <th>split4_test_score</th>\n",
       "      <td>0.409091</td>\n",
       "      <td>0.409091</td>\n",
       "      <td>0.409091</td>\n",
       "      <td>0.409091</td>\n",
       "      <td>0.409091</td>\n",
       "      <td>0.409091</td>\n",
       "      <td>0.409091</td>\n",
       "      <td>0.409091</td>\n",
       "      <td>0.409091</td>\n",
       "      <td>0.409091</td>\n",
       "      <td>...</td>\n",
       "      <td>0.954545</td>\n",
       "      <td>0.954545</td>\n",
       "      <td>0.954545</td>\n",
       "      <td>0.681818</td>\n",
       "      <td>0.409091</td>\n",
       "      <td>0.909091</td>\n",
       "      <td>0.954545</td>\n",
       "      <td>0.954545</td>\n",
       "      <td>0.954545</td>\n",
       "      <td>0.954545</td>\n",
       "    </tr>\n",
       "    <tr>\n",
       "      <th>mean_test_score</th>\n",
       "      <td>0.366403</td>\n",
       "      <td>0.366403</td>\n",
       "      <td>0.366403</td>\n",
       "      <td>0.366403</td>\n",
       "      <td>0.366403</td>\n",
       "      <td>0.366403</td>\n",
       "      <td>0.366403</td>\n",
       "      <td>0.366403</td>\n",
       "      <td>0.366403</td>\n",
       "      <td>0.366403</td>\n",
       "      <td>...</td>\n",
       "      <td>0.954941</td>\n",
       "      <td>0.946245</td>\n",
       "      <td>0.911067</td>\n",
       "      <td>0.581423</td>\n",
       "      <td>0.366403</td>\n",
       "      <td>0.838735</td>\n",
       "      <td>0.955336</td>\n",
       "      <td>0.973123</td>\n",
       "      <td>0.972727</td>\n",
       "      <td>0.955336</td>\n",
       "    </tr>\n",
       "    <tr>\n",
       "      <th>std_test_score</th>\n",
       "      <td>0.0224845</td>\n",
       "      <td>0.0224845</td>\n",
       "      <td>0.0224845</td>\n",
       "      <td>0.0224845</td>\n",
       "      <td>0.0224845</td>\n",
       "      <td>0.0224845</td>\n",
       "      <td>0.0224845</td>\n",
       "      <td>0.0224845</td>\n",
       "      <td>0.0224845</td>\n",
       "      <td>0.0224845</td>\n",
       "      <td>...</td>\n",
       "      <td>0.0497992</td>\n",
       "      <td>0.0447077</td>\n",
       "      <td>0.0634877</td>\n",
       "      <td>0.0589635</td>\n",
       "      <td>0.0224845</td>\n",
       "      <td>0.0557943</td>\n",
       "      <td>0.0397936</td>\n",
       "      <td>0.0219572</td>\n",
       "      <td>0.0363636</td>\n",
       "      <td>0.0287643</td>\n",
       "    </tr>\n",
       "    <tr>\n",
       "      <th>rank_test_score</th>\n",
       "      <td>27</td>\n",
       "      <td>27</td>\n",
       "      <td>27</td>\n",
       "      <td>27</td>\n",
       "      <td>27</td>\n",
       "      <td>27</td>\n",
       "      <td>27</td>\n",
       "      <td>27</td>\n",
       "      <td>27</td>\n",
       "      <td>27</td>\n",
       "      <td>...</td>\n",
       "      <td>11</td>\n",
       "      <td>13</td>\n",
       "      <td>18</td>\n",
       "      <td>24</td>\n",
       "      <td>27</td>\n",
       "      <td>21</td>\n",
       "      <td>8</td>\n",
       "      <td>1</td>\n",
       "      <td>3</td>\n",
       "      <td>8</td>\n",
       "    </tr>\n",
       "  </tbody>\n",
       "</table>\n",
       "<p>16 rows × 42 columns</p>\n",
       "</div>"
      ],
      "text/plain": [
       "                                                              0   \\\n",
       "mean_fit_time                                        0.000907564   \n",
       "std_fit_time                                         0.000217938   \n",
       "mean_score_time                                      0.000471926   \n",
       "std_score_time                                       0.000148062   \n",
       "param_C                                                    0.001   \n",
       "param_gamma                                                0.001   \n",
       "param_kernel                                                 rbf   \n",
       "params             {'C': 0.001, 'gamma': 0.001, 'kernel': 'rbf'}   \n",
       "split0_test_score                                       0.347826   \n",
       "split1_test_score                                       0.347826   \n",
       "split2_test_score                                       0.363636   \n",
       "split3_test_score                                       0.363636   \n",
       "split4_test_score                                       0.409091   \n",
       "mean_test_score                                         0.366403   \n",
       "std_test_score                                         0.0224845   \n",
       "rank_test_score                                               27   \n",
       "\n",
       "                                                             1   \\\n",
       "mean_fit_time                                       0.000750351   \n",
       "std_fit_time                                        0.000123733   \n",
       "mean_score_time                                     0.000468779   \n",
       "std_score_time                                      0.000170378   \n",
       "param_C                                                   0.001   \n",
       "param_gamma                                                0.01   \n",
       "param_kernel                                                rbf   \n",
       "params             {'C': 0.001, 'gamma': 0.01, 'kernel': 'rbf'}   \n",
       "split0_test_score                                      0.347826   \n",
       "split1_test_score                                      0.347826   \n",
       "split2_test_score                                      0.363636   \n",
       "split3_test_score                                      0.363636   \n",
       "split4_test_score                                      0.409091   \n",
       "mean_test_score                                        0.366403   \n",
       "std_test_score                                        0.0224845   \n",
       "rank_test_score                                              27   \n",
       "\n",
       "                                                            2   \\\n",
       "mean_fit_time                                      0.000861597   \n",
       "std_fit_time                                       0.000167928   \n",
       "mean_score_time                                    0.000443554   \n",
       "std_score_time                                     0.000110118   \n",
       "param_C                                                  0.001   \n",
       "param_gamma                                                0.1   \n",
       "param_kernel                                               rbf   \n",
       "params             {'C': 0.001, 'gamma': 0.1, 'kernel': 'rbf'}   \n",
       "split0_test_score                                     0.347826   \n",
       "split1_test_score                                     0.347826   \n",
       "split2_test_score                                     0.363636   \n",
       "split3_test_score                                     0.363636   \n",
       "split4_test_score                                     0.409091   \n",
       "mean_test_score                                       0.366403   \n",
       "std_test_score                                       0.0224845   \n",
       "rank_test_score                                             27   \n",
       "\n",
       "                                                          3   \\\n",
       "mean_fit_time                                    0.000644302   \n",
       "std_fit_time                                     0.000125853   \n",
       "mean_score_time                                  0.000275612   \n",
       "std_score_time                                    2.3051e-05   \n",
       "param_C                                                0.001   \n",
       "param_gamma                                                1   \n",
       "param_kernel                                             rbf   \n",
       "params             {'C': 0.001, 'gamma': 1, 'kernel': 'rbf'}   \n",
       "split0_test_score                                   0.347826   \n",
       "split1_test_score                                   0.347826   \n",
       "split2_test_score                                   0.363636   \n",
       "split3_test_score                                   0.363636   \n",
       "split4_test_score                                   0.409091   \n",
       "mean_test_score                                     0.366403   \n",
       "std_test_score                                     0.0224845   \n",
       "rank_test_score                                           27   \n",
       "\n",
       "                                                           4   \\\n",
       "mean_fit_time                                     0.000694561   \n",
       "std_fit_time                                      0.000108162   \n",
       "mean_score_time                                   0.000357533   \n",
       "std_score_time                                    0.000126627   \n",
       "param_C                                                 0.001   \n",
       "param_gamma                                                10   \n",
       "param_kernel                                              rbf   \n",
       "params             {'C': 0.001, 'gamma': 10, 'kernel': 'rbf'}   \n",
       "split0_test_score                                    0.347826   \n",
       "split1_test_score                                    0.347826   \n",
       "split2_test_score                                    0.363636   \n",
       "split3_test_score                                    0.363636   \n",
       "split4_test_score                                    0.409091   \n",
       "mean_test_score                                      0.366403   \n",
       "std_test_score                                      0.0224845   \n",
       "rank_test_score                                            27   \n",
       "\n",
       "                                                            5   \\\n",
       "mean_fit_time                                      0.000703621   \n",
       "std_fit_time                                       6.02867e-05   \n",
       "mean_score_time                                    0.000353527   \n",
       "std_score_time                                     6.62974e-05   \n",
       "param_C                                                  0.001   \n",
       "param_gamma                                                100   \n",
       "param_kernel                                               rbf   \n",
       "params             {'C': 0.001, 'gamma': 100, 'kernel': 'rbf'}   \n",
       "split0_test_score                                     0.347826   \n",
       "split1_test_score                                     0.347826   \n",
       "split2_test_score                                     0.363636   \n",
       "split3_test_score                                     0.363636   \n",
       "split4_test_score                                     0.409091   \n",
       "mean_test_score                                       0.366403   \n",
       "std_test_score                                       0.0224845   \n",
       "rank_test_score                                             27   \n",
       "\n",
       "                                                             6   \\\n",
       "mean_fit_time                                       0.000657415   \n",
       "std_fit_time                                        0.000109821   \n",
       "mean_score_time                                     0.000462961   \n",
       "std_score_time                                      0.000193121   \n",
       "param_C                                                    0.01   \n",
       "param_gamma                                               0.001   \n",
       "param_kernel                                                rbf   \n",
       "params             {'C': 0.01, 'gamma': 0.001, 'kernel': 'rbf'}   \n",
       "split0_test_score                                      0.347826   \n",
       "split1_test_score                                      0.347826   \n",
       "split2_test_score                                      0.363636   \n",
       "split3_test_score                                      0.363636   \n",
       "split4_test_score                                      0.409091   \n",
       "mean_test_score                                        0.366403   \n",
       "std_test_score                                        0.0224845   \n",
       "rank_test_score                                              27   \n",
       "\n",
       "                                                            7   \\\n",
       "mean_fit_time                                      0.000674009   \n",
       "std_fit_time                                       0.000103434   \n",
       "mean_score_time                                    0.000302935   \n",
       "std_score_time                                     3.41219e-05   \n",
       "param_C                                                   0.01   \n",
       "param_gamma                                               0.01   \n",
       "param_kernel                                               rbf   \n",
       "params             {'C': 0.01, 'gamma': 0.01, 'kernel': 'rbf'}   \n",
       "split0_test_score                                     0.347826   \n",
       "split1_test_score                                     0.347826   \n",
       "split2_test_score                                     0.363636   \n",
       "split3_test_score                                     0.363636   \n",
       "split4_test_score                                     0.409091   \n",
       "mean_test_score                                       0.366403   \n",
       "std_test_score                                       0.0224845   \n",
       "rank_test_score                                             27   \n",
       "\n",
       "                                                           8   \\\n",
       "mean_fit_time                                     0.000681496   \n",
       "std_fit_time                                      9.10725e-05   \n",
       "mean_score_time                                   0.000375414   \n",
       "std_score_time                                    9.91817e-05   \n",
       "param_C                                                  0.01   \n",
       "param_gamma                                               0.1   \n",
       "param_kernel                                              rbf   \n",
       "params             {'C': 0.01, 'gamma': 0.1, 'kernel': 'rbf'}   \n",
       "split0_test_score                                    0.347826   \n",
       "split1_test_score                                    0.347826   \n",
       "split2_test_score                                    0.363636   \n",
       "split3_test_score                                    0.363636   \n",
       "split4_test_score                                    0.409091   \n",
       "mean_test_score                                      0.366403   \n",
       "std_test_score                                      0.0224845   \n",
       "rank_test_score                                            27   \n",
       "\n",
       "                                                         9   ...  \\\n",
       "mean_fit_time                                   0.000630808  ...   \n",
       "std_fit_time                                    0.000184323  ...   \n",
       "mean_score_time                                  0.00028019  ...   \n",
       "std_score_time                                  2.99397e-05  ...   \n",
       "param_C                                                0.01  ...   \n",
       "param_gamma                                               1  ...   \n",
       "param_kernel                                            rbf  ...   \n",
       "params             {'C': 0.01, 'gamma': 1, 'kernel': 'rbf'}  ...   \n",
       "split0_test_score                                  0.347826  ...   \n",
       "split1_test_score                                  0.347826  ...   \n",
       "split2_test_score                                  0.363636  ...   \n",
       "split3_test_score                                  0.363636  ...   \n",
       "split4_test_score                                  0.409091  ...   \n",
       "mean_test_score                                    0.366403  ...   \n",
       "std_test_score                                    0.0224845  ...   \n",
       "rank_test_score                                          27  ...   \n",
       "\n",
       "                                                          32  \\\n",
       "mean_fit_time                                     0.00042367   \n",
       "std_fit_time                                     5.23519e-05   \n",
       "mean_score_time                                  0.000328732   \n",
       "std_score_time                                   0.000142873   \n",
       "param_C                                                  100   \n",
       "param_gamma                                              0.1   \n",
       "param_kernel                                             rbf   \n",
       "params             {'C': 100, 'gamma': 0.1, 'kernel': 'rbf'}   \n",
       "split0_test_score                                          1   \n",
       "split1_test_score                                   0.956522   \n",
       "split2_test_score                                          1   \n",
       "split3_test_score                                   0.863636   \n",
       "split4_test_score                                   0.954545   \n",
       "mean_test_score                                     0.954941   \n",
       "std_test_score                                     0.0497992   \n",
       "rank_test_score                                           11   \n",
       "\n",
       "                                                        33  \\\n",
       "mean_fit_time                                  0.000585651   \n",
       "std_fit_time                                   0.000143163   \n",
       "mean_score_time                                0.000294685   \n",
       "std_score_time                                 4.08964e-05   \n",
       "param_C                                                100   \n",
       "param_gamma                                              1   \n",
       "param_kernel                                           rbf   \n",
       "params             {'C': 100, 'gamma': 1, 'kernel': 'rbf'}   \n",
       "split0_test_score                                 0.956522   \n",
       "split1_test_score                                 0.956522   \n",
       "split2_test_score                                        1   \n",
       "split3_test_score                                 0.863636   \n",
       "split4_test_score                                 0.954545   \n",
       "mean_test_score                                   0.946245   \n",
       "std_test_score                                   0.0447077   \n",
       "rank_test_score                                         13   \n",
       "\n",
       "                                                         34  \\\n",
       "mean_fit_time                                   0.000679636   \n",
       "std_fit_time                                     7.0261e-05   \n",
       "mean_score_time                                 0.000284624   \n",
       "std_score_time                                  4.57631e-05   \n",
       "param_C                                                 100   \n",
       "param_gamma                                              10   \n",
       "param_kernel                                            rbf   \n",
       "params             {'C': 100, 'gamma': 10, 'kernel': 'rbf'}   \n",
       "split0_test_score                                  0.869565   \n",
       "split1_test_score                                  0.913043   \n",
       "split2_test_score                                         1   \n",
       "split3_test_score                                  0.818182   \n",
       "split4_test_score                                  0.954545   \n",
       "mean_test_score                                    0.911067   \n",
       "std_test_score                                    0.0634877   \n",
       "rank_test_score                                          18   \n",
       "\n",
       "                                                          35  \\\n",
       "mean_fit_time                                     0.00100698   \n",
       "std_fit_time                                     0.000200923   \n",
       "mean_score_time                                  0.000381851   \n",
       "std_score_time                                   8.02885e-05   \n",
       "param_C                                                  100   \n",
       "param_gamma                                              100   \n",
       "param_kernel                                             rbf   \n",
       "params             {'C': 100, 'gamma': 100, 'kernel': 'rbf'}   \n",
       "split0_test_score                                   0.521739   \n",
       "split1_test_score                                   0.521739   \n",
       "split2_test_score                                   0.590909   \n",
       "split3_test_score                                   0.590909   \n",
       "split4_test_score                                   0.681818   \n",
       "mean_test_score                                     0.581423   \n",
       "std_test_score                                     0.0589635   \n",
       "rank_test_score                                           24   \n",
       "\n",
       "                                                 36  \\\n",
       "mean_fit_time                           0.000528193   \n",
       "std_fit_time                            5.20388e-05   \n",
       "mean_score_time                         0.000277376   \n",
       "std_score_time                          4.48713e-05   \n",
       "param_C                                       0.001   \n",
       "param_gamma                                     NaN   \n",
       "param_kernel                                 linear   \n",
       "params             {'C': 0.001, 'kernel': 'linear'}   \n",
       "split0_test_score                          0.347826   \n",
       "split1_test_score                          0.347826   \n",
       "split2_test_score                          0.363636   \n",
       "split3_test_score                          0.363636   \n",
       "split4_test_score                          0.409091   \n",
       "mean_test_score                            0.366403   \n",
       "std_test_score                            0.0224845   \n",
       "rank_test_score                                  27   \n",
       "\n",
       "                                                37  \\\n",
       "mean_fit_time                          0.000528002   \n",
       "std_fit_time                           7.13267e-05   \n",
       "mean_score_time                         0.00032897   \n",
       "std_score_time                          0.00012736   \n",
       "param_C                                       0.01   \n",
       "param_gamma                                    NaN   \n",
       "param_kernel                                linear   \n",
       "params             {'C': 0.01, 'kernel': 'linear'}   \n",
       "split0_test_score                         0.869565   \n",
       "split1_test_score                         0.869565   \n",
       "split2_test_score                         0.772727   \n",
       "split3_test_score                         0.772727   \n",
       "split4_test_score                         0.909091   \n",
       "mean_test_score                           0.838735   \n",
       "std_test_score                           0.0557943   \n",
       "rank_test_score                                 21   \n",
       "\n",
       "                                               38  \\\n",
       "mean_fit_time                         0.000472689   \n",
       "std_fit_time                          3.67819e-05   \n",
       "mean_score_time                       0.000279808   \n",
       "std_score_time                        2.43377e-05   \n",
       "param_C                                       0.1   \n",
       "param_gamma                                   NaN   \n",
       "param_kernel                               linear   \n",
       "params             {'C': 0.1, 'kernel': 'linear'}   \n",
       "split0_test_score                               1   \n",
       "split1_test_score                        0.913043   \n",
       "split2_test_score                               1   \n",
       "split3_test_score                        0.909091   \n",
       "split4_test_score                        0.954545   \n",
       "mean_test_score                          0.955336   \n",
       "std_test_score                          0.0397936   \n",
       "rank_test_score                                 8   \n",
       "\n",
       "                                             39  \\\n",
       "mean_fit_time                       0.000360203   \n",
       "std_fit_time                        8.15433e-06   \n",
       "mean_score_time                     0.000238705   \n",
       "std_score_time                      1.93724e-05   \n",
       "param_C                                       1   \n",
       "param_gamma                                 NaN   \n",
       "param_kernel                             linear   \n",
       "params             {'C': 1, 'kernel': 'linear'}   \n",
       "split0_test_score                             1   \n",
       "split1_test_score                      0.956522   \n",
       "split2_test_score                             1   \n",
       "split3_test_score                      0.954545   \n",
       "split4_test_score                      0.954545   \n",
       "mean_test_score                        0.973123   \n",
       "std_test_score                        0.0219572   \n",
       "rank_test_score                               1   \n",
       "\n",
       "                                              40  \\\n",
       "mean_fit_time                        0.000466537   \n",
       "std_fit_time                         0.000103964   \n",
       "mean_score_time                      0.000285149   \n",
       "std_score_time                       6.77047e-05   \n",
       "param_C                                       10   \n",
       "param_gamma                                  NaN   \n",
       "param_kernel                              linear   \n",
       "params             {'C': 10, 'kernel': 'linear'}   \n",
       "split0_test_score                              1   \n",
       "split1_test_score                              1   \n",
       "split2_test_score                              1   \n",
       "split3_test_score                       0.909091   \n",
       "split4_test_score                       0.954545   \n",
       "mean_test_score                         0.972727   \n",
       "std_test_score                         0.0363636   \n",
       "rank_test_score                                3   \n",
       "\n",
       "                                               41  \n",
       "mean_fit_time                         0.000476122  \n",
       "std_fit_time                          7.58985e-05  \n",
       "mean_score_time                       0.000320292  \n",
       "std_score_time                         0.00015097  \n",
       "param_C                                       100  \n",
       "param_gamma                                   NaN  \n",
       "param_kernel                               linear  \n",
       "params             {'C': 100, 'kernel': 'linear'}  \n",
       "split0_test_score                        0.956522  \n",
       "split1_test_score                        0.956522  \n",
       "split2_test_score                               1  \n",
       "split3_test_score                        0.909091  \n",
       "split4_test_score                        0.954545  \n",
       "mean_test_score                          0.955336  \n",
       "std_test_score                          0.0287643  \n",
       "rank_test_score                                 8  \n",
       "\n",
       "[16 rows x 42 columns]"
      ]
     },
     "metadata": {},
     "output_type": "display_data"
    }
   ],
   "source": [
    "# let's look at the cv_results_ again\n",
    "results = pd.DataFrame(grid_search.cv_results_)\n",
    "display(results.T)"
   ]
  },
  {
   "cell_type": "markdown",
   "metadata": {},
   "source": [
    "### __Nested Cross-Validation__"
   ]
  },
  {
   "cell_type": "markdown",
   "metadata": {},
   "source": [
    "In the preceding examples, we went form using a single split of the data\n",
    "into training, validation, and test sets to splitting the data into training and\n",
    "test sets and then performing cross-validation on the training set. But when using\n",
    "`GridSearchCV` as described earlier, we still have a single split of the data into training\n",
    "and test sets, which might take our results unstable and make us depend to much on this\n",
    "single split of the data. We can go a step further, and instead of splitting the original data\n",
    "into training and test sets once, use multiple splits of cross-validation. This will result\n",
    "in what is called nested cross-validation. In nested cross-validation, there is an outer\n",
    "loop over splits of the data into training and test sets. For each of them, a grid search\n",
    "is run (which might result in different best parameters for each split in the outer\n",
    "loop). Then, for each outer split, the test set score using the best settings is reported.\n",
    "\n",
    "The result of this procedure is a list of scores - not a model, and not a parameter setting-\n",
    "The scores tell us how well a model generalizes, given the best parameters found by the grid.\n",
    "As it doens't provide a model that can be used on new data, nested cross-valdiation is rarely\n",
    "used when looking for a predictive model to apply to future data.\n",
    "However, it can be useful for evaluating how well a given model works on\n",
    "a particular dataset.\n"
   ]
  },
  {
   "cell_type": "code",
   "execution_count": 32,
   "metadata": {},
   "outputs": [
    {
     "name": "stderr",
     "output_type": "stream",
     "text": [
      "[Parallel(n_jobs=6)]: Using backend LokyBackend with 6 concurrent workers.\n"
     ]
    },
    {
     "name": "stdout",
     "output_type": "stream",
     "text": [
      "cross-validation scores:  [0.967 1.    0.9   0.967 1.   ]\n",
      "mean cross-validation score.  0.9666666666666668\n"
     ]
    },
    {
     "name": "stderr",
     "output_type": "stream",
     "text": [
      "[Parallel(n_jobs=6)]: Done   3 out of   5 | elapsed:    1.0s remaining:    0.7s\n",
      "[Parallel(n_jobs=6)]: Done   5 out of   5 | elapsed:    1.1s finished\n"
     ]
    }
   ],
   "source": [
    "# implementing nested cross-validation in scikit-learn is\n",
    "# straightforward\n",
    "scores = cross_val_score(GridSearchCV(SVC(), param_grid, cv = 5),\n",
    "                         iris.data, iris.target, cv = 5, verbose = 2,\n",
    "                         n_jobs = 6)\n",
    "print('cross-validation scores: ', scores)\n",
    "print('mean cross-validation score. ', scores.mean())"
   ]
  },
  {
   "cell_type": "markdown",
   "metadata": {},
   "source": [
    "The result of our nested cross-validation can be summarized as \"SVC can achieve ~98% mean\n",
    "cross valdiation accuracy on the `iris` dataset\" - nothing more, nothing less."
   ]
  },
  {
   "cell_type": "markdown",
   "metadata": {},
   "source": [
    "Here, we used stratified five-fold cross-validation in both the inner and the outer\n",
    "loop. As our param_grid contains 36 combinations of parameters, this results in a\n",
    "whopping 36 * 5 * 5 = 900 models being built, making nested cross-validation a very\n",
    "expensive procedure. Here, we used the same cross-validation splitter in the inner\n",
    "and the outer loop; however, this is not necessary and you can use any combination\n",
    "of cross-validation strategies in the inner and outer loops. It can be a bit tricky to\n",
    "understand what is happening in the single line given above, and it can be helpful to\n",
    "visualize it as for loops, as done in the following simplified implementation:"
   ]
  },
  {
   "cell_type": "code",
   "execution_count": 33,
   "metadata": {},
   "outputs": [],
   "source": [
    "def nested_cv(X, y, inner_cv, outer_cv, Classifier, parameter_grid):\n",
    "    outer_scores = []\n",
    "    # for each split of the data in the outer cross-validation\n",
    "    # (split mehtod returns indices)\n",
    "    for training_samples, test_samples in outer_cv.split(X, y):\n",
    "        # find best parameter using inner cross-validation\n",
    "        best_params = {}\n",
    "        best_score = -np.inf\n",
    "        \n",
    "        # iterate over parameters\n",
    "        for parameters in parameter_grid:\n",
    "            # accumulate score voer inner splits\n",
    "            cv_scores = []\n",
    "            \n",
    "            # iterate over inner cross-validation\n",
    "            for inner_train, inner_test in inner_cv.split(\n",
    "                X[training_samples], y[training_samples]\n",
    "            ):\n",
    "                # build classifier given parameters and training data\n",
    "                clf = Classifier(**parameters)\n",
    "                clf.fit(X[inner_train], y[inner_train])\n",
    "                \n",
    "                # evaluate on inner test set\n",
    "                score = clf.score(X[inner_test], y[inner_test])\n",
    "                cv_scores.append(score)\n",
    "                \n",
    "            # compute mean score over inner folds\n",
    "            mean_score = np.mean(cv_scores)\n",
    "            if mean_score > best_score:\n",
    "                # if better than so far, remember params\n",
    "                best_score = mean_score\n",
    "                best_params = parameters\n",
    "        \n",
    "        # build a classifier on best parameters using outer training set\n",
    "        clf = Classifier(**best_params)\n",
    "        clf.fit(X[training_samples], y[training_samples])\n",
    "        \n",
    "        # evaluate\n",
    "        outer_scores.append(clf.score(X[test_samples], y[test_samples]))\n",
    "    \n",
    "    return np.array(outer_scores)"
   ]
  },
  {
   "cell_type": "code",
   "execution_count": 34,
   "metadata": {},
   "outputs": [
    {
     "name": "stdout",
     "output_type": "stream",
     "text": [
      "cross validation scores: [0.967 1.    0.967 0.967 1.   ]\n"
     ]
    }
   ],
   "source": [
    "# run this fucntion on iris\n",
    "from sklearn.model_selection import ParameterGrid, StratifiedKFold\n",
    "\n",
    "scores = nested_cv(\n",
    "    iris.data, iris.target, StratifiedKFold(5), StratifiedKFold(5), SVC, ParameterGrid(param_grid)\n",
    ")\n",
    "\n",
    "print(f'cross validation scores: {scores}')"
   ]
  },
  {
   "cell_type": "markdown",
   "metadata": {},
   "source": [
    "While running a grid search over many parameters and on large datasets can be com‐\n",
    "putationally challenging, it is also embarrassingly parallel. This means that building a\n",
    "model using a particular parameter setting on a particular cross-validation split can\n",
    "be done completely independently from the other parameter settings and models.\n",
    "This makes grid search and cross-validation ideal candidates for parallelization over\n",
    "multiple CPU cores or over a cluster. You can make use of multiple cores in Grid\n",
    "SearchCV and cross_val_score by setting the n_jobs parameter to the number of\n",
    "CPU cores you want to use. You can set n_jobs=-1 to use all available cores.\n",
    "\n",
    "You should be aware that scikit-learn does not allow nesting of parallel operations.\n",
    "So, if you are using the n_jobs option on your model (for example, a random forest),\n",
    "you cannot use it in GridSearchCV to search over this model. If your dataset and\n",
    "model are very large, it might be that using many cores uses up too much memory,\n",
    "and you should monitor your memory usage when building large models in parallel."
   ]
  },
  {
   "cell_type": "markdown",
   "metadata": {},
   "source": [
    "## __Evaluation Metrics and Scoring__"
   ]
  },
  {
   "cell_type": "markdown",
   "metadata": {},
   "source": [
    "So far, we have evaluated classification performance using accuracy (the fraction of\n",
    "correctly classified samples) and regression performance using R 2 . However, these are\n",
    "only two of the many possible ways to summarize how well a supervised model per‐\n",
    "forms on a given dataset. In practice, these evaluation metrics might not be appropriate\n",
    "for your application, and it is important to choose the right metric when selecting\n",
    "between models and adjusting parameters.\n",
    "\n",
    "When selecting a metric, you should always have the end goal of the machine learn\n",
    "ing application in mind. In practice, we are usually interested not just in making\n",
    "accurate predictions, but in using these predictions as part of a larger decision-\n",
    "making process. Before picking a machine learning metric, you should think about\n",
    "the high-level goal of the application, often called the business metric. The conse\n",
    "quences of choosing a particular algorithm for a machine learning application are\n",
    "called the business impact. Maybe the high-level goal is avoiding traffic accidents, or\n",
    "decreasing the number of hospital admissions. It could also be getting more users for\n",
    "your website, or having users spend more money in your shop. When choosing a\n",
    "model or adjusting parameters, you should pick the model or parameter values that\n",
    "have the most positive influence on the business metric. Often this is hard, as assess‐\n",
    "ing the business impact of a particular model might require putting it in production\n",
    "in a real-life system.\n",
    "\n",
    "In the early stages of development, and for adjusting parameters, it is often infeasible\n",
    "to put models into production just for testing purposes, because of the high business\n",
    "or personal risks that can be involved. Imagine evaluating the pedestrian avoidance\n",
    "capabilities of a self-driving car by just letting it drive around, without verifying it\n",
    "first; if your model is bad, pedestrians will be in trouble! Therefore we often need to\n",
    "find some surrogate evaluation procedure, using an evaluation metric that is easier to\n",
    "compute. For example, we could test classifying images of pedestrians against non-\n",
    "pedestrians and measure accuracy. Keep in mind that this is only a surrogate, and it\n",
    "pays off to find the closest metric to the original business goal that is feasible to evalu‐\n",
    "ate. This closest metric should be used whenever possible for model evaluation and\n",
    "selection. The result of this evaluation might not be a single number—the conse‐\n",
    "quence of your algorithm could be that you have 10% more customers, but each cus‐\n",
    "tomer will spend 15% less—but it should capture the expected business impact of\n",
    "choosing one model over another.\n",
    "In this section, we will first discuss metrics for the important special case of binary\n",
    "classification, then turn to multiclass classification and finally regression."
   ]
  },
  {
   "cell_type": "markdown",
   "metadata": {},
   "source": [
    "### __Kind of errors__\n",
    "Often, accuracy is not a good measure of predictive performance, as the number of\n",
    "mistakes we make does not contain all the information we are interested in. Imagine\n",
    "an application to screen for the early detection of cancer using an automated test. If\n",
    "the test is negative, the patient will be assumed healthy, while if the test is positive, the\n",
    "patient will undergo additional screening. Here, we would call a positive test (an indi‐\n",
    "cation of cancer) the positive class, and a negative test the negative class. We can’t\n",
    "assume that our model will always work perfectly, and it will make mistakes. For any\n",
    "application, we need to ask ourselves what the consequences of these mistakes might\n",
    "be in the real world."
   ]
  },
  {
   "cell_type": "markdown",
   "metadata": {},
   "source": [
    "One possible mistake is that a healthy patient will be classified as positive,\n",
    "leading to additional testing. This leads to some costs and inconvenience for the patient\n",
    "(and possibly some mental distress). An incorrect positive prediction is called\n",
    "a _false positive_. Thhe other possible mistake is that a sick patient will be\n",
    "classified as negative, and will not receive further tests and treatment.\n",
    "\n",
    "The undiagnosed cancer might lead to\n",
    "serious health issues, and could even be fatal. A mistake of this kind—an incorrect\n",
    "negative prediction—is called a _false negative_.\n",
    "\n",
    "In statistics, a false positive is also known as _type I error_ and a false negative as _type II error_.\n",
    "\n",
    "While this is a particularly drastic example, the consequence of false positives and\n",
    "false negatives are rarely the same. In commercial applications, it might be possible to\n",
    "assign dollar values to both kinds of mistakes, which would allow measuring the error\n",
    "of a particular prediction in dollars, instead of accuracy. This might be much more\n",
    "meaningful for making business decisions on which model to use."
   ]
  },
  {
   "cell_type": "markdown",
   "metadata": {},
   "source": [
    "#### __Imbalanced datasets__"
   ]
  },
  {
   "cell_type": "markdown",
   "metadata": {},
   "source": [
    "Types of errors play an important role when one of two classes is much more frequent\n",
    "than the other one. This is very common in practice; a good example is click-through\n",
    "prediction, where each data point represents an “impression,” an item that was shown\n",
    "to a user. This item might be an ad, or a related story, or a related person to follow on\n",
    "a social media site. The goal is to predict whether, if shown a particular item, a user\n",
    "will click on it (indicating they are interested). Most things users are shown on the\n",
    "Internet (in particular, ads) will not result in a click. You might need to show a user\n",
    "100 ads or articles before they find something interesting enough to click on. This\n",
    "results in a dataset where for each 99 “no click” data points, there is 1 “clicked” data\n",
    "point; in other words, 99% of the samples belong to the “no click” class. Datasets in\n",
    "which one class is much more frequent than the other are often called imbalanced\n",
    "datasets, or datasets with imbalanced classes. In reality, imbalanced data is the norm,\n",
    "and it is rare that the events of interest have equal or even similar frequency in the\n",
    "data.\n",
    "\n",
    "Now let’s say you build a classifier that is 99% accurate on the click prediction task.\n",
    "What does that tell you? 99% accuracy sounds impressive, but this doesn’t take the\n",
    "class imbalance into account. You can achieve 99% accuracy without building a\n",
    "machine learning model, by always predicting “no click.” On the other hand, even\n",
    "with imbalanced data, a 99% accurate model could in fact be quite good. However,\n",
    "accuracy doesn’t allow us to distinguish the constant “no click” model from a poten‐\n",
    "tially good model.\n",
    "To illustrate, we’ll create a 9:1 imbalanced dataset from the digits dataset, by classify‐\n",
    "ing the digit 9 against the nine other classes:"
   ]
  },
  {
   "cell_type": "code",
   "execution_count": 35,
   "metadata": {},
   "outputs": [],
   "source": [
    "from sklearn.datasets import load_digits\n",
    "\n",
    "digits = load_digits()\n",
    "y = digits.target == 9\n",
    "\n",
    "X_train, X_test, y_train, y_test = train_test_split(\n",
    "    digits.data, y, random_state = 0\n",
    ")"
   ]
  },
  {
   "cell_type": "code",
   "execution_count": 36,
   "metadata": {},
   "outputs": [
    {
     "name": "stdout",
     "output_type": "stream",
     "text": [
      "unique predicted labels: [False]\n",
      "test score: 0.896\n"
     ]
    }
   ],
   "source": [
    "# we can use the DummyClassifier to always predict\n",
    "# the majority class, to see how uninformative accuracy can be\n",
    "from sklearn.dummy import DummyClassifier\n",
    "dummy_majority = DummyClassifier(strategy = 'most_frequent').fit(X_train, y_train)\n",
    "pred_most_frequent = dummy_majority.predict(X_test)\n",
    "print(f'unique predicted labels: {np.unique(pred_most_frequent)}')\n",
    "print(f'test score: {dummy_majority.score(X_test, y_test):.3f}')"
   ]
  },
  {
   "cell_type": "markdown",
   "metadata": {},
   "source": [
    "We obtained close to 90% accuracy without learning anything. This might seem strik‐\n",
    "ing, but think about it for a minute. Imagine someone telling you their model is 90%\n",
    "accurate. You might think they did a very good job. But depending on the problem,\n",
    "that might be possible by just predicting one class! Let’s compare this against using an\n",
    "actual classifier:"
   ]
  },
  {
   "cell_type": "code",
   "execution_count": 37,
   "metadata": {},
   "outputs": [
    {
     "name": "stdout",
     "output_type": "stream",
     "text": [
      "test score: 0.92\n"
     ]
    }
   ],
   "source": [
    "from sklearn.tree import DecisionTreeClassifier\n",
    "tree = DecisionTreeClassifier(max_depth = 2).fit(X_train, y_train)\n",
    "pred_tree = tree.predict(X_test)\n",
    "print(f'test score: {tree.score(X_test, y_test):.2f}')"
   ]
  },
  {
   "cell_type": "markdown",
   "metadata": {},
   "source": [
    "According to accuracy, the `DecisionTreeClassifier` is noly slightly better than\n",
    "the constant predictor. This could indicate eother that something is wrong\n",
    "with how we used `DeisionTreeClassifier`, or that accuracy is in fact not a good\n",
    "measure here.\n",
    "\n",
    "For comparison purposes, let's evaluate two more classifiers, `LogisticRegression`\n",
    "and the default `DummyClassifier`, wchih makes random predictions but produces\n",
    "classes with same propoertions as in the training set"
   ]
  },
  {
   "cell_type": "code",
   "execution_count": 38,
   "metadata": {},
   "outputs": [
    {
     "name": "stdout",
     "output_type": "stream",
     "text": [
      "dummy score: 0.83\n",
      "logreg score: 0.98\n"
     ]
    },
    {
     "name": "stderr",
     "output_type": "stream",
     "text": [
      "/home/concerta/.virtualenvs/lab/lib/python3.7/site-packages/sklearn/dummy.py:132: FutureWarning: The default value of strategy will change from stratified to prior in 0.24.\n",
      "  \"stratified to prior in 0.24.\", FutureWarning)\n"
     ]
    }
   ],
   "source": [
    "from sklearn.linear_model import LogisticRegression\n",
    "\n",
    "dummy = DummyClassifier().fit(X_train, y_train)\n",
    "pred_dummy = dummy.predict(X_test)\n",
    "print(f'dummy score: {dummy.score(X_test, y_test):.2f}')\n",
    "\n",
    "logreg = LogisticRegression(C = 0.1, max_iter = 9000).fit(X_train, y_train)\n",
    "pred_logreg = logreg.predict(X_test)\n",
    "\n",
    "print(f'logreg score: {logreg.score(X_test, y_test):.2f}')"
   ]
  },
  {
   "cell_type": "markdown",
   "metadata": {},
   "source": [
    "The dummy classifier that produces random output is clearly the worst of the lot\n",
    "(according to accuracy), while `LogisticRegression` produces very good results.\n",
    "However, even the random classifier yields over 80% accuracy. This makes it very\n",
    "hard to judge which of these results is actually helpful. The problem here is that accu‐\n",
    "racy is an inadequate measure for quantifying predictive performance in this imbal‐\n",
    "anced setting. For the rest of this chapter, we will explore alternative metrics that\n",
    "provide better guidance in selecting models. In particular, we would like to have met‐\n",
    "rics that tell us how much better a model is than making “most frequent” predictions\n",
    "or random predictions, as they are computed in `pred_most_frequent` and\n",
    "`pred_dummy` . If we use a metric to assess our models, it should definitely be able to\n",
    "weed out these nonsense predictions."
   ]
  },
  {
   "cell_type": "markdown",
   "metadata": {},
   "source": [
    "### Confusion matrices"
   ]
  },
  {
   "cell_type": "markdown",
   "metadata": {},
   "source": [
    "One of the most comprehensive ways to represent the result of evaluating binary clas‐\n",
    "sification is using confusion matrices. Let’s inspect the predictions of LogisticRegres\n",
    "sion from the previous section using the confusion_matrix function. We already\n",
    "stored the predictions on the test set in `pred_logreg` :"
   ]
  },
  {
   "cell_type": "code",
   "execution_count": 39,
   "metadata": {},
   "outputs": [
    {
     "name": "stdout",
     "output_type": "stream",
     "text": [
      "confusion matrix:\n",
      "[[402   1]\n",
      " [  6  41]]\n"
     ]
    }
   ],
   "source": [
    "from sklearn.metrics import confusion_matrix\n",
    "\n",
    "confusion = confusion_matrix(y_test, pred_logreg)\n",
    "print(f'confusion matrix:\\n{confusion}')"
   ]
  },
  {
   "cell_type": "code",
   "execution_count": 40,
   "metadata": {},
   "outputs": [
    {
     "data": {
      "image/png": "[encoded data removed]",
      "text/plain": [
       "<Figure size 576x576 with 1 Axes>"
      ]
     },
     "metadata": {
      "needs_background": "light"
     },
     "output_type": "display_data"
    }
   ],
   "source": [
    "mglearn.plots.plot_confusion_matrix_illustration()"
   ]
  },
  {
   "cell_type": "markdown",
   "metadata": {},
   "source": [
    "Entries on the main diagonal of the confusion matrix correspond to correct classifi‐\n",
    "cations, while other entries tell us how many samples of one class got mistakenly clas‐\n",
    "sified as another class.\n",
    "If we declare “a nine” the positive class, we can relate the entries of the confusion\n",
    "matrix with the terms false positive and false negative that we introduced earlier. To\n",
    "complete the picture, we call correctly classified samples belonging to the positive\n",
    "class true positives and correctly classified samples belonging to the negative class true\n",
    "negatives. These terms are usually abbreviated FP, FN, TP, and TN and lead to the fol‐\n",
    "lowing interpretation for the confusion matrix"
   ]
  },
  {
   "cell_type": "code",
   "execution_count": 41,
   "metadata": {},
   "outputs": [
    {
     "data": {
      "image/png": "[encoded data removed]",
      "text/plain": [
       "<Figure size 432x288 with 1 Axes>"
      ]
     },
     "metadata": {
      "needs_background": "light"
     },
     "output_type": "display_data"
    }
   ],
   "source": [
    "mglearn.plots.plot_binary_confusion_matrix()"
   ]
  },
  {
   "cell_type": "code",
   "execution_count": 42,
   "metadata": {},
   "outputs": [
    {
     "name": "stdout",
     "output_type": "stream",
     "text": [
      "Most frequent class:\n",
      "[[403   0]\n",
      " [ 47   0]]\n",
      "\n",
      "Dummy model:\n",
      "[[368  35]\n",
      " [ 45   2]]\n",
      "\n",
      "Decision tree:\n",
      "[[390  13]\n",
      " [ 24  23]]\n",
      "\n",
      "Logistic Regression\n",
      "[[402   1]\n",
      " [  6  41]]\n"
     ]
    }
   ],
   "source": [
    "print(\"Most frequent class:\")\n",
    "print(confusion_matrix(y_test,pred_most_frequent))\n",
    "print(\"\\nDummy model:\")\n",
    "print(confusion_matrix(y_test, pred_dummy))\n",
    "print(\"\\nDecision tree:\")\n",
    "print(confusion_matrix(y_test, pred_tree))\n",
    "print(\"\\nLogistic Regression\")\n",
    "print(confusion_matrix(y_test, pred_logreg))"
   ]
  },
  {
   "cell_type": "markdown",
   "metadata": {},
   "source": [
    "Looking at the confusion matrix, it is quite clear that something is wrong with\n",
    "pred_most_frequent , because it always predicts the same class. pred_dummy , on the\n",
    "other hand, has a very small number of true positives (4), particularly compared to\n",
    "the number of false negatives and false positives—there are many more false positives\n",
    "than true positives! The predictions made by the decision tree make much more\n",
    "sense than the dummy predictions, even though the accuracy was nearly the same.\n",
    "Finally, we can see that logistic regression does better than pred_tree in all aspects: it\n",
    "has more true positives and true negatives while having fewer false positives and false\n",
    "negatives. From this comparison, it is clear that only the decision tree and the logistic\n",
    "regression give reasonable results, and that the logistic regression works better than\n",
    "the tree on all accounts. However, inspecting the full confusion matrix is a bit\n",
    "cumbersome, and while we gained a lot of insight from looking at all aspects of the\n",
    "matrix, the process was very manual and qualitative. There are several ways to summarize\n",
    "the information in the confusion matrix, which we will discuss next."
   ]
  },
  {
   "cell_type": "markdown",
   "metadata": {},
   "source": [
    "__Relation to accuracy__. We already saw one way to summarise the result\n",
    "in the confusion matrix - by computing accuracy, which ban be expressed as:\n",
    "\n",
    "$$ accuracy = \\frac{TP + TN}{TP + TN + FP + FN} $$\n",
    "\n",
    "In other words, accuracy is the number of correct predictions (TP and TN) divided by the number of\n",
    "all samples (all entreis of the confusion matrix suumed up)"
   ]
  },
  {
   "cell_type": "markdown",
   "metadata": {},
   "source": [
    "__Precision, recall and f-score__. There are several other ways to summarize the confusion matrix,\n",
    "with the most common ones being precision and recall.\n",
    "\n",
    "_Precision_ measures how mamny of the samples predicted as positive are actually positive:\n",
    "$$ precision = \\frac{TP}{TP + FP} $$\n",
    "\n",
    "Precision is used as a performance metric when the goal is to limit the number of\n",
    "false positives. As an example, imagine a model for predicting whether a new drug\n",
    "will be effective in treating a disease in clinical trials. Clinical trials are notoriously\n",
    "expensive, and a pharmaceutical company will only want to run an experiment if it is\n",
    "very sure that the drug will actually work. Therefore, it is important that the model\n",
    "does not produce many false positives—in other words, that it has a high precision.\n",
    "Precision is also known as _positive predictive value_ (PPV)."
   ]
  },
  {
   "cell_type": "markdown",
   "metadata": {},
   "source": [
    "_Recall_, on the other hand measures how many of the positive samples are\n",
    "captures by the positive predictions:\n",
    "    \n",
    "$$ recall = \\frac{TP}{TP + TN} $$"
   ]
  },
  {
   "cell_type": "markdown",
   "metadata": {},
   "source": [
    "Recall is used as performance metric when we need to identify all positive samples;\n",
    "that is, when it is important to avoid false negatives. The cancer diagnosis example\n",
    "from earlier in this chapter is a good example for this: it is important to find all people that are sick, possibly including healthy patients in the prediction. Other names\n",
    "for recall are _sensitivity_, _hit rate_, or _true positive rate_ (TPR)."
   ]
  },
  {
   "cell_type": "markdown",
   "metadata": {},
   "source": [
    "So, while precision and recall are very important measures, looking at only one of\n",
    "them will not provide you with the full picture. One way to summarize them is the\n",
    "_f-score_ or _f-measure_, which is with the harmonic mean of precision and recall:\n",
    "\n",
    "$$ F = 2 \\cdot \\frac{precision \\cdot recall}{precision + recall} $$"
   ]
  },
  {
   "cell_type": "markdown",
   "metadata": {},
   "source": [
    "This particular variant is also know as the $f_1$-score. As it takes precision and recall\n",
    "into account, it can be better measure than accuracy on imbalanced binary classification\n",
    "datasets. Let's run it on the predictions for the \"nive vs rest\" dataset that we\n",
    "computed earlier. Here, we will assume that the \"nine\" class is the positive class\n",
    "(it is labeled as `True` while the rest is labeled as `False`), so the positive is the\n",
    "minotiry class:"
   ]
  },
  {
   "cell_type": "code",
   "execution_count": 43,
   "metadata": {},
   "outputs": [
    {
     "name": "stdout",
     "output_type": "stream",
     "text": [
      "f1 score most frequent: 0.00\n",
      "f1 score most dummy: 0.05\n",
      "f1 score most tree: 0.55\n",
      "f1 score most logistic reg: 0.92\n"
     ]
    }
   ],
   "source": [
    "from sklearn.metrics import f1_score\n",
    "\n",
    "print(f'f1 score most frequent: {f1_score(y_test, pred_most_frequent):.2f}')\n",
    "print(f'f1 score most dummy: {f1_score(y_test, pred_dummy):.2f}')\n",
    "print(f'f1 score most tree: {f1_score(y_test, pred_tree):.2f}')\n",
    "print(f'f1 score most logistic reg: {f1_score(y_test, pred_logreg):.2f}')"
   ]
  },
  {
   "cell_type": "markdown",
   "metadata": {},
   "source": [
    "We can see a pretty strong distinction between\n",
    "the dummy predictions and the tree predictions, which wasn’t clear when looking at\n",
    "accuracy alone. Using the f-score for evaluation, we summarized the predictive per‐\n",
    "formance again in one number. However, the f-score seems to capture our intuition\n",
    "of what makes a good model much better than accuracy did. A disadvantage of the\n",
    "f-score, however, is that it is harder to interpret and explain than accuracy.\n",
    "\n",
    "If we want a more comprehensive summary of precision, recall, and f 1 -score, we can\n",
    "use the classification_report convenience function to compute all three at once,\n",
    "and print them in a nice format:"
   ]
  },
  {
   "cell_type": "code",
   "execution_count": 44,
   "metadata": {},
   "outputs": [
    {
     "name": "stdout",
     "output_type": "stream",
     "text": [
      "              precision    recall  f1-score   support\n",
      "\n",
      "    not nine       0.90      1.00      0.94       403\n",
      "        nine       0.00      0.00      0.00        47\n",
      "\n",
      "    accuracy                           0.90       450\n",
      "   macro avg       0.45      0.50      0.47       450\n",
      "weighted avg       0.80      0.90      0.85       450\n",
      "\n"
     ]
    },
    {
     "name": "stderr",
     "output_type": "stream",
     "text": [
      "/home/concerta/.virtualenvs/lab/lib/python3.7/site-packages/sklearn/metrics/_classification.py:1268: UndefinedMetricWarning: Precision and F-score are ill-defined and being set to 0.0 in labels with no predicted samples. Use `zero_division` parameter to control this behavior.\n",
      "  _warn_prf(average, modifier, msg_start, len(result))\n"
     ]
    }
   ],
   "source": [
    "from sklearn.metrics import classification_report\n",
    "print(classification_report(y_test, pred_most_frequent,\n",
    "                            target_names = ['not nine', 'nine']))"
   ]
  },
  {
   "cell_type": "markdown",
   "metadata": {},
   "source": [
    "The classification_report function produces one line per class (here, True and\n",
    "False ) and reports precision, recall, and f-score with this class as the positive class.\n",
    "Before, we assumed the minority “nine” class was the positive class. If we change the\n",
    "positive class to “not nine,” we can see from the output of classification_report\n",
    "that we obtain an f-score of 0.94 with the most_frequent model. Furthermore, for the\n",
    "“not nine” class we have a recall of 1, as we classified all samples as “not nine.” The\n",
    "last column next to the f-score provides the support of each class, which simply means\n",
    "the number of samples in this class according to the ground truth.\n",
    "The last row in the classification report shows a weighted (by the number of samples\n",
    "in the class) average of the numbers for each class. Here are two more reports, one for\n",
    "the dummy classifier and one for the logistic regression:"
   ]
  },
  {
   "cell_type": "code",
   "execution_count": 45,
   "metadata": {},
   "outputs": [
    {
     "name": "stdout",
     "output_type": "stream",
     "text": [
      "              precision    recall  f1-score   support\n",
      "\n",
      "    not nine       0.89      0.91      0.90       403\n",
      "        nine       0.05      0.04      0.05        47\n",
      "\n",
      "    accuracy                           0.82       450\n",
      "   macro avg       0.47      0.48      0.47       450\n",
      "weighted avg       0.80      0.82      0.81       450\n",
      "\n"
     ]
    }
   ],
   "source": [
    "print(classification_report(y_test, pred_dummy,\n",
    "                            target_names = ['not nine', 'nine']))"
   ]
  },
  {
   "cell_type": "code",
   "execution_count": 46,
   "metadata": {},
   "outputs": [
    {
     "name": "stdout",
     "output_type": "stream",
     "text": [
      "              precision    recall  f1-score   support\n",
      "\n",
      "    not nine       0.99      1.00      0.99       403\n",
      "        nine       0.98      0.87      0.92        47\n",
      "\n",
      "    accuracy                           0.98       450\n",
      "   macro avg       0.98      0.93      0.96       450\n",
      "weighted avg       0.98      0.98      0.98       450\n",
      "\n"
     ]
    }
   ],
   "source": [
    "print(classification_report(y_test, pred_logreg,\n",
    "                            target_names = ['not nine', 'nine']))"
   ]
  },
  {
   "cell_type": "markdown",
   "metadata": {},
   "source": [
    "As you may notice when looking at the reports, the differences between the dummy\n",
    "models and a very good model are not as clear any more. Picking which class is\n",
    "declared the positive class has a big impact on the metrics. While the f-score for the\n",
    "dummy classification is 0.13 (vs. 0.89 for the logistic regression) on the “nine” class,\n",
    "for the “not nine” class it is 0.90 vs. 0.99, which both seem like reasonable results.\n",
    "Looking at all the numbers together paints a pretty accurate picture, though, and we\n",
    "can clearly see the superiority of the logistic regression model."
   ]
  },
  {
   "cell_type": "markdown",
   "metadata": {},
   "source": [
    "### __Taking uncertainty into account__"
   ]
  },
  {
   "cell_type": "markdown",
   "metadata": {},
   "source": [
    "The confusion matrix and the classification report provide a very detailed analysis of\n",
    "a particular set of predictions. However, the predictions themselves already threw\n",
    "away a lot of information that is contained in the model. As we discussed in Chapter 2,\n",
    "most classifiers provide a `decision_function` or a `predict_proba` method to\n",
    "assess degrees of certainty about predictions. Making predictions can be seen as\n",
    "thresholding the output of `decision_function` or `predict_proba` at a certain fixed\n",
    "point—in binary classification we use 0 for the decision function and 0.5 for\n",
    "`predict_proba` ."
   ]
  },
  {
   "cell_type": "markdown",
   "metadata": {},
   "source": [
    "The following is an example of an imbalanced binary classification task, with 400\n",
    "points in the negative class classified against 50 points in the positive class.\n",
    "We train a kernel SVM model on this\n",
    "data, and the plots to the right of the training data illustrate the values of the decision\n",
    "function as a heat map. You can see a black circle in the plot in the top center, which\n",
    "denotes the threshold of the `decision_function` being exactly zero. Points inside this\n",
    "circle will be classified as the positive class, and points outside as the negative class:"
   ]
  },
  {
   "cell_type": "code",
   "execution_count": 47,
   "metadata": {},
   "outputs": [
    {
     "name": "stderr",
     "output_type": "stream",
     "text": [
      "/home/concerta/.virtualenvs/lab/lib/python3.7/site-packages/sklearn/utils/deprecation.py:87: FutureWarning: Function make_blobs is deprecated; Please import make_blobs directly from scikit-learn\n",
      "  warnings.warn(msg, category=FutureWarning)\n"
     ]
    }
   ],
   "source": [
    "from mglearn.datasets import make_blobs\n",
    "\n",
    "X, y = make_blobs(\n",
    "    n_samples = (400, 500), centers = 2, cluster_std = [7.0, 2],\n",
    "    random_state = 22\n",
    ")\n",
    "\n",
    "X_train, X_test, y_train, y_test = train_test_split(\n",
    "    X, y, random_state = 0\n",
    ")\n",
    "\n",
    "svc = SVC(gamma = 0.05).fit(X_train, y_train)"
   ]
  },
  {
   "cell_type": "code",
   "execution_count": 48,
   "metadata": {},
   "outputs": [
    {
     "data": {
      "image/png": "[encoded data removed]",
      "text/plain": [
       "<Figure size 1080x576 with 6 Axes>"
      ]
     },
     "metadata": {},
     "output_type": "display_data"
    }
   ],
   "source": [
    "mglearn.plots.plot_decision_threshold()"
   ]
  },
  {
   "cell_type": "code",
   "execution_count": 49,
   "metadata": {},
   "outputs": [
    {
     "name": "stdout",
     "output_type": "stream",
     "text": [
      "              precision    recall  f1-score   support\n",
      "\n",
      "           0       1.00      0.85      0.92       100\n",
      "           1       0.89      1.00      0.94       125\n",
      "\n",
      "    accuracy                           0.93       225\n",
      "   macro avg       0.95      0.93      0.93       225\n",
      "weighted avg       0.94      0.93      0.93       225\n",
      "\n"
     ]
    }
   ],
   "source": [
    "# we can use the classification_report function to\n",
    "# evluate precision and recall for both classes\n",
    "print(classification_report(y_test, svc.predict(X_test)))"
   ]
  },
  {
   "cell_type": "markdown",
   "metadata": {},
   "source": [
    "Let’s assume in our application it is more important to have a high recall for class 0, as\n",
    "in the cancer screening example earlier. This means we are willing to risk more false\n",
    "positives (false class 0) in exchange for more true positives (which will increase the\n",
    "recall). The predictions generated by svc.predict really do not fulfill this require‐\n",
    "ment, but we can adjust the predictions to focus on a higher recall of class 0 by\n",
    "changing the decision threshold away from 0. By default, points with a deci\n",
    "sion_function value greater than 0 will be classified as class 0. We want more points\n",
    "to be classified as class 0, so we need to decrease the threshold:"
   ]
  },
  {
   "cell_type": "code",
   "execution_count": 50,
   "metadata": {},
   "outputs": [],
   "source": [
    "y_pred_lower_threshold = svc.decision_function(X_test) > 0.9"
   ]
  },
  {
   "cell_type": "code",
   "execution_count": 51,
   "metadata": {},
   "outputs": [
    {
     "name": "stdout",
     "output_type": "stream",
     "text": [
      "              precision    recall  f1-score   support\n",
      "\n",
      "           0       0.87      0.90      0.89       100\n",
      "           1       0.92      0.90      0.91       125\n",
      "\n",
      "    accuracy                           0.90       225\n",
      "   macro avg       0.90      0.90      0.90       225\n",
      "weighted avg       0.90      0.90      0.90       225\n",
      "\n"
     ]
    }
   ],
   "source": [
    "print(classification_report(y_test, y_pred_lower_threshold))"
   ]
  },
  {
   "cell_type": "markdown",
   "metadata": {},
   "source": [
    "As expected, the recall of class 0 went up, and the precision went down.\n",
    "If you value precision over recall or the other way around, or your data is\n",
    "heavily imbalanced, changing the decision threshold is the easiest way to obtain bet‐\n",
    "ter results. As the decision_function can have arbitrary ranges, it is hard to provide\n",
    "a rule of thumb regarding how to pick a threshold.\n",
    "\n",
    "If you do set a threshold, you need to be careful not to do so using\n",
    "the test set. As with any other parameter, setting a decision thresh‐\n",
    "old on the test set is likely to yield overly optimistic results. Use a\n",
    "validation set or cross-validation instead."
   ]
  },
  {
   "cell_type": "markdown",
   "metadata": {},
   "source": [
    "Picking a threshold for models that implement the `predict_proba` method can be\n",
    "easier, as the output of `predict_proba` is on a fixed 0 to 1 scale, and models probabil‐\n",
    "ities. By default, the threshold of 0.5 means that if the model is more than 50% “sure”\n",
    "that a point is of the positive class, it will be classified as such. Increasing the thresh‐\n",
    "old means that the model needs to be more confident to make a positive decision\n",
    "(and less confident to make a negative decision). While working with probabilities\n",
    "may be more intuitive than working with arbitrary thresholds, not all models provide\n",
    "realistic models of uncertainty (a `DecisionTree` that is grown to its full depth is\n",
    "always 100% sure of its decisions, even though it might often be wrong). This relates\n",
    "to the concept of __calibration: a calibrated model is a model that provides an accurate\n",
    "measure of its uncertainty.__"
   ]
  },
  {
   "cell_type": "markdown",
   "metadata": {},
   "source": [
    "### __Precision-recall curves and ROC curves__"
   ]
  },
  {
   "cell_type": "markdown",
   "metadata": {},
   "source": [
    "As we just discussed, changing the threshold that is used to make a classification\n",
    "decision in a model is a way to adjust the trade-off of precision and recall for a given\n",
    "classifier. Maybe you want to miss less than 10% of positive samples, meaning a desired\n",
    "recall of 90%. This decision depends on the application, and it should be driven by\n",
    "business goals. Once a particular goal is set—say, a particular recall or precision value\n",
    "for a class—a threshold can be set appropriately. It is always possible to set a threshold\n",
    "to fulfill a particular target, like 90% recall. The hard part is to develop a model\n",
    "that still has reasonable precision with this threshold—if you classify everything as\n",
    "positive, you will have 100% recall, but your model will be useless.\n",
    "Setting a requirement on a classifier like 90% recall is often called setting the operating\n",
    "point. Fixing an operating point is often helpful in business settings to make performance\n",
    "guarantees to customers or other groups inside your organization."
   ]
  },
  {
   "cell_type": "markdown",
   "metadata": {},
   "source": [
    "Often, when developing a new model, it is not entirely clear what the operating point\n",
    "will be. For this reason, and to understand a modeling problem better, it is instructive\n",
    "to look at all possible thresholds, or all possible trade-offs of precision and recalls at\n",
    "once. This is possible using a tool called the _precision-recall_ curve. You can find the\n",
    "function to compute the precision-recall curve in the sklearn.metrics module. It\n",
    "needs the ground truth labeling and predicted uncertainties, created via either\n",
    "`decision_function` or `predict_proba` :"
   ]
  },
  {
   "cell_type": "code",
   "execution_count": 52,
   "metadata": {},
   "outputs": [],
   "source": [
    "from sklearn.metrics import precision_recall_curve\n",
    "\n",
    "precision, recall, thresholds = precision_recall_curve(\n",
    "    y_test, svc.decision_function(X_test)\n",
    ")"
   ]
  },
  {
   "cell_type": "markdown",
   "metadata": {},
   "source": [
    "The `precision_recall_curve` function returns a list of precision and recall values\n",
    "for all possible thresholds (all values that appear in the decision function) in sorted\n",
    "order, so we can plot a curve:"
   ]
  },
  {
   "cell_type": "code",
   "execution_count": 53,
   "metadata": {},
   "outputs": [
    {
     "name": "stderr",
     "output_type": "stream",
     "text": [
      "/home/concerta/.virtualenvs/lab/lib/python3.7/site-packages/sklearn/utils/deprecation.py:87: FutureWarning: Function make_blobs is deprecated; Please import make_blobs directly from scikit-learn\n",
      "  warnings.warn(msg, category=FutureWarning)\n"
     ]
    },
    {
     "data": {
      "image/png": "[encoded data removed]",
      "text/plain": [
       "<Figure size 432x288 with 1 Axes>"
      ]
     },
     "metadata": {
      "needs_background": "light"
     },
     "output_type": "display_data"
    }
   ],
   "source": [
    "# sue more data points for a smoother curve\n",
    "X, y = make_blobs(\n",
    "    n_samples = (4000, 500), centers = 2, cluster_std = [7.0, 2],\n",
    "    random_state = 22\n",
    ")\n",
    "\n",
    "X_train, X_test, y_train, y_test = train_test_split(X, y, random_state = 0)\n",
    "\n",
    "svc = SVC(gamma = 0.05).fit(X_train, y_train)\n",
    "\n",
    "precision, recall, thresholds = precision_recall_curve(\n",
    "    y_test, svc.decision_function(X_test)\n",
    ")\n",
    "\n",
    "# finds thresholds closes to zero\n",
    "close_zero = np.argmin(np.abs(thresholds))\n",
    "\n",
    "plt.plot(\n",
    "    precision[close_zero], recall[close_zero], 'o', markersize = 10,\n",
    "    label = 'thresholds zero', fillstyle = 'none', c = 'k', mew = 2\n",
    ")\n",
    "\n",
    "plt.plot(precision, recall, label = 'precision recall curve')\n",
    "plt.legend()\n",
    "plt.xlabel('precision')\n",
    "plt.ylabel('recall')\n",
    "plt.show()"
   ]
  },
  {
   "cell_type": "markdown",
   "metadata": {},
   "source": [
    "Each point along the curve in Figure 5-13 corresponds to a possible threshold of the\n",
    "decision_function . We can see, for example, that we can achieve a recall of 0.4 at a\n",
    "precision of about 0.75. The black circle marks the point that corresponds to a thresh‐\n",
    "old of 0, the default threshold for decision_function . This point is the trade-off that\n",
    "is chosen when calling the predict method.\n",
    "\n",
    "The closer a curve stays to the upper-right corner, the better the classifier. A point at\n",
    "the upper right means high precision and high recall for the same threshold. The\n",
    "curve starts at the top-left corner, corresponding to a very low threshold, classifying\n",
    "everything as the positive class. Raising the threshold moves the curve toward higher\n",
    "precision, but also lower recall. Raising the threshold more and more, we get to a sit‐\n",
    "uation where most of the points classified as being positive are true positives, leading\n",
    "to a very high precision but lower recall. The more the model keeps recall high as\n",
    "precision goes up, the better.\n",
    "\n",
    "Looking at this particular curve a bit more, we can see that with this model it is possi‐\n",
    "ble to get a precision of up to around 0.5 with very high recall. If we want a much\n",
    "higher precision, we have to sacrifice a lot of recall. In other words, on the left the\n",
    "curve is relatively flat, meaning that recall does not go down a lot when we require\n",
    "increased precision. For precision greater than 0.5, each gain in precision costs us a\n",
    "lot of recall.\n",
    "\n",
    "Different classifiers can work well in different parts of the curve—that is, at different\n",
    "operating points. Let’s compare the SVM we trained to a random forest trained on the\n",
    "same dataset. The RandomForestClassifier doesn’t have a decision_function , only\n",
    "predict_proba . The precision_recall_curve function expects as its second argu‐\n",
    "ment a certainty measure for the positive class (class 1), so we pass the probability of\n",
    "a sample being class 1—that is, rf.predict_proba(X_test)[:, 1] . The default\n",
    "threshold for predict_proba in binary classification is 0.5, so this is the point we\n",
    "marked on the curve:"
   ]
  },
  {
   "cell_type": "code",
   "execution_count": 54,
   "metadata": {},
   "outputs": [
    {
     "name": "stderr",
     "output_type": "stream",
     "text": [
      "/home/concerta/.virtualenvs/lab/lib/python3.7/importlib/_bootstrap.py:219: RuntimeWarning: numpy.ufunc size changed, may indicate binary incompatibility. Expected 192 from C header, got 216 from PyObject\n",
      "  return f(*args, **kwds)\n"
     ]
    },
    {
     "data": {
      "image/png": "[encoded data removed]",
      "text/plain": [
       "<Figure size 432x288 with 1 Axes>"
      ]
     },
     "metadata": {
      "needs_background": "light"
     },
     "output_type": "display_data"
    }
   ],
   "source": [
    "from sklearn.ensemble import RandomForestClassifier\n",
    "\n",
    "rf = RandomForestClassifier(\n",
    "    n_estimators = 100, random_state = 0, max_features = 2\n",
    ")\n",
    "rf.fit(X_train, y_train)\n",
    "\n",
    "# RandomForestClassifier has predict_proba,\n",
    "# but has no decision_function\n",
    "precision_rf, recall_rf, thresholds_rf = precision_recall_curve(\n",
    "    y_test, rf.predict_proba(X_test)[:, 1]\n",
    ")\n",
    "\n",
    "plt.plot(precision, recall, label = 'svc')\n",
    "\n",
    "plt.plot(\n",
    "    precision[close_zero], recall[close_zero], 'o', markersize = 10,\n",
    "    label = 'threshold zero svc', fillstyle = 'none', c = 'k', mew = 2\n",
    ")\n",
    "\n",
    "plt.plot(precision_rf, recall_rf, label = 'rf')\n",
    "\n",
    "close_default_rf = np.argmin(np.abs(thresholds_rf - 0.5))\n",
    "plt.plot(\n",
    "    precision_rf[close_default_rf], recall_rf[close_default_rf], '^',\n",
    "    c = 'k', markersize = 10, label = 'threshold 0.5 rf', fillstyle = 'none',\n",
    "    mew = 2\n",
    ")\n",
    "\n",
    "plt.xlabel('precision')\n",
    "plt.ylabel('recall')\n",
    "plt.legend(loc = 'best')\n",
    "plt.show()"
   ]
  },
  {
   "cell_type": "markdown",
   "metadata": {},
   "source": [
    "From the comparison plot we can see that the random forest performs\n",
    "better at the extremes, for every high recall or very high precision requirements.\n",
    "Around the middle (approximately precision = 0.7), the SVM performs better.\n",
    "IF we only looked at the $f_1$-score to compare overlal performance, we would have missed these\n",
    "subleties. The $f_1$-score captures one point on the precision-recall curve, the one\n",
    "given by the default threshold:"
   ]
  },
  {
   "cell_type": "code",
   "execution_count": 55,
   "metadata": {},
   "outputs": [
    {
     "name": "stdout",
     "output_type": "stream",
     "text": [
      "f_1 score of random forest: 0.610\n",
      "f_1 score of svc: 0.656\n"
     ]
    }
   ],
   "source": [
    "print(f'f_1 score of random forest: {f1_score(y_test, rf.predict(X_test)):.3f}')\n",
    "print(f'f_1 score of svc: {f1_score(y_test, svc.predict(X_test)):.3f}')"
   ]
  },
  {
   "cell_type": "markdown",
   "metadata": {},
   "source": [
    "Comparing two precision-recall curves provides a lot of detailed insight, but is a fairly\n",
    "manual process. For automatic model comparison, we might want to summarize the\n",
    "information contained in the curve, without limiting ourselves to a particular thresh‐\n",
    "old or operating point. One particular way to summarize the precision-recall curve is\n",
    "by computing the integral or area under the curve of the precision-recall curve, also\n",
    "known as the average precision. (There are some minor technical differences between\n",
    "the area under the precision-recall curve and average\n",
    "precision. However, this explanation conveys the general idea) You can use the\n",
    "`average_precision_score` function\n",
    "to compute the average precision. Because we need to compute the ROC curve and\n",
    "consider multiple thresholds, the result of decision_function or predict_proba\n",
    "needs to be passed to `average_precision_score , not the result of predict :"
   ]
  },
  {
   "cell_type": "code",
   "execution_count": 56,
   "metadata": {},
   "outputs": [
    {
     "name": "stdout",
     "output_type": "stream",
     "text": [
      "average precision of random forest: 0.660\n",
      "average precision of svc: 0.666\n"
     ]
    }
   ],
   "source": [
    "from sklearn.metrics import average_precision_score\n",
    "ap_rf = average_precision_score(y_test, rf.predict_proba(X_test)[:, 1])\n",
    "ap_svc = average_precision_score(y_test, svc.decision_function(X_test))\n",
    "print(f'average precision of random forest: {ap_rf:.3f}')\n",
    "print(f'average precision of svc: {ap_svc:.3f}')"
   ]
  },
  {
   "cell_type": "markdown",
   "metadata": {},
   "source": [
    "When averaging over all possible thresholds, we see that the random forest and SVC\n",
    "perform similarly well, with the random forest even slightly ahead. This is quite dif‐\n",
    "ferent from the result we got from f1_score earlier. Because average precision is the\n",
    "area under a curve that goes from 0 to 1, average precision always returns a value\n",
    "between 0 (worst) and 1 (best). The average precision of a classifier that assigns\n",
    "decision_function at random is the fraction of positive samples in the dataset."
   ]
  },
  {
   "cell_type": "markdown",
   "metadata": {},
   "source": [
    "### Receiver operating characteristics (ROC) and AUC"
   ]
  },
  {
   "cell_type": "markdown",
   "metadata": {},
   "source": [
    "There is another tool that is commonly used to analyze the behavior of classifiers at\n",
    "different thresholds: the receiver operating characteristics curve, or ROC curve for\n",
    "short. Similar to the precision-recall curve, the ROC curve considers all possible\n",
    "thresholds for a given classifier, but instead of reporting precision and recall, it shows\n",
    "the false positive rate (FPR) against the true positive rate (TPR). Recall that the true\n",
    "positive rate is simply another name for recall, while the false positive rate is the\n",
    "fraction of false positives out of all negative samples:\n",
    "\n",
    "$$ FPR = \\frac{FP}{FP + TN} $$"
   ]
  },
  {
   "cell_type": "markdown",
   "metadata": {},
   "source": [
    "The ROC curve can be computed using the roc_curve function"
   ]
  },
  {
   "cell_type": "code",
   "execution_count": 57,
   "metadata": {},
   "outputs": [
    {
     "data": {
      "image/png": "[encoded data removed]",
      "text/plain": [
       "<Figure size 432x288 with 1 Axes>"
      ]
     },
     "metadata": {
      "needs_background": "light"
     },
     "output_type": "display_data"
    }
   ],
   "source": [
    "from sklearn.metrics import roc_curve\n",
    "fpr, tpr, thresholds = roc_curve(y_test, svc.decision_function(X_test))\n",
    "\n",
    "plt.plot(fpr, tpr, label = 'ROC curve')\n",
    "plt.xlabel('FPR')\n",
    "plt.ylabel('TPR (recall)')\n",
    "\n",
    "# find threshold closest to zero\n",
    "close_zero = np.argmin(np.abs(thresholds))\n",
    "plt.plot(\n",
    "    fpr[close_zero], tpr[close_zero], 'o', markersize = 10,\n",
    "    label = 'threshold zero', fillstyle = 'none', c = 'k', mew = 2\n",
    ")\n",
    "\n",
    "plt.legend(loc = 'best')\n",
    "plt.show()"
   ]
  },
  {
   "cell_type": "markdown",
   "metadata": {},
   "source": [
    "For the ROC curve, the ideal curve is close to the top left: you want a classifier that\n",
    "produces a high recall while keeping a low false positive rate. Compared to the default\n",
    "threshold of 0, the curve shows that we can achieve a significantly higher recall\n",
    "(around 0.9) while only increasing the FPR slightly. The point closest to the top left\n",
    "might be a better operating point than the one chosen by default. Again, be aware that\n",
    "choosing a threshold should not be done on the test set, but on a separate validation\n",
    "set."
   ]
  },
  {
   "cell_type": "code",
   "execution_count": 58,
   "metadata": {},
   "outputs": [
    {
     "data": {
      "image/png": "[encoded data removed]",
      "text/plain": [
       "<Figure size 432x288 with 1 Axes>"
      ]
     },
     "metadata": {
      "needs_background": "light"
     },
     "output_type": "display_data"
    }
   ],
   "source": [
    "# comparison of random forest and svm using ROC\n",
    "from sklearn.metrics import roc_curve\n",
    "fpr_rf, tpr_rf, thesholds_rf = roc_curve(y_test, rf.predict_proba(X_test)[:, 1])\n",
    "\n",
    "plt.plot(fpr, tpr, label = 'ROC Curve SVC')\n",
    "plt.plot(fpr_rf, tpr_rf, label = 'ROC Curve RF')\n",
    "\n",
    "plt.xlabel('FPR')\n",
    "plt.ylabel('TPR (recall)')\n",
    "plt.plot(\n",
    "    fpr[close_zero], tpr[close_zero], 'o', markersize = 10,\n",
    "    label = 'threshold zero SVC', fillstyle = 'none', c = 'k', mew = 2\n",
    ")\n",
    "\n",
    "close_default_rf = np.argmin(np.abs(thresholds_rf - 0.05))\n",
    "plt.plot(fpr_rf[close_default_rf], tpr[close_default_rf], '^', markersize = 10,\n",
    "         label = 'threshold 0.5 RF', fillstyle = 'none', c = 'k', mew = 2\n",
    ")\n",
    "\n",
    "plt.legend(loc = 4)\n",
    "plt.show()"
   ]
  },
  {
   "cell_type": "code",
   "execution_count": 59,
   "metadata": {},
   "outputs": [],
   "source": [
    "# left on page 294 (308 of 392)"
   ]
  },
  {
   "cell_type": "markdown",
   "metadata": {},
   "source": [
    "As for the precision-recall curve, we often want to summarize the ROC curve using a\n",
    "single number, the area under the curve (this is commonly just referred to as the\n",
    "AUC, and it is understood that the curve in question is the ROC curve). We can com\n",
    "pute the area under the ROC curve using the roc_auc_score function:"
   ]
  },
  {
   "cell_type": "code",
   "execution_count": 60,
   "metadata": {},
   "outputs": [
    {
     "name": "stdout",
     "output_type": "stream",
     "text": [
      "AUC for Random Forest: 0.94\n",
      "AUC for SVC: 0.92\n"
     ]
    }
   ],
   "source": [
    "from sklearn.metrics import roc_auc_score\n",
    "\n",
    "rf_auc = roc_auc_score(y_test, rf.predict_proba(X_test)[:, 1])\n",
    "svc_auc = roc_auc_score(y_test, svc.decision_function(X_test))\n",
    "\n",
    "print(f'AUC for Random Forest: {rf_auc:.2f}')\n",
    "print(f'AUC for SVC: {svc_auc:.2f}')"
   ]
  },
  {
   "cell_type": "markdown",
   "metadata": {},
   "source": [
    "Comparing the random forest and SVM using the AUC score, we find that the\n",
    "random forest performs quite a bit better than the SVM. Recall that because average\n",
    "precision is the area under a curve that goes from 0 to 1, average precision always returns\n",
    "a value between 0 (worst) and 1 (best). Predicting randomly always produces an AUC\n",
    "of 0.5, no matter how imbalanced the classes in a dataset are. This makes AUC a\n",
    "much better metric for imbalanced classification problems than accuracy. The AUC\n",
    "can be interpreted as evaluating the ranking of positive samples. It’s equivalent to the\n",
    "probability that a randomly picked point of the positive class will have a higher score\n",
    "according to the classifier than a randomly picked point from the negative class. So, a\n",
    "perfect AUC of 1 means that all positive points have a higher score than all negative\n",
    "points. For classification problems with imbalanced classes, using AUC for model\n",
    "selection is often much more meaningful than using accuracy."
   ]
  },
  {
   "cell_type": "code",
   "execution_count": 72,
   "metadata": {},
   "outputs": [
    {
     "name": "stdout",
     "output_type": "stream",
     "text": [
      "gamma: 1.00  accuracy: 0.90  auc = 0.5000\n",
      "gamma: 0.15  accuracy: 0.90  auc = 0.7889\n",
      "gamma: 0.01  accuracy: 0.90  auc = 0.9995\n"
     ]
    },
    {
     "data": {
      "image/png": "[encoded data removed]",
      "text/plain": [
       "<Figure size 432x288 with 1 Axes>"
      ]
     },
     "metadata": {
      "needs_background": "light"
     },
     "output_type": "display_data"
    }
   ],
   "source": [
    "# classify the dataset (digits) with an SVM\n",
    "# with three different settings of the kernel bandwith, gamma\n",
    "y = digits.target == 9\n",
    "\n",
    "X_train, X_test, y_train, y_test = train_test_split(\n",
    "    digits.data, y, random_state = 0\n",
    ")\n",
    "\n",
    "plt.figure()\n",
    "\n",
    "for gamma in [1, 0.15, 0.01]:\n",
    "    svc = SVC(gamma = gamma).fit(X_train, y_train)\n",
    "    accuracy = svc.score(X_test, y_test)\n",
    "    auc = roc_auc_score(y_test, svc.decision_function(X_test))\n",
    "    fpr, tpr, __ = roc_curve(y_test, svc.decision_function(X_test))\n",
    "    print(f'gamma: {gamma:.2f}  accuracy: {accuracy:.2f}  auc = {auc:.4f}')\n",
    "    plt.plot(fpr, tpr, label = f'gamma = {gamma:.3f}')\n",
    "\n",
    "plt.xlabel('FPR')\n",
    "plt.ylabel('TPR')\n",
    "plt.xlim(-0.01, 1)\n",
    "plt.ylim(0, 1.02)\n",
    "plt.legend(loc = 'best')\n",
    "plt.show()"
   ]
  },
  {
   "cell_type": "markdown",
   "metadata": {},
   "source": [
    "The accuracy of all three settings of gamma is the same, 90%. This might be the same\n",
    "as chance performance, or it might not. Looking at the AUC and the corresponding\n",
    "curve, however, we see a clear distinction between the three models. With `gamma = 1.0` ,\n",
    "the AUC is actually at chance level, meaning that the output of the `decision_func\n",
    "tion` is as good as random. With `gamma = 0.15` , performance drastically improves to an\n",
    "AUC of 0.79. Finally, with `gamma = 0.01`, we get a perfect AUC of 1.0 (0.9995). That means that\n",
    "all positive points are ranked higher than all negative points according to the decision\n",
    "function. In other words, with the right threshold, this model can classify the data\n",
    "perfectly! Knowing this, we can adjust the threshold on this model and obtain great\n",
    "predictions. If we had only used accuracy, we would never have discovered this.\n",
    "\n",
    "For this reason, we highly recommend using AUC when evaluating models on imbal‐\n",
    "anced data. Keep in mind that AUC does not make use of the default threshold,\n",
    "though, so adjusting the decision threshold might be necessary to obtain useful classi‐\n",
    "fication results from a model with a high AUC."
   ]
  },
  {
   "cell_type": "markdown",
   "metadata": {},
   "source": [
    "## __Metrics for Multiclass Classification__"
   ]
  },
  {
   "cell_type": "markdown",
   "metadata": {},
   "source": [
    "Basically, all metrics for\n",
    "multiclass classification are derived from binary classification metrics, but averaged\n",
    "over all classes. Accuracy for multiclass classification is again defined as the fraction\n",
    "of correctly classified examples. And again, when classes are imbalanced, accuracy is\n",
    "not a great evaluation measure. Imagine a three-class classification problem with 85%\n",
    "of points belonging to class A, 10% belonging to class B, and 5% belonging to class C.\n",
    "What does being 85% accurate mean on this dataset? In general, multiclass\n",
    "classification results are harder to understand than binary classification results. Apart from\n",
    "accuracy, common tools are the confusion matrix and the classification report we saw\n",
    "in the binary case in the previous section. Let’s apply these two detailed evaluation\n",
    "methods on the task of classifying the 10 different handwritten digits in the digits\n",
    "dataset:"
   ]
  },
  {
   "cell_type": "code",
   "execution_count": 78,
   "metadata": {},
   "outputs": [
    {
     "name": "stdout",
     "output_type": "stream",
     "text": [
      "accuracy: 0.953\n",
      "confusion matrix:\n",
      "[[37  0  0  0  0  0  0  0  0  0]\n",
      " [ 0 40  0  0  0  0  0  0  2  1]\n",
      " [ 0  0 41  3  0  0  0  0  0  0]\n",
      " [ 0  0  0 44  0  0  0  0  1  0]\n",
      " [ 0  0  0  0 37  0  0  1  0  0]\n",
      " [ 0  0  0  0  0 46  0  0  0  2]\n",
      " [ 0  1  0  0  0  0 51  0  0  0]\n",
      " [ 0  0  0  1  1  0  0 46  0  0]\n",
      " [ 0  3  1  0  0  0  1  0 43  0]\n",
      " [ 0  0  0  0  0  1  0  0  2 44]]\n"
     ]
    }
   ],
   "source": [
    "from sklearn.metrics import accuracy_score\n",
    "\n",
    "X_train, X_test, y_train, y_test = train_test_split(\n",
    "    digits.data, digits.target, random_state = 0\n",
    ")\n",
    "\n",
    "lr = LogisticRegression(max_iter = 9000).fit(X_train, y_train)\n",
    "\n",
    "pred = lr.predict(X_test)\n",
    "\n",
    "print(f'accuracy: {accuracy_score(y_test, pred):.3f}')\n",
    "print(f'confusion matrix:\\n{confusion_matrix(y_test, pred)}')"
   ]
  },
  {
   "cell_type": "markdown",
   "metadata": {},
   "source": [
    "The model has an accuracy of 95.3%, which already tells us that we are doing pretty\n",
    "well. The confusion matrix provides us with some more detail."
   ]
  },
  {
   "cell_type": "code",
   "execution_count": 80,
   "metadata": {},
   "outputs": [
    {
     "data": {
      "image/png": "[encoded data removed]",
      "text/plain": [
       "<Figure size 432x288 with 1 Axes>"
      ]
     },
     "metadata": {
      "needs_background": "light"
     },
     "output_type": "display_data"
    }
   ],
   "source": [
    "scores_image = mglearn.tools.heatmap(\n",
    "    confusion_matrix(y_test, pred), xlabel = 'predicted label',\n",
    "    ylabel = 'true label', xticklabels = digits.target_names,\n",
    "    yticklabels = digits.target_names, cmap = plt.cm.gray_r,\n",
    "    fmt = '%d'\n",
    ")\n",
    "\n",
    "plt.title('confusion matrix')\n",
    "plt.gca().invert_yaxis()"
   ]
  },
  {
   "cell_type": "code",
   "execution_count": 82,
   "metadata": {},
   "outputs": [
    {
     "name": "stdout",
     "output_type": "stream",
     "text": [
      "              precision    recall  f1-score   support\n",
      "\n",
      "           0       1.00      1.00      1.00        37\n",
      "           1       0.91      0.93      0.92        43\n",
      "           2       0.98      0.93      0.95        44\n",
      "           3       0.92      0.98      0.95        45\n",
      "           4       0.97      0.97      0.97        38\n",
      "           5       0.98      0.96      0.97        48\n",
      "           6       0.98      0.98      0.98        52\n",
      "           7       0.98      0.96      0.97        48\n",
      "           8       0.90      0.90      0.90        48\n",
      "           9       0.94      0.94      0.94        47\n",
      "\n",
      "    accuracy                           0.95       450\n",
      "   macro avg       0.95      0.95      0.95       450\n",
      "weighted avg       0.95      0.95      0.95       450\n",
      "\n"
     ]
    }
   ],
   "source": [
    "# get the classification report\n",
    "print(classification_report(y_test, pred))"
   ]
  },
  {
   "cell_type": "markdown",
   "metadata": {},
   "source": [
    "The most commonly used metric for imbalanced datasets in the multiclass setting is\n",
    "the multiclass version of the f-score. The idea behind the multiclass f-score is to\n",
    "compute one binary f-score per class, with that class being the positive class and the other\n",
    "classes making up the negative classes. Then, these per-class f-scores are averaged\n",
    "using one of the following strategies:\n",
    "\n",
    " + `macro` averaging computes the unweighted per-class $f$-scores.\n",
    "    This gives equal weight to all classes, no matter what their size is. \n",
    " + `weighted` averaging computes the mean of the per-class $f$-scores, weighted by\n",
    "    their support. This is what is reported in the clsasificacion report.\n",
    " + `mico` averaging computed the total number of false positives, false negatives,\n",
    "    and true positives over all classes, and then computes precision, recall\n",
    "    and $f$-score using these counts.\n",
    "    \n",
    "If you care about each sample equally much, it is recommended to use the \"micro\"\n",
    "average f 1 -score; if you care about each class equally much, it is recommended to use\n",
    "the \"macro\" average $f1$-score:"
   ]
  },
  {
   "cell_type": "code",
   "execution_count": 85,
   "metadata": {},
   "outputs": [
    {
     "name": "stdout",
     "output_type": "stream",
     "text": [
      "micro average f1 score: 0.953333\n",
      "micro average f1 score: 0.954256\n"
     ]
    }
   ],
   "source": [
    "print(f'micro average f1 score: {f1_score(y_test, pred, average = \"micro\"):3f}')\n",
    "print(f'micro average f1 score: {f1_score(y_test, pred, average = \"macro\"):3f}')"
   ]
  },
  {
   "cell_type": "markdown",
   "metadata": {},
   "source": [
    "## __Regression Metrics__"
   ]
  },
  {
   "cell_type": "markdown",
   "metadata": {},
   "source": [
    "Evaluation for regression can be done in similar detail as we did for classification—\n",
    "for example, by analyzing overpredicting the target versus underpredicting the target.\n",
    "However, in most applications we’ve seen, using the default R 2 used in the score\n",
    "method of all regressors is enough. Sometimes business decisions are made on the\n",
    "basis of mean squared error or mean absolute error, which might give incentive to\n",
    "tune models using these metrics."
   ]
  },
  {
   "cell_type": "markdown",
   "metadata": {},
   "source": [
    "## __Using Evaluation Metrics in Model Selection__"
   ]
  },
  {
   "cell_type": "markdown",
   "metadata": {},
   "source": [
    "We have discussed many evaluation methods in detail, and how to apply them given\n",
    "the ground truth and a model. However, we often want to use metrics like AUC in\n",
    "model selection using GridSearchCV or cross_val_score . Luckily scikit-learn\n",
    "provides a very simple way to achieve this, via the scoring argument that can be used\n",
    "in both GridSearchCV and cross_val_score . You can simply provide a string\n",
    "describing the evaluation metric you want to use. Say, for example, we want to\n",
    "evaluate the SVM classifier on the “nine vs. rest” task on the digits dataset, using the AUC\n",
    "score. Changing the score from the default (accuracy) to AUC can be done by\n",
    "providing \"roc_auc\" as the scoring parameter:\n"
   ]
  },
  {
   "cell_type": "code",
   "execution_count": 87,
   "metadata": {},
   "outputs": [
    {
     "name": "stdout",
     "output_type": "stream",
     "text": [
      "default scoring: [0.975 0.992 1.    0.994 0.981]\n",
      "explicit accuracy scoring: [0.975 0.992 1.    0.994 0.981]\n",
      "AUC scoring: [0.997 0.999 1.    1.    0.984]\n"
     ]
    }
   ],
   "source": [
    "# default scoring for classification is accuracy\n",
    "print(f'default scoring: {cross_val_score(SVC(), digits.data, digits.target == 9)}')\n",
    "\n",
    "# providing scoring='accuracy' doen't change the results\n",
    "explict_accuracy = cross_val_score(SVC(), digits.data, digits.target == 9,\n",
    "                                   scoring = 'accuracy')\n",
    "\n",
    "print(f'explicit accuracy scoring: {explict_accuracy}')\n",
    "\n",
    "roc_auc = cross_val_score(SVC(), digits.data, digits.target == 9,\n",
    "                          scoring = 'roc_auc')\n",
    "\n",
    "print(f'AUC scoring: {roc_auc}')"
   ]
  },
  {
   "cell_type": "code",
   "execution_count": 88,
   "metadata": {},
   "outputs": [
    {
     "name": "stdout",
     "output_type": "stream",
     "text": [
      "Grid-Search with accuracy\n",
      "best params:  {'gamma': 0.0001}\n",
      "best cross-validation score (accuracy):  0.975500481894534\n",
      "test set AUC:  0.9919222849902327\n",
      "test set accuracy:  0.9733333333333334\n"
     ]
    }
   ],
   "source": [
    "# similarly we can change the metric used to pick the ebst\n",
    "# parameters in GridSearchCV\n",
    "X_train, X_test, y_train, y_test = train_test_split(\n",
    "    digits.data, digits.target == 9, random_state = 0\n",
    ")\n",
    "\n",
    "# we provide a somewhat bad grid to illustrate the point\n",
    "param_grid = {'gamma': [0.0001, 0.01, 0.1, 1, 10]}\n",
    "\n",
    "# using the default scoring accuracy:\n",
    "grid = GridSearchCV(SVC(), param_grid = param_grid)\n",
    "grid.fit(X_train, y_train)\n",
    "\n",
    "print('Grid-Search with accuracy')\n",
    "print('best params: ', grid.best_params_)\n",
    "print('best cross-validation score (accuracy): ', grid.best_score_)\n",
    "print('test set AUC: ', roc_auc_score(y_test, grid.decision_function(X_test)))\n",
    "print('test set accuracy: ', grid.score(X_test, y_test))"
   ]
  },
  {
   "cell_type": "code",
   "execution_count": 89,
   "metadata": {},
   "outputs": [
    {
     "name": "stdout",
     "output_type": "stream",
     "text": [
      "Grid-Search with accuracy\n",
      "best params:  {'gamma': 0.01}\n",
      "best cross-validation score (accuracy):  0.997999457969529\n",
      "test set AUC:  0.999524840293543\n",
      "test set accuracy:  0.999524840293543\n"
     ]
    }
   ],
   "source": [
    "# using AUC scoring instead\n",
    "grid = GridSearchCV(SVC(), param_grid = param_grid, scoring = 'roc_auc')\n",
    "grid.fit(X_train, y_train)\n",
    "\n",
    "print('Grid-Search with accuracy')\n",
    "print('best params: ', grid.best_params_)\n",
    "print('best cross-validation score (accuracy): ', grid.best_score_)\n",
    "print('test set AUC: ', roc_auc_score(y_test, grid.decision_function(X_test)))\n",
    "print('test set accuracy: ', grid.score(X_test, y_test))"
   ]
  },
  {
   "cell_type": "markdown",
   "metadata": {},
   "source": [
    "When using accuracy, the parameter `gamma = 0.0001` is selected, while `gamma = 0.01` is\n",
    "selected when using AUC. The cross-validation accuracy is consistent with the test set\n",
    "accuracy in both cases. However, using AUC found a better parameter setting in\n",
    "terms of AUC and even in terms of accuracy."
   ]
  },
  {
   "cell_type": "markdown",
   "metadata": {},
   "source": [
    "The most important values for the scoring parameter for classification are accuracy\n",
    "(the default); `roc_auc` for the area under the ROC curve; `average_precision` for the\n",
    "area under the precision-recall curve; `f1` , `f1_macro` , `f1_micro` , and `f1_weighted` for\n",
    "the binary $f1$-score and the different weighted variants. For regression, the most com‐\n",
    "monly used values are `r2` for the $R^2$ score, `mean_squared_error` for mean squared\n",
    "error, and `mean_absolute_error` for mean absolute error."
   ]
  },
  {
   "cell_type": "code",
   "execution_count": 91,
   "metadata": {},
   "outputs": [
    {
     "name": "stdout",
     "output_type": "stream",
     "text": [
      "['accuracy', 'adjusted_mutual_info_score', 'adjusted_rand_score', 'average_precision', 'balanced_accuracy', 'completeness_score', 'explained_variance', 'f1', 'f1_macro', 'f1_micro', 'f1_samples', 'f1_weighted', 'fowlkes_mallows_score', 'homogeneity_score', 'jaccard', 'jaccard_macro', 'jaccard_micro', 'jaccard_samples', 'jaccard_weighted', 'max_error', 'mutual_info_score', 'neg_brier_score', 'neg_log_loss', 'neg_mean_absolute_error', 'neg_mean_gamma_deviance', 'neg_mean_poisson_deviance', 'neg_mean_squared_error', 'neg_mean_squared_log_error', 'neg_median_absolute_error', 'neg_root_mean_squared_error', 'normalized_mutual_info_score', 'precision', 'precision_macro', 'precision_micro', 'precision_samples', 'precision_weighted', 'r2', 'recall', 'recall_macro', 'recall_micro', 'recall_samples', 'recall_weighted', 'roc_auc', 'roc_auc_ovo', 'roc_auc_ovo_weighted', 'roc_auc_ovr', 'roc_auc_ovr_weighted', 'v_measure_score']\n"
     ]
    }
   ],
   "source": [
    "from sklearn.metrics import SCORERS\n",
    "print(sorted(SCORERS.keys()))"
   ]
  },
  {
   "cell_type": "code",
   "execution_count": null,
   "metadata": {},
   "outputs": [],
   "source": []
  }
 ],
 "metadata": {
  "kernelspec": {
   "display_name": "Python 3.7.4 64-bit ('lab': virtualenv)",
   "language": "python",
   "name": "python37464bitlabvirtualenved77d976613b4753a84284c005b6ce98"
  },
  "language_info": {
   "codemirror_mode": {
    "name": "ipython",
    "version": 3
   },
   "file_extension": ".py",
   "mimetype": "text/x-python",
   "name": "python",
   "nbconvert_exporter": "python",
   "pygments_lexer": "ipython3",
   "version": "3.7.4"
  }
 },
 "nbformat": 4,
 "nbformat_minor": 4
}
