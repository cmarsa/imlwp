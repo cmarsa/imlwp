{
 "cells": [
  {
   "cell_type": "markdown",
   "metadata": {},
   "source": [
    "# __05 Model Evaluation and Improvement__"
   ]
  },
  {
   "cell_type": "markdown",
   "metadata": {},
   "source": [
    "To evaluate our supervised models, so far we have split our dataset into a training set\n",
    "and a test set using the `train_test_split` function, built a model on the training set\n",
    "by calling the fit method, and evaluated it on the test set using the score method,\n",
    "which for classification computes the fraction of correctly classified samples. Here’s\n",
    "an example of that process:"
   ]
  },
  {
   "cell_type": "code",
   "execution_count": 22,
   "metadata": {},
   "outputs": [
    {
     "name": "stdout",
     "output_type": "stream",
     "text": [
      "test set score: 0.88\n"
     ]
    }
   ],
   "source": [
    "from sklearn.datasets import make_blobs\n",
    "from sklearn.linear_model import LogisticRegression\n",
    "from sklearn.model_selection import train_test_split\n",
    "\n",
    "# create a synthetic dataset\n",
    "X, y = make_blobs(random_state = 0)\n",
    "\n",
    "# split data nad labels into a training and a test set\n",
    "X_train, X_test, y_train, y_test = train_test_split(X, y, random_state = 0)\n",
    "\n",
    "# instantiate a model and fit it to the training set\n",
    "logreg = LogisticRegression().fit(X_train, y_train)\n",
    "\n",
    "# evaluate the model in the test set\n",
    "print(f'test set score: {logreg.score(X_test, y_test):.2f}')"
   ]
  },
  {
   "cell_type": "markdown",
   "metadata": {},
   "source": [
    "In this chapter, we will expand on two aspects of this evaluation. We will first intro‐\n",
    "duce cross-validation, a more robust way to assess generalization performance, and\n",
    "discuss methods to evaluate classification and regression performance that go beyond\n",
    "the default measures of accuracy and $R^2$ provided by the score method."
   ]
  },
  {
   "cell_type": "markdown",
   "metadata": {},
   "source": [
    "## __Cross Validation__"
   ]
  },
  {
   "cell_type": "markdown",
   "metadata": {},
   "source": [
    "_Cross-Validation_ is a statistical method of evaluating generalization\n",
    "performance that is more stable and thorough than using a split into\n",
    "a training and a test set. I cross-validation, the data is instead split\n",
    "repeatedly and multiple models are trained.\n",
    "\n",
    "The most commonly used version of cross-validation is __k-fold cross validation__, where _k_\n",
    "is a user specified number. When performing _k-fold cross validation_, the data is first\n",
    "partitioned into _k_ parts of (approximately) equal size, called _folds_.\n",
    "Next, a sequence of models is trained. The first mdoel is trained using the first\n",
    "fold as the test set, and the remaining folds 2-_k_ are used as the training set.\n",
    "\n",
    "The model is built using the data in folds 2–k, and then the accuracy is evaluated on fold 1. Then\n",
    "another model is built, this time using fold 2 as the test set and the data in folds 1, 3,\n",
    "4, ..., _k_ as the training set. This process is repeated using folds 3, 4, ...,  _k_ as test sets.\n",
    "For each of these five splits of the data into training and test sets, we compute the\n",
    "accuracy. In the end, we have collected _k_ accuracy values."
   ]
  },
  {
   "cell_type": "code",
   "execution_count": 23,
   "metadata": {},
   "outputs": [
    {
     "data": {
      "image/png": "[encoded data removed]",
      "text/plain": [
       "<Figure size 864x144 with 1 Axes>"
      ]
     },
     "metadata": {
      "needs_background": "light"
     },
     "output_type": "display_data"
    }
   ],
   "source": [
    "import mglearn\n",
    "mglearn.plots.plot_cross_validation()"
   ]
  },
  {
   "cell_type": "code",
   "execution_count": 24,
   "metadata": {},
   "outputs": [],
   "source": [
    "# prettu print numpy floats\n",
    "import numpy as np\n",
    "np.set_printoptions(precision = 3)"
   ]
  },
  {
   "cell_type": "code",
   "execution_count": 25,
   "metadata": {},
   "outputs": [
    {
     "name": "stdout",
     "output_type": "stream",
     "text": [
      "cross-validation scores: [0.967 1.    0.933 0.967 1.   ]\n"
     ]
    }
   ],
   "source": [
    "# applying cross-validation in scikit-learn\n",
    "from sklearn.model_selection import cross_val_score\n",
    "from sklearn.datasets import load_iris\n",
    "from sklearn.linear_model import LogisticRegression\n",
    "\n",
    "iris = load_iris()\n",
    "logreg = LogisticRegression(max_iter = 9000)\n",
    "\n",
    "scores = cross_val_score(logreg, iris.data, iris.target)\n",
    "print(f'cross-validation scores: {scores}')"
   ]
  },
  {
   "cell_type": "code",
   "execution_count": 26,
   "metadata": {},
   "outputs": [
    {
     "name": "stdout",
     "output_type": "stream",
     "text": [
      "average cross-validation score: 0.973\n"
     ]
    }
   ],
   "source": [
    "# averag cross validation\n",
    "print(f'average cross-validation score: {scores.mean():.3f}')"
   ]
  },
  {
   "cell_type": "markdown",
   "metadata": {},
   "source": [
    "Using the mean cross-validation we can conclude that we expect the model to be\n",
    "around 96% accurate on average. Looking at all five scores produced by the five-fold\n",
    "cross-validation, we can also conclude that there is a relatively high variance in the\n",
    "accuracy between folds, ranging from 100% accuracy to 90% accuracy. This could\n",
    "imply that the model is very dependent on the particular folds used for training, but it\n",
    "could also just be a consequence of the small size of the dataset."
   ]
  },
  {
   "cell_type": "markdown",
   "metadata": {},
   "source": [
    "There are several benefits to using cross-validation instead of a single split into a\n",
    "training and a test set. First, remember that train_test_split performs a random\n",
    "split of the data. Imagine that we are “lucky” when randomly splitting the data, and\n",
    "all examples that are hard to classify end up in the training set. In that case, the test\n",
    "set will only contain “easy” examples, and our test set accuracy will be unrealistically\n",
    "high. Conversely, if we are “unlucky,” we might have randomly put all the hard-to-\n",
    "classify examples in the test set and consequently obtain an unrealistically low score.\n",
    "However, when using cross-validation, each example will be in the training set exactly\n",
    "once: each example is in one of the folds, and each fold is the test set once. Therefore,\n",
    "the model needs to generalize well to all of the samples in the dataset for all of the\n",
    "cross-validation scores (and their mean) to be high.\n",
    "\n",
    "Having multiple splits of the data also provides some information about how sensi‐\n",
    "tive our model is to the selection of the training dataset. For the iris dataset, we saw\n",
    "accuracies between 90% and 100%. This is quite a range, and it provides us with an\n",
    "idea about how the model might perform in the worst case and best case scenarios\n",
    "when applied to new data.\n",
    "\n",
    "Another benefit of cross-validation as compared to using a single split of the data is\n",
    "that we use our data more effectively. When using train_test_split , we usually use\n",
    "75% of the data for training and 25% of the data for evaluation. When using five-fold\n",
    "cross-validation, in each iteration we can use four-fifths of the data (80%) to fit the\n",
    "model. When using 10-fold cross-validation, we can use nine-tenths of the data\n",
    "(90%) to fit the model. More data will usually result in more accurate models."
   ]
  },
  {
   "cell_type": "markdown",
   "metadata": {},
   "source": [
    "The main disadvantage of cross-validation is increased computational cost. As we are\n",
    "now training k models instead of a single model, cross-validation will be roughly k\n",
    "times slower than doing a single split of the data."
   ]
  },
  {
   "cell_type": "markdown",
   "metadata": {},
   "source": [
    "## Stratified k-Fold Cross-Validation and Other Strategies"
   ]
  },
  {
   "cell_type": "markdown",
   "metadata": {},
   "source": [
    "scikit-learn does not use vanilla k-fold crossvalidation for classifica‐\n",
    "tion, but rather uses stratified k-fold cross-validation. In stratified cross-validation, we\n",
    "split the data such that the proportions between classes are the same in each fold as\n",
    "they are in the whole dataset."
   ]
  },
  {
   "cell_type": "code",
   "execution_count": 27,
   "metadata": {},
   "outputs": [
    {
     "data": {
      "image/png": "[encoded data removed]",
      "text/plain": [
       "<Figure size 864x360 with 2 Axes>"
      ]
     },
     "metadata": {
      "needs_background": "light"
     },
     "output_type": "display_data"
    }
   ],
   "source": [
    "mglearn.plots.plot_stratified_cross_validation()"
   ]
  },
  {
   "cell_type": "markdown",
   "metadata": {},
   "source": [
    "It is usually a good idea to use stratified k-fold cross-validation instead of k-fold\n",
    "cross-validation to evaluate a classifier, because it results in more reliable estimates of\n",
    "generalization performance. In the case of only 10% of samples belonging to class B,\n",
    "using standard k-fold cross-validation it might easily happen that one fold only con‐\n",
    "tains samples of class A. Using this fold as a test set would not be very informative\n",
    "about the overall performance of the classifier.\n",
    "\n",
    "For regression, scikit-learn uses the standard k-fold cross-validation by default. It\n",
    "would be possible to also try to make each fold representative of the different values\n",
    "the regression target has, but this is not a commonly used strategy and would be sur‐\n",
    "prising to most users."
   ]
  },
  {
   "cell_type": "markdown",
   "metadata": {},
   "source": [
    "#### More control over cross-validation"
   ]
  },
  {
   "cell_type": "markdown",
   "metadata": {},
   "source": [
    "We saw earlier that we can adjust the number of folds that are used in\n",
    "cross_val_score using the cv parameter. However, scikit-learn allows for much\n",
    "finer control over what happens during the splitting of the data by providing a cross-\n",
    "validation splitter as the cv parameter. For most use cases, the defaults of k-fold cross-\n",
    "validation for regression and stratified k-fold for classification work well, but there\n",
    "are some cases where you might want to use a different strategy. Say, for example, we\n",
    "want to use the standard k-fold cross-validation on a classification dataset to repro‐\n",
    "duce someone else’s results. To do this, we first have to import the KFold splitter class\n",
    "from the model_selection module and instantiate it with the number of folds we\n",
    "want to use:"
   ]
  },
  {
   "cell_type": "code",
   "execution_count": 28,
   "metadata": {},
   "outputs": [
    {
     "name": "stdout",
     "output_type": "stream",
     "text": [
      "cross validation scores: [0. 0. 0.]\n"
     ]
    }
   ],
   "source": [
    "from sklearn.model_selection import KFold\n",
    "kfold = KFold(n_splits = 3)\n",
    "print(f'cross validation scores: {cross_val_score(logreg, iris.data, iris.target, cv = kfold)}')"
   ]
  },
  {
   "cell_type": "markdown",
   "metadata": {},
   "source": [
    "This way, we can verify that it is indeed a really bad idea to use three-fold (nonstrati‐\n",
    "fied) cross-validation on the iris dataset."
   ]
  },
  {
   "cell_type": "code",
   "execution_count": 29,
   "metadata": {},
   "outputs": [
    {
     "name": "stdout",
     "output_type": "stream",
     "text": [
      "cross-validation scores:  [0.98 0.96 0.96]\n"
     ]
    }
   ],
   "source": [
    "# shuffle data in Kfold\n",
    "kfold = KFold(n_splits = 3, shuffle = True, random_state = 0)\n",
    "print('cross-validation scores: ', cross_val_score(logreg, iris.data, iris.target, cv = kfold))"
   ]
  },
  {
   "cell_type": "markdown",
   "metadata": {},
   "source": [
    "Another frequently used cross-validation method is __leave-one-out__. You can think of\n",
    "leave-one-out cross-validation as k-fold cross-validation where each fold is a single\n",
    "sample. For each split, you pick a single data point to be the test set. This can be very\n",
    "time consuming, particularly for large datasets, but sometimes provides better estimates on small datasets:"
   ]
  },
  {
   "cell_type": "code",
   "execution_count": 30,
   "metadata": {},
   "outputs": [
    {
     "name": "stdout",
     "output_type": "stream",
     "text": [
      "number of cv iterations:  150\n",
      "mean accuracy: 0.967\n"
     ]
    }
   ],
   "source": [
    "from sklearn.model_selection import LeaveOneOut\n",
    "loo = LeaveOneOut()\n",
    "scores = cross_val_score(logreg, iris.data, iris.target, cv = loo)\n",
    "print('number of cv iterations: ', len(scores))\n",
    "print(f'mean accuracy: {scores.mean():.3f}')"
   ]
  },
  {
   "cell_type": "markdown",
   "metadata": {},
   "source": [
    "### Shuffle-Split Cross-Validation"
   ]
  },
  {
   "cell_type": "markdown",
   "metadata": {},
   "source": [
    "Another, very flexible strategy for cross-validation is shuffle-split cross-validation. In\n",
    "shuffle-split cross-validation, each split samples `train_size` many points for the\n",
    "training set and `test_size` many (disjoint) point for the test set. This splitting is\n",
    "repeated `n_iter` times."
   ]
  },
  {
   "cell_type": "code",
   "execution_count": 31,
   "metadata": {},
   "outputs": [
    {
     "data": {
      "image/png": "[encoded data removed]",
      "text/plain": [
       "<Figure size 720x144 with 1 Axes>"
      ]
     },
     "metadata": {
      "needs_background": "light"
     },
     "output_type": "display_data"
    }
   ],
   "source": [
    "mglearn.plots.plot_shuffle_split()"
   ]
  },
  {
   "cell_type": "code",
   "execution_count": 32,
   "metadata": {},
   "outputs": [
    {
     "name": "stdout",
     "output_type": "stream",
     "text": [
      "cross-validation scores: [0.947 0.933 0.96  0.933 0.973 0.973 0.973 0.96  0.973 0.947]\n"
     ]
    }
   ],
   "source": [
    "# split dataset into 50% training set\n",
    "# and 50% test set for 10 iterations\n",
    "from sklearn.model_selection import ShuffleSplit\n",
    "shuffle_split = ShuffleSplit(test_size = 0.5, train_size = 0.5, n_splits = 10)\n",
    "scores = cross_val_score(logreg, iris.data, iris.target, cv = shuffle_split)\n",
    "print(f'cross-validation scores: {scores}')"
   ]
  },
  {
   "cell_type": "markdown",
   "metadata": {},
   "source": [
    "Shuffle-split cross-validation allows for control over the number of iterations inde‐\n",
    "pendently of the training and test sizes, which can sometimes be helpful. It also allows\n",
    "for using only part of the data in each iteration, by providing `train_size` and\n",
    "`test_size` settings that don’t add up to one. Subsampling the data in this way can be\n",
    "useful for experimenting with large datasets."
   ]
  },
  {
   "cell_type": "markdown",
   "metadata": {},
   "source": [
    "### __Cross-Validation with groups__"
   ]
  },
  {
   "cell_type": "markdown",
   "metadata": {},
   "source": [
    "Another very common setting for cross-validation is when there are groups in the\n",
    "data that are highly related. Say you want to build a system to recognize emotions\n",
    "from pictures of faces, and you collect a dataset of pictures of 100 people where each\n",
    "person is captured multiple times, showing various emotions. The goal is to build a\n",
    "classifier that can correctly identify emotions of people not in the dataset. You could\n",
    "use the default stratified cross-validation to measure the performance of a classifier\n",
    "here. However, it is likely that pictures of the same person will be in both the training\n",
    "and the test set. It will be much easier for a classifier to detect emotions in a face that\n",
    "is part of the training set, compared to a completely new face. To accurately evaluate\n",
    "the generalization to new faces, we must therefore ensure that the training and test\n",
    "sets contain images of different people."
   ]
  },
  {
   "cell_type": "markdown",
   "metadata": {},
   "source": [
    "To achieve this, we can use `GroupKFold`, which takes an array of groups ar argument that we can use to\n",
    "indicate which person is in the image. The `groups` array here indicates groups in the data\n",
    "that should not be split whenc reating the training ant test sets, and should no be\n",
    "confused with the class label.\n",
    "\n",
    "This example of groups in the data is common in medical applications, where you\n",
    "might have multiple samples from the same patient, but are interested in generalizing\n",
    "to new patients. Similarly, in speech recognition, you might have multiple recordings\n",
    "of the same speaker in your dataset, but are interested in recognizing speech of new\n",
    "speakers.\n",
    "\n",
    "The following is an example of using a synthetic dataset with a grouping given by the\n",
    "groups array. The dataset consists of 12 data points, and for each of the data points,\n",
    "groups specifies which group (think patient) the point belongs to. The groups specify\n",
    "that there are four groups, and the first three samples belong to the first group, the\n",
    "next four samples belong to the second group, and so on:"
   ]
  },
  {
   "cell_type": "code",
   "execution_count": 33,
   "metadata": {},
   "outputs": [
    {
     "name": "stdout",
     "output_type": "stream",
     "text": [
      "cross validation scores:  [0.75  0.6   0.667]\n"
     ]
    }
   ],
   "source": [
    "from sklearn.model_selection import GroupKFold\n",
    "\n",
    "# create synthetic dataset\n",
    "X, y = make_blobs(n_samples = 12, random_state = 0)\n",
    "\n",
    "# assume the first three samples belong to the same group\n",
    "# then the next four, etc\n",
    "groups = [0, 0, 0, 1, 1, 1, 1, 2, 2, 3, 3, 3]\n",
    "scores = cross_val_score(logreg, X, y, groups, cv = GroupKFold(n_splits = 3))\n",
    "print('cross validation scores: ', scores)"
   ]
  },
  {
   "cell_type": "markdown",
   "metadata": {},
   "source": [
    "As you can see, for each split, each group is either entirely in the training set or\n",
    "entirely in the test set:"
   ]
  },
  {
   "cell_type": "code",
   "execution_count": 34,
   "metadata": {},
   "outputs": [
    {
     "data": {
      "image/png": "[encoded data removed]",
      "text/plain": [
       "<Figure size 720x144 with 1 Axes>"
      ]
     },
     "metadata": {
      "needs_background": "light"
     },
     "output_type": "display_data"
    }
   ],
   "source": [
    "mglearn.plots.plot_group_kfold()"
   ]
  },
  {
   "cell_type": "markdown",
   "metadata": {},
   "source": [
    "## __Grid Search__"
   ]
  },
  {
   "cell_type": "markdown",
   "metadata": {},
   "source": [
    "Now that we know how to evaluate how well a model generalizes, we can take the\n",
    "next step and improve the model’s generalization performance by tuning its parame‐\n",
    "ters.\n",
    "Finding the values of the important parameters of a\n",
    "model (the ones that provide the best generalization performance) is a tricky task, but\n",
    "necessary for almost all models and datasets. Because it is such a common task, there\n",
    "are standard methods in scikit-learn to help you with it. The most commonly used\n",
    "method is grid search, which basically means trying all possible combinations of the\n",
    "parameters of interest.\n"
   ]
  },
  {
   "cell_type": "markdown",
   "metadata": {},
   "source": [
    "### __Simple Grid Search__"
   ]
  },
  {
   "cell_type": "markdown",
   "metadata": {},
   "source": [
    "We can implement a simple grid search just as `for` loops over the two parameters,\n",
    "training and evaluating a classifeir for each combination:\n"
   ]
  },
  {
   "cell_type": "code",
   "execution_count": 35,
   "metadata": {},
   "outputs": [
    {
     "name": "stdout",
     "output_type": "stream",
     "text": [
      "shape of training set: (112, 4)   |   shape of test set: (38, 4)\n",
      "best score: 0.97\n",
      "best parameters: {'C': 100, 'gamma': 0.001}\n"
     ]
    }
   ],
   "source": [
    "# naive grid search implementation\n",
    "from sklearn.svm import SVC\n",
    "\n",
    "X_train, X_test, y_train, y_test = train_test_split(\n",
    "    iris.data, iris.target, random_state = 0\n",
    ")\n",
    "\n",
    "print(f'shape of training set: {X_train.shape}', end = '   |   ')\n",
    "print(f'shape of test set: {X_test.shape}')\n",
    "\n",
    "best_score = 0\n",
    "for gamma in [0.001, 0.01, 0.1, 1, 10, 100]:\n",
    "    for C in [0.001, 0.01, 0.1, 1, 10, 100]:\n",
    "        # for each combination of parameters, train an SVC\n",
    "        svm = SVC(gamma = gamma, C = C)\n",
    "        svm.fit(X_train, y_train)\n",
    "        \n",
    "        #evaluate the SVC in the test set\n",
    "        score = svm.score(X_test, y_test)\n",
    "        \n",
    "        #if we got a better score, store the score and params\n",
    "        if score > best_score:\n",
    "            best_score = score\n",
    "            best_parameters = {'C': C, 'gamma': gamma}\n",
    "    \n",
    "print(f'best score: {best_score:.2f}')\n",
    "print(f'best parameters: {best_parameters}')"
   ]
  },
  {
   "cell_type": "markdown",
   "metadata": {},
   "source": [
    "### __The Danger of Overfitting the Parameters and Validation Set__"
   ]
  },
  {
   "cell_type": "markdown",
   "metadata": {},
   "source": [
    "Given this resutl, we might be tempted to report that we dounf a model that\n",
    "performs 97% accuracy on out dataset. However, this claom could be overly\n",
    "optimistic (or just wrong), for thr following reason: we tried many\n",
    "different parameters and selected the one with best accuracy on the test set, but\n",
    "this accuracy won't necessarily carry over to new data. Because we used the test data\n",
    "to adjust the parameters, we can no longer use it to asses how good the model is.\n",
    "This is the same reason we needed to split the data into training and test\n",
    "sets int he first place; we need an independent dataset to evaluateç, one that\n",
    "was not used to create the model.\n",
    "\n",
    "One way to resolve this problem is to split the data again, so we have three sets: the\n",
    "training set to build the model, the validation (or development) set to select the\n",
    "parameters of the model, and the test set to evaluate the performance of the selected\n",
    "parameters."
   ]
  },
  {
   "cell_type": "code",
   "execution_count": 36,
   "metadata": {},
   "outputs": [
    {
     "data": {
      "image/png": "[encoded data removed]",
      "text/plain": [
       "<Figure size 1080x72 with 1 Axes>"
      ]
     },
     "metadata": {
      "needs_background": "light"
     },
     "output_type": "display_data"
    }
   ],
   "source": [
    "mglearn.plots.plot_threefold_split()"
   ]
  },
  {
   "cell_type": "markdown",
   "metadata": {},
   "source": [
    "After selecting the best parameters using the validation set, we can rebuild a \n",
    "model using the parameter serings we found, but now training on both the training data\n",
    "and the validation data. This way, we can use as mich data as possible\n",
    "to build our model.\n"
   ]
  },
  {
   "cell_type": "code",
   "execution_count": 37,
   "metadata": {},
   "outputs": [
    {
     "name": "stdout",
     "output_type": "stream",
     "text": [
      "shape of training set: (84, 4)  |  shape of validation set: (28, 4)  |  shape of test set: (38, 4)\n",
      "Best score on validation set: 0.96\n",
      "Best parameters:  {'C': 10, 'gamma': 0.001}\n",
      "Test set score with best parameters: 0.92\n"
     ]
    }
   ],
   "source": [
    "# implementation of the addition of validation set\n",
    "from sklearn.svm import SVC\n",
    "\n",
    "# split data into train + validation set and test set\n",
    "X_trainval, X_test, y_trainval, y_test = train_test_split(\n",
    "    iris.data, iris.target, random_state = 0\n",
    ")\n",
    "\n",
    "# split train + validation set into training and validation set\n",
    "X_train, X_valid, y_train, y_valid = train_test_split(\n",
    "    X_trainval, y_trainval, random_state = 1\n",
    ")\n",
    "\n",
    "print(f'shape of training set: {X_train.shape}', end = '  |  ')\n",
    "print(f'shape of validation set: {X_valid.shape}', end = '  |  ')\n",
    "print(f'shape of test set: {X_test.shape}')\n",
    "\n",
    "\n",
    "best_score = 0\n",
    "model_parameters = [0.001, 0.001, 0.1, 1, 10, 100]\n",
    "for gamma in model_parameters:\n",
    "    for C in model_parameters:\n",
    "        # for each combination of parameters, train an SVC\n",
    "        svm = SVC(gamma = gamma, C = C)\n",
    "        svm.fit(X_train, y_train)\n",
    "        \n",
    "        # evaluate the SVC on the test set\n",
    "        score = svm.score(X_valid, y_valid)\n",
    "        \n",
    "        # if we got a better score, store the score and parameters\n",
    "        if score > best_score:\n",
    "            best_score = score\n",
    "            best_parameters = {'C': C, 'gamma': gamma}\n",
    "\n",
    "# rebuild a model in the combined training and validation set\n",
    "# and evaluate it on the test set\n",
    "svm = SVC(**best_parameters)\n",
    "svm.fit(X_trainval, y_trainval)\n",
    "\n",
    "test_score = svm.score(X_test, y_test)\n",
    "\n",
    "print(f\"Best score on validation set: {best_score:.2f}\")\n",
    "print(\"Best parameters: \", best_parameters)\n",
    "print(f\"Test set score with best parameters: {test_score:.2f}\")"
   ]
  },
  {
   "cell_type": "markdown",
   "metadata": {},
   "source": [
    "The best score on the validation set is 96%: slightly lower than before, probably\n",
    "because we used less data to train the model ( X_train is smaller now because we split\n",
    "our dataset twice). However, the score on the test set—the score that actually tells us\n",
    "how well we generalize—is even lower, at 92%. So we can only claim to classify new\n",
    "data 92% correctly, not 97% correctly as we thought before."
   ]
  },
  {
   "cell_type": "markdown",
   "metadata": {},
   "source": [
    "The distinction between the training set, validation set, and test set is fundamentally\n",
    "important to applying machine learning methods in practice. Any choices made\n",
    "based on the test set accuracy “leak” information from the test set into the model.\n",
    "Therefore, it is important to keep a separate test set, which is only used for the final\n",
    "evaluation. It is good practice to do all exploratory analysis and model selection using\n",
    "the combination of a training and a validation set, and reserve the test set for a final\n",
    "evaluation—this is even true for exploratory visualization. Strictly speaking, evaluat‐\n",
    "ing more than one model on the test set and choosing the better of the two will result\n",
    "in an overly optimistic estimate of how accurate the model is."
   ]
  },
  {
   "cell_type": "markdown",
   "metadata": {},
   "source": [
    "## __Grid Search with Cross-Valdiation__"
   ]
  },
  {
   "cell_type": "markdown",
   "metadata": {},
   "source": [
    "While the method of splitting the data into a training, a validation, and a test set\n",
    "that we just saw is workable, and relatively commonly used, it is quite sensitive to\n",
    "how exactly the data is split.\n",
    "\n",
    "For a better estimate of the generalziation performance, isntead of using\n",
    "a single split into a training and a validation set, we can use cross-validation to\n",
    "evaluate the performance of each parameter combination."
   ]
  },
  {
   "cell_type": "code",
   "execution_count": 49,
   "metadata": {},
   "outputs": [
    {
     "name": "stdout",
     "output_type": "stream",
     "text": [
      "shape of train-validation set: (112, 4)  |  shape of test set: (38, 4)\n",
      "Best score on validation set: 0.97\n",
      "Best parameters:  {'C': 10, 'gamma': 0.1}\n",
      "Test set score with best parameters: 0.97\n"
     ]
    }
   ],
   "source": [
    "# implementation of the addition of validation set\n",
    "from sklearn.svm import SVC\n",
    "\n",
    "# split data into train + validation set and test set\n",
    "X_trainval, X_test, y_trainval, y_test = train_test_split(\n",
    "    iris.data, iris.target, random_state = 0\n",
    ")\n",
    "\n",
    "print(f'shape of train-validation set: {X_trainval.shape}', end = '  |  ')\n",
    "print(f'shape of test set: {X_test.shape}')\n",
    "\n",
    "\n",
    "best_score = 0\n",
    "model_parameters = [0.001, 0.01, 0.1, 1, 10, 100]\n",
    "for gamma in model_parameters:\n",
    "    for C in model_parameters:\n",
    "        # for each combination of parameters, train an SVC\n",
    "        svm = SVC(gamma = gamma, C = C)\n",
    "        scores = cross_val_score(svm, X_trainval, y_trainval, cv = 5)\n",
    "        \n",
    "        # compute mean cross-validation accuracy\n",
    "        score = np.mean(scores)\n",
    "        # if we got a better score, store the score and parameters\n",
    "        if score > best_score:\n",
    "            best_score = score\n",
    "            best_parameters = {'C': C, 'gamma': gamma}\n",
    "\n",
    "# rebuild a model in the combined training and validation set\n",
    "# and evaluate it on the test set\n",
    "svm = SVC(**best_parameters)\n",
    "svm.fit(X_trainval, y_trainval)\n",
    "\n",
    "test_score = svm.score(X_test, y_test)\n",
    "\n",
    "print(f\"Best score on validation set: {best_score:.2f}\")\n",
    "print(\"Best parameters: \", best_parameters)\n",
    "print(f\"Test set score with best parameters: {test_score:.2f}\")"
   ]
  },
  {
   "cell_type": "markdown",
   "metadata": {},
   "source": [
    "For each parameter setting (only a subset is shown), five accuracy values are compu‐\n",
    "ted, one for each split in the cross-validation. Then the mean validation accuracy is\n",
    "computed for each parameter setting."
   ]
  },
  {
   "cell_type": "markdown",
   "metadata": {},
   "source": [
    "The overall process of splitting the data, running the grid srach\n",
    "and evaluating final parametes is depcited in the next diagram:"
   ]
  },
  {
   "cell_type": "code",
   "execution_count": 50,
   "metadata": {},
   "outputs": [
    {
     "data": {
      "image/png": "[encoded data removed]",
      "text/plain": [
       "<Figure size 700x210 with 1 Axes>"
      ]
     },
     "metadata": {
      "needs_background": "light"
     },
     "output_type": "display_data"
    }
   ],
   "source": [
    "mglearn.plots.plot_grid_search_overview()"
   ]
  },
  {
   "cell_type": "markdown",
   "metadata": {},
   "source": [
    "Because grid search with cross-validation is such a commonly used method to adjust\n",
    "parameters, `scikit-learn` provides the `GridSearchCV` class, which implements it in\n",
    "the form of an estimator. To use the GridSearchCV class, you first need to specify the\n",
    "parameters you want to search over using a dictionary. `GridSearchCV` will then per‐\n",
    "form all the necessary model fits. The keys of the dictionary are the names of parame‐\n",
    "ters we want to adjust (as given when constructing the model—in this case, C and\n",
    "gamma ), and the values are the parameter settings we want to try out."
   ]
  },
  {
   "cell_type": "code",
   "execution_count": 53,
   "metadata": {},
   "outputs": [
    {
     "name": "stdout",
     "output_type": "stream",
     "text": [
      "parameter grid:\n",
      "{'C': [0.001, 0.01, 0.1, 1, 10, 100], 'gamma': [0.001, 0.01, 0.1, 1, 10, 100]}\n"
     ]
    },
    {
     "data": {
      "text/plain": [
       "GridSearchCV(cv=5, error_score=nan,\n",
       "             estimator=SVC(C=1.0, break_ties=False, cache_size=200,\n",
       "                           class_weight=None, coef0=0.0,\n",
       "                           decision_function_shape='ovr', degree=3,\n",
       "                           gamma='scale', kernel='rbf', max_iter=-1,\n",
       "                           probability=False, random_state=None, shrinking=True,\n",
       "                           tol=0.001, verbose=False),\n",
       "             iid='deprecated', n_jobs=None,\n",
       "             param_grid={'C': [0.001, 0.01, 0.1, 1, 10, 100],\n",
       "                         'gamma': [0.001, 0.01, 0.1, 1, 10, 100]},\n",
       "             pre_dispatch='2*n_jobs', refit=True, return_train_score=False,\n",
       "             scoring=None, verbose=0)"
      ]
     },
     "execution_count": 53,
     "metadata": {},
     "output_type": "execute_result"
    }
   ],
   "source": [
    "param_grid = {\n",
    "    'C': [0.001, 0.01, 0.1, 1, 10, 100],\n",
    "    'gamma': [0.001, 0.01, 0.1, 1, 10, 100]\n",
    "}\n",
    "\n",
    "print(f'parameter grid:\\n{param_grid}')\n",
    "\n",
    "# now we can instntiate GridSearchCV\n",
    "from sklearn.model_selection import GridSearchCV\n",
    "from sklearn.svm import SVC\n",
    "\n",
    "grid_search = GridSearchCV(SVC(), param_grid = param_grid, cv = 5)\n",
    "\n",
    "# GridSearchCV will use cross-validation in place of the split into a training\n",
    "# and validation set that we used before. However, we still need to split\n",
    "# the data into a training and a test set, to avoid overfitting the parameters:\n",
    "X_train, X_test, y_train, y_test = train_test_split(\n",
    "    iris.data, iris.target, random_state = 0\n",
    ")\n",
    "\n",
    "# The grid_search object that we created behaves just like a\n",
    "# classifier; we can call the standard methods fit , predict , and score on it.\n",
    "grid_search.fit(X_train, y_train)"
   ]
  },
  {
   "cell_type": "code",
   "execution_count": 54,
   "metadata": {},
   "outputs": [
    {
     "name": "stdout",
     "output_type": "stream",
     "text": [
      "test set score: 0.974\n"
     ]
    }
   ],
   "source": [
    "print(f'test set score: {grid_search.score(X_test, y_test):.3f}')"
   ]
  },
  {
   "cell_type": "markdown",
   "metadata": {},
   "source": [
    "Choosing the parameters using cross-validation, we actually found a model that ach‐\n",
    "ieves 97% accuracy on the test set. The important thing here is that we did not use the\n",
    "test set to choose the parameters. The parameters that were found are scored in the\n",
    "`best_params_` attribute, and the best cross-valdiation accuracy is stored in\n",
    "`best_score_`"
   ]
  },
  {
   "cell_type": "code",
   "execution_count": 56,
   "metadata": {},
   "outputs": [
    {
     "name": "stdout",
     "output_type": "stream",
     "text": [
      "Best parameters: {'C': 10, 'gamma': 0.1}\n",
      "Best cross-validation score: 0.97\n"
     ]
    }
   ],
   "source": [
    "print(f\"Best parameters: {grid_search.best_params_}\")\n",
    "print(f\"Best cross-validation score: {grid_search.best_score_:.2f}\")"
   ]
  },
  {
   "cell_type": "markdown",
   "metadata": {},
   "source": [
    "__Again, be careful not to confuse best_score_ with the generaliza‐\n",
    "tion performance of the model as computed by the score method\n",
    "on the test set. Using the score method (or evaluating the output of\n",
    "the predict method) employs a model trained on the whole train‐\n",
    "ing set. The best_score_ attribute stores the mean cross-validation\n",
    "accuracy, with cross-validation performed on the training set.__"
   ]
  },
  {
   "cell_type": "code",
   "execution_count": 57,
   "metadata": {},
   "outputs": [
    {
     "name": "stdout",
     "output_type": "stream",
     "text": [
      "Best estimator:\n",
      "SVC(C=10, break_ties=False, cache_size=200, class_weight=None, coef0=0.0,\n",
      "    decision_function_shape='ovr', degree=3, gamma=0.1, kernel='rbf',\n",
      "    max_iter=-1, probability=False, random_state=None, shrinking=True,\n",
      "    tol=0.001, verbose=False)\n"
     ]
    }
   ],
   "source": [
    "print(f\"Best estimator:\\n{grid_search.best_estimator_}\")"
   ]
  },
  {
   "cell_type": "markdown",
   "metadata": {},
   "source": [
    "Because `grid_search` itself has predict and score methods, using `best_estimator_`\n",
    "is not needed to make predictions or evaluate the model."
   ]
  },
  {
   "cell_type": "markdown",
   "metadata": {},
   "source": [
    "### __Analyzing the result of cross-validation__"
   ]
  },
  {
   "cell_type": "code",
   "execution_count": null,
   "metadata": {},
   "outputs": [],
   "source": []
  }
 ],
 "metadata": {
  "kernelspec": {
   "display_name": "Python 3.7.4 64-bit ('lab': virtualenv)",
   "language": "python",
   "name": "python37464bitlabvirtualenved77d976613b4753a84284c005b6ce98"
  },
  "language_info": {
   "codemirror_mode": {
    "name": "ipython",
    "version": 3
   },
   "file_extension": ".py",
   "mimetype": "text/x-python",
   "name": "python",
   "nbconvert_exporter": "python",
   "pygments_lexer": "ipython3",
   "version": "3.7.4"
  }
 },
 "nbformat": 4,
 "nbformat_minor": 4
}
